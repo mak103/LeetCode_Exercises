{
 "cells": [
  {
   "cell_type": "markdown",
   "metadata": {},
   "source": [
    "The n-queens puzzle is the problem of placing n queens on an n×n chessboard such that no two queens attack each other.\n",
    "\n",
    "\n",
    "\n",
    "Given an integer n, return the number of distinct solutions to the n-queens puzzle.\n",
    "\n",
    "Example:\n",
    "\n",
    "Input: 4\n",
    "Output: 2\n",
    "Explanation: There are two distinct solutions to the 4-queens puzzle as shown below.\n",
    "[\n",
    " [\".Q..\",  // Solution 1\n",
    "  \"...Q\",\n",
    "  \"Q...\",\n",
    "  \"..Q.\"],\n",
    "\n",
    " [\"..Q.\",  // Solution 2\n",
    "  \"Q...\",\n",
    "  \"...Q\",\n",
    "  \".Q..\"]\n",
    "]"
   ]
  },
  {
   "cell_type": "code",
   "execution_count": null,
   "metadata": {},
   "outputs": [],
   "source": [
    "# My solution (144ms, 11.67%, 12.6MB, 5.26%)\n",
    "\n",
    "class Solution(object):\n",
    "    def check(self, possible, dict_):\n",
    "        import copy\n",
    "        i = len(possible)\n",
    "        if i == self.n:\n",
    "            if self.n%2 == 1 and possible[0] == int(self.n/2):\n",
    "                self.res += 1\n",
    "            else:\n",
    "                self.res += 2\n",
    "            #self.fillBoard(possible)\n",
    "            return\n",
    "        filled = dict_[i]\n",
    "        filled = list(set(filled))\n",
    "        del dict_[i]\n",
    "        for j in range(self.n):\n",
    "            if j in filled:\n",
    "                continue\n",
    "            else:\n",
    "                dict_1 = copy.deepcopy(dict_)\n",
    "                for k in range(i+1, self.n):\n",
    "                    dict_1[k].append(j)\n",
    "                    if j-(k-i) >= 0:\n",
    "                        dict_1[k].append(j-(k-i))\n",
    "                    if j+(k-i) < self.n:\n",
    "                        dict_1[k].append(j+(k-i))\n",
    "                possible.append(j)\n",
    "                self.check(possible, dict_1.copy())\n",
    "                possible.pop()\n",
    "        return \n",
    "\n",
    "    def totalNQueens(self, n):\n",
    "        \"\"\"\n",
    "        :type n: int\n",
    "        :rtype: int\n",
    "        \"\"\"\n",
    "        import copy\n",
    "        self.mark = 0\n",
    "        self.n = n\n",
    "        if n == 0:\n",
    "            return []\n",
    "        if n == 1:\n",
    "            return 1\n",
    "        self.res = 0\n",
    "        dict_ = {}\n",
    "        for i in range(1, n):\n",
    "            dict_[i] = []\n",
    "        if n%2 == 0:\n",
    "            m = n/2\n",
    "        else:\n",
    "            m = int(n/2)+1\n",
    "\n",
    "        for i in range(m):\n",
    "            possible = [i]\n",
    "            dict_1 = copy.deepcopy(dict_)\n",
    "            for j in range(1, n):\n",
    "                dict_1[j].append(i)\n",
    "                if i-j >= 0:\n",
    "                    dict_1[j].append(i-j)\n",
    "                if i+j < n:\n",
    "                    dict_1[j].append(i+j)\n",
    "            self.check(possible, dict_1.copy())\n",
    "        return self.res"
   ]
  }
 ],
 "metadata": {
  "kernelspec": {
   "display_name": "Python 3",
   "language": "python",
   "name": "python3"
  },
  "language_info": {
   "codemirror_mode": {
    "name": "ipython",
    "version": 3
   },
   "file_extension": ".py",
   "mimetype": "text/x-python",
   "name": "python",
   "nbconvert_exporter": "python",
   "pygments_lexer": "ipython3",
   "version": "3.6.7"
  },
  "varInspector": {
   "cols": {
    "lenName": 16,
    "lenType": 16,
    "lenVar": 40
   },
   "kernels_config": {
    "python": {
     "delete_cmd_postfix": "",
     "delete_cmd_prefix": "del ",
     "library": "var_list.py",
     "varRefreshCmd": "print(var_dic_list())"
    },
    "r": {
     "delete_cmd_postfix": ") ",
     "delete_cmd_prefix": "rm(",
     "library": "var_list.r",
     "varRefreshCmd": "cat(var_dic_list()) "
    }
   },
   "types_to_exclude": [
    "module",
    "function",
    "builtin_function_or_method",
    "instance",
    "_Feature"
   ],
   "window_display": false
  }
 },
 "nbformat": 4,
 "nbformat_minor": 2
}
