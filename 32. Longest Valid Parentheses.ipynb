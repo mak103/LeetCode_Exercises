{
 "cells": [
  {
   "cell_type": "markdown",
   "metadata": {},
   "source": [
    "Given a string containing just the characters '(' and ')', find the length of the longest valid (well-formed) parentheses substring.\n",
    "\n",
    "Example 1:\n",
    "\n",
    "Input: \"(()\"\n",
    "Output: 2\n",
    "Explanation: The longest valid parentheses substring is \"()\"\n",
    "Example 2:\n",
    "\n",
    "Input: \")()())\"\n",
    "Output: 4\n",
    "Explanation: The longest valid parentheses substring is \"()()\""
   ]
  },
  {
   "cell_type": "code",
   "execution_count": null,
   "metadata": {},
   "outputs": [],
   "source": [
    "# My solution (76ms, 10.37%, 13.2MB, 5.00%)\n",
    "\n",
    "class Solution(object):\n",
    "    def longestValidParentheses(self, s):\n",
    "        \"\"\"\n",
    "        :type s: str\n",
    "        :rtype: int\n",
    "        \"\"\"\n",
    "        if len(s) == 0:\n",
    "            return 0\n",
    "        while len(s) > 0 and s[0] == ')':\n",
    "            s = s[1:]\n",
    "        if len(s) == 0:\n",
    "            return 0\n",
    "        index_1, index_2 = [], [] #index of '(' and ')' in dp \n",
    "        dp = []\n",
    "        for i in s:\n",
    "            if i == '(':\n",
    "                index_1.append(len(dp))\n",
    "                dp.append(i)\n",
    "            else:\n",
    "                if len(index_1) == 0:\n",
    "                    index_2.append(len(dp))\n",
    "                    dp.append(i)\n",
    "                elif len(index_2) == 0:\n",
    "                    dp.append(2)\n",
    "                    dp.pop(index_1[-1])\n",
    "                    index_1.pop()\n",
    "                else:\n",
    "                    if index_2[-1] < index_1[-1]:\n",
    "                        dp.append(2)\n",
    "                        dp.pop(index_1[-1])\n",
    "                        index_1.pop()\n",
    "                    else:\n",
    "                        index_2.append(len(dp))\n",
    "                        dp.append(i)\n",
    "        res, temp = 0, 0\n",
    "        for i in dp:\n",
    "            try:\n",
    "                temp += i\n",
    "            except:\n",
    "                res = max(res, temp)\n",
    "                temp = 0\n",
    "        return max(res, temp)"
   ]
  }
 ],
 "metadata": {
  "kernelspec": {
   "display_name": "Python 3",
   "language": "python",
   "name": "python3"
  },
  "language_info": {
   "codemirror_mode": {
    "name": "ipython",
    "version": 3
   },
   "file_extension": ".py",
   "mimetype": "text/x-python",
   "name": "python",
   "nbconvert_exporter": "python",
   "pygments_lexer": "ipython3",
   "version": "3.6.7"
  },
  "varInspector": {
   "cols": {
    "lenName": 16,
    "lenType": 16,
    "lenVar": 40
   },
   "kernels_config": {
    "python": {
     "delete_cmd_postfix": "",
     "delete_cmd_prefix": "del ",
     "library": "var_list.py",
     "varRefreshCmd": "print(var_dic_list())"
    },
    "r": {
     "delete_cmd_postfix": ") ",
     "delete_cmd_prefix": "rm(",
     "library": "var_list.r",
     "varRefreshCmd": "cat(var_dic_list()) "
    }
   },
   "types_to_exclude": [
    "module",
    "function",
    "builtin_function_or_method",
    "instance",
    "_Feature"
   ],
   "window_display": false
  }
 },
 "nbformat": 4,
 "nbformat_minor": 2
}
