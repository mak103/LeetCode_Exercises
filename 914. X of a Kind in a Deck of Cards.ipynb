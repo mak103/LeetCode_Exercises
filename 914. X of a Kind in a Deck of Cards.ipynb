{
 "cells": [
  {
   "cell_type": "markdown",
   "metadata": {},
   "source": [
    "In a deck of cards, each card has an integer written on it.\n",
    "\n",
    "Return true if and only if you can choose X >= 2 such that it is possible to split the entire deck into 1 or more groups of cards, where:\n",
    "\n",
    "Each group has exactly X cards.\n",
    "All the cards in each group have the same integer.\n",
    " \n",
    "\n",
    "Example 1:\n",
    "\n",
    "Input: deck = [1,2,3,4,4,3,2,1]\n",
    "Output: true\n",
    "Explanation: Possible partition [1,1],[2,2],[3,3],[4,4].\n",
    "Example 2:\n",
    "\n",
    "Input: deck = [1,1,1,2,2,2,3,3]\n",
    "Output: false´\n",
    "Explanation: No possible partition.\n",
    "Example 3:\n",
    "\n",
    "Input: deck = [1]\n",
    "Output: false\n",
    "Explanation: No possible partition.\n",
    "Example 4:\n",
    "\n",
    "Input: deck = [1,1]\n",
    "Output: true\n",
    "Explanation: Possible partition [1,1].\n",
    "Example 5:\n",
    "\n",
    "Input: deck = [1,1,2,2,2,2]\n",
    "Output: true\n",
    "Explanation: Possible partition [1,1],[2,2],[2,2].\n",
    " \n",
    "\n",
    "Constraints:\n",
    "\n",
    "1 <= deck.length <= 10^4\n",
    "0 <= deck[i] < 10^4"
   ]
  },
  {
   "cell_type": "code",
   "execution_count": null,
   "metadata": {},
   "outputs": [],
   "source": [
    "# My solution (36ms, 88.33%, 13MB, 6.25%)\n",
    "\n",
    "class Solution(object):\n",
    "    def hasGroupsSizeX(self, deck):\n",
    "        \"\"\"\n",
    "        :type deck: List[int]\n",
    "        :rtype: bool\n",
    "        \"\"\"\n",
    "        dict_ = {}\n",
    "        for card in deck:\n",
    "            if card not in dict_:\n",
    "                dict_[card] = 1\n",
    "            else:\n",
    "                dict_[card] += 1\n",
    "        min_n = min(dict_.values())\n",
    "        if min_n < 2:\n",
    "            return False\n",
    "        else:\n",
    "            nums = []\n",
    "            for i in range(2, int(min_n**0.5)+1):\n",
    "                if min_n%i == 0:\n",
    "                    nums.append(i)\n",
    "                    nums.append(min_n/i)\n",
    "            nums.append(min_n)\n",
    "            nums = sorted(nums)\n",
    "            for n in nums:\n",
    "                mark = True\n",
    "                for v in dict_.values():\n",
    "                    if v%n != 0:\n",
    "                        mark = False\n",
    "                        break\n",
    "                if mark:\n",
    "                    return True\n",
    "            return False"
   ]
  }
 ],
 "metadata": {
  "kernelspec": {
   "display_name": "Python 3",
   "language": "python",
   "name": "python3"
  },
  "language_info": {
   "codemirror_mode": {
    "name": "ipython",
    "version": 3
   },
   "file_extension": ".py",
   "mimetype": "text/x-python",
   "name": "python",
   "nbconvert_exporter": "python",
   "pygments_lexer": "ipython3",
   "version": "3.6.7"
  },
  "varInspector": {
   "cols": {
    "lenName": 16,
    "lenType": 16,
    "lenVar": 40
   },
   "kernels_config": {
    "python": {
     "delete_cmd_postfix": "",
     "delete_cmd_prefix": "del ",
     "library": "var_list.py",
     "varRefreshCmd": "print(var_dic_list())"
    },
    "r": {
     "delete_cmd_postfix": ") ",
     "delete_cmd_prefix": "rm(",
     "library": "var_list.r",
     "varRefreshCmd": "cat(var_dic_list()) "
    }
   },
   "types_to_exclude": [
    "module",
    "function",
    "builtin_function_or_method",
    "instance",
    "_Feature"
   ],
   "window_display": false
  }
 },
 "nbformat": 4,
 "nbformat_minor": 2
}
