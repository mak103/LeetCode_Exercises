{
 "cells": [
  {
   "cell_type": "markdown",
   "metadata": {},
   "source": [
    "Given an array of integers A, a move consists of choosing any A[i], and incrementing it by 1.\n",
    "\n",
    "Return the least number of moves to make every value in A unique.\n",
    "\n",
    " \n",
    "\n",
    "Example 1:\n",
    "\n",
    "Input: [1,2,2]\n",
    "Output: 1\n",
    "Explanation:  After 1 move, the array could be [1, 2, 3].\n",
    "Example 2:\n",
    "\n",
    "Input: [3,2,1,2,1,7]\n",
    "Output: 6\n",
    "Explanation:  After 6 moves, the array could be [3, 4, 1, 2, 5, 7].\n",
    "It can be shown with 5 or less moves that it is impossible for the array to have all unique values.\n",
    " \n",
    "\n",
    "Note:\n",
    "\n",
    "0 <= A.length <= 40000\n",
    "0 <= A[i] < 40000"
   ]
  },
  {
   "cell_type": "code",
   "execution_count": null,
   "metadata": {},
   "outputs": [],
   "source": [
    "# My solution (2300ms, 6.82%, 20.7MB, 12.5%)\n",
    "\n",
    "class Solution(object):\n",
    "    def minIncrementForUnique(self, A):\n",
    "        \"\"\"\n",
    "        :type A: List[int]\n",
    "        :rtype: int\n",
    "        \"\"\"\n",
    "        res = 0\n",
    "        dict_ = {}\n",
    "        for a in A:\n",
    "            temp = a\n",
    "            while temp in dict_:\n",
    "                dict_[temp] += 1\n",
    "                temp += (dict_[temp]-1)\n",
    "            dict_[temp] = 1\n",
    "            res += (temp-a)      \n",
    "        return res"
   ]
  }
 ],
 "metadata": {
  "kernelspec": {
   "display_name": "Python 3",
   "language": "python",
   "name": "python3"
  },
  "language_info": {
   "codemirror_mode": {
    "name": "ipython",
    "version": 3
   },
   "file_extension": ".py",
   "mimetype": "text/x-python",
   "name": "python",
   "nbconvert_exporter": "python",
   "pygments_lexer": "ipython3",
   "version": "3.6.7"
  },
  "varInspector": {
   "cols": {
    "lenName": 16,
    "lenType": 16,
    "lenVar": 40
   },
   "kernels_config": {
    "python": {
     "delete_cmd_postfix": "",
     "delete_cmd_prefix": "del ",
     "library": "var_list.py",
     "varRefreshCmd": "print(var_dic_list())"
    },
    "r": {
     "delete_cmd_postfix": ") ",
     "delete_cmd_prefix": "rm(",
     "library": "var_list.r",
     "varRefreshCmd": "cat(var_dic_list()) "
    }
   },
   "types_to_exclude": [
    "module",
    "function",
    "builtin_function_or_method",
    "instance",
    "_Feature"
   ],
   "window_display": false
  }
 },
 "nbformat": 4,
 "nbformat_minor": 2
}
