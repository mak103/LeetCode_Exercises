{
 "cells": [
  {
   "cell_type": "markdown",
   "metadata": {},
   "source": [
    "A popular masseuse receives a sequence of back-to-back appointment requests and is debating which ones to accept. She needs a break between appointments and therefore she cannot accept any adjacent requests. Given a sequence of back-to-back appoint­ ment requests, find the optimal (highest total booked minutes) set the masseuse can honor. Return the number of minutes.\n",
    "\n",
    "Note: This problem is slightly different from the original one in the book.\n",
    "\n",
    " \n",
    "\n",
    "Example 1:\n",
    "\n",
    "Input:  [1,2,3,1]\n",
    "Output:  4\n",
    "Explanation:  Accept request 1 and 3, total minutes = 1 + 3 = 4\n",
    "Example 2:\n",
    "\n",
    "Input:  [2,7,9,3,1]\n",
    "Output:  12\n",
    "Explanation:  Accept request 1, 3 and 5, total minutes = 2 + 9 + 1 = 12\n",
    "Example 3:\n",
    "\n",
    "Input:  [2,1,4,5,3,1,1,3]\n",
    "Output:  12\n",
    "Explanation:  Accept request 1, 3, 5 and 8, total minutes = 2 + 4 + 3 + 3 = 12"
   ]
  },
  {
   "cell_type": "code",
   "execution_count": null,
   "metadata": {},
   "outputs": [],
   "source": [
    "# My solution (32ms, 8.89%, 12.6MB, 100.00%)\n",
    "\n",
    "class Solution(object):\n",
    "    def massage(self, nums):\n",
    "        \"\"\"\n",
    "        :type nums: List[int]\n",
    "        :rtype: int\n",
    "        \"\"\"\n",
    "        dp = [0, 0]\n",
    "        for n in nums:\n",
    "            dp.append(max(dp[-2]+n, dp[-1]))\n",
    "        return dp[-1]"
   ]
  }
 ],
 "metadata": {
  "kernelspec": {
   "display_name": "Python 3",
   "language": "python",
   "name": "python3"
  },
  "language_info": {
   "codemirror_mode": {
    "name": "ipython",
    "version": 3
   },
   "file_extension": ".py",
   "mimetype": "text/x-python",
   "name": "python",
   "nbconvert_exporter": "python",
   "pygments_lexer": "ipython3",
   "version": "3.6.7"
  },
  "varInspector": {
   "cols": {
    "lenName": 16,
    "lenType": 16,
    "lenVar": 40
   },
   "kernels_config": {
    "python": {
     "delete_cmd_postfix": "",
     "delete_cmd_prefix": "del ",
     "library": "var_list.py",
     "varRefreshCmd": "print(var_dic_list())"
    },
    "r": {
     "delete_cmd_postfix": ") ",
     "delete_cmd_prefix": "rm(",
     "library": "var_list.r",
     "varRefreshCmd": "cat(var_dic_list()) "
    }
   },
   "types_to_exclude": [
    "module",
    "function",
    "builtin_function_or_method",
    "instance",
    "_Feature"
   ],
   "window_display": false
  }
 },
 "nbformat": 4,
 "nbformat_minor": 2
}
