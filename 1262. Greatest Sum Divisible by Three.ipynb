{
 "cells": [
  {
   "cell_type": "markdown",
   "metadata": {},
   "source": [
    "Given an array nums of integers, we need to find the maximum possible sum of elements of the array such that it is divisible by three.\n",
    "\n",
    " \n",
    "\n",
    "Example 1:\n",
    "\n",
    "Input: nums = [3,6,5,1,8]\n",
    "Output: 18\n",
    "Explanation: Pick numbers 3, 6, 1 and 8 their sum is 18 (maximum sum divisible by 3).\n",
    "Example 2:\n",
    "\n",
    "Input: nums = [4]\n",
    "Output: 0\n",
    "Explanation: Since 4 is not divisible by 3, do not pick any number.\n",
    "Example 3:\n",
    "\n",
    "Input: nums = [1,2,3,4,4]\n",
    "Output: 12\n",
    "Explanation: Pick numbers 1, 3, 4 and 4 their sum is 12 (maximum sum divisible by 3).\n",
    " \n",
    "\n",
    "Constraints:\n",
    "\n",
    "1 <= nums.length <= 4 * 10^4\n",
    "1 <= nums[i] <= 10^4"
   ]
  },
  {
   "cell_type": "code",
   "execution_count": null,
   "metadata": {},
   "outputs": [],
   "source": [
    "# My solution (256ms, 83.08%, 16.1MB, 12.90%)\n",
    "\n",
    "class Solution(object):\n",
    "    def maxSumDivThree(self, nums):\n",
    "        \"\"\"\n",
    "        :type nums: List[int]\n",
    "        :rtype: int\n",
    "        \"\"\"\n",
    "        res = sum(nums)\n",
    "        mod = res%3\n",
    "        if mod == 0:\n",
    "            return res\n",
    "        nums[:] = sorted(nums)\n",
    "        this_mod, n_other_mod = True, 0\n",
    "        res1, res2 = res, res\n",
    "        for n in nums:\n",
    "            m = n%3\n",
    "            if m != 0 and m == mod and this_mod:\n",
    "                res1 -= n\n",
    "                this_mod = False\n",
    "            if m != 0 and m != mod and n_other_mod < 2:\n",
    "                res2 -= n\n",
    "                n_other_mod += 1\n",
    "            if not this_mod and n_other_mod == 2:\n",
    "                break\n",
    "        if n_other_mod < 2:\n",
    "            return res1\n",
    "        return max(res1,res2)"
   ]
  }
 ],
 "metadata": {
  "kernelspec": {
   "display_name": "Python 3",
   "language": "python",
   "name": "python3"
  },
  "language_info": {
   "codemirror_mode": {
    "name": "ipython",
    "version": 3
   },
   "file_extension": ".py",
   "mimetype": "text/x-python",
   "name": "python",
   "nbconvert_exporter": "python",
   "pygments_lexer": "ipython3",
   "version": "3.6.7"
  },
  "varInspector": {
   "cols": {
    "lenName": 16,
    "lenType": 16,
    "lenVar": 40
   },
   "kernels_config": {
    "python": {
     "delete_cmd_postfix": "",
     "delete_cmd_prefix": "del ",
     "library": "var_list.py",
     "varRefreshCmd": "print(var_dic_list())"
    },
    "r": {
     "delete_cmd_postfix": ") ",
     "delete_cmd_prefix": "rm(",
     "library": "var_list.r",
     "varRefreshCmd": "cat(var_dic_list()) "
    }
   },
   "types_to_exclude": [
    "module",
    "function",
    "builtin_function_or_method",
    "instance",
    "_Feature"
   ],
   "window_display": false
  }
 },
 "nbformat": 4,
 "nbformat_minor": 2
}
