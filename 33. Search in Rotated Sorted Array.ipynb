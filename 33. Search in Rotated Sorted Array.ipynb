{
 "cells": [
  {
   "cell_type": "markdown",
   "metadata": {},
   "source": [
    "Suppose an array sorted in ascending order is rotated at some pivot unknown to you beforehand.\n",
    "\n",
    "(i.e., [0,1,2,4,5,6,7] might become [4,5,6,7,0,1,2]).\n",
    "\n",
    "You are given a target value to search. If found in the array return its index, otherwise return -1.\n",
    "\n",
    "You may assume no duplicate exists in the array.\n",
    "\n",
    "Your algorithm's runtime complexity must be in the order of O(log n).\n",
    "\n",
    "Example 1:\n",
    "\n",
    "Input: nums = [4,5,6,7,0,1,2], target = 0\n",
    "Output: 4\n",
    "Example 2:\n",
    "\n",
    "Input: nums = [4,5,6,7,0,1,2], target = 3\n",
    "Output: -1"
   ]
  },
  {
   "cell_type": "code",
   "execution_count": null,
   "metadata": {},
   "outputs": [],
   "source": [
    "# My solution\n",
    "class Solution(object):\n",
    "    def search(self, nums, target):\n",
    "        \"\"\"\n",
    "        :type nums: List[int]\n",
    "        :type target: int\n",
    "        :rtype: int\n",
    "        \"\"\"\n",
    "        if len(nums) == 0:\n",
    "            return -1\n",
    "        if target >= nums[0]:\n",
    "            for i,n in enumerate(nums):\n",
    "                if nums[i] == target: \n",
    "                    return i\n",
    "                elif nums[i] > target:\n",
    "                    return -1\n",
    "                else:\n",
    "                    if i > 0:\n",
    "                        if nums[i-1] > nums[i]:\n",
    "                            return -1\n",
    "            return -1\n",
    "        else:\n",
    "            for i in range(len(nums)-1, -1, -1):\n",
    "                if nums[i] == target:\n",
    "                    return i\n",
    "                elif nums[i] < target:\n",
    "                    return -1\n",
    "                else:\n",
    "                    if i > 0:\n",
    "                        if nums[i-1] > nums[i]:\n",
    "                            return -1\n",
    "            return -1"
   ]
  },
  {
   "cell_type": "code",
   "execution_count": null,
   "metadata": {},
   "outputs": [],
   "source": [
    "# A cheating solution\n",
    "class Solution(object):\n",
    "    def search(self, nums, target):\n",
    "        \"\"\"\n",
    "        :type nums: List[int]\n",
    "        :type target: int\n",
    "        :rtype: int\n",
    "        \"\"\"\n",
    "        try:\n",
    "            return nums.index(target)\n",
    "        except:\n",
    "            return -1"
   ]
  },
  {
   "cell_type": "code",
   "execution_count": null,
   "metadata": {},
   "outputs": [],
   "source": [
    "# Another solution found online (二分法)\n",
    "class Solution(object):\n",
    "    def search(self, nums, target):\n",
    "        \"\"\"\n",
    "        :type nums: List[int]\n",
    "        :type target: int\n",
    "        :rtype: int\n",
    "        \"\"\"\n",
    "        isSorted = False\n",
    "        index = 0\n",
    "        while len(nums) >= 1:\n",
    "            if isSorted:\n",
    "                if nums[0] > target or nums[-1] < target:\n",
    "                    return -1\n",
    "            i_mid = int(len(nums)/2)\n",
    "            if nums[i_mid] == target:\n",
    "                return index + i_mid\n",
    "            elif i_mid == 0:\n",
    "                return -1\n",
    "\n",
    "            nums_l = nums[:i_mid]\n",
    "            nums_r = nums[i_mid:]\n",
    "            if isSorted:\n",
    "                if nums_l[-1] >= target:\n",
    "                    nums = nums_l\n",
    "                else:\n",
    "                    nums = nums_r\n",
    "                    index += len(nums_l)\n",
    "            else:\n",
    "                if nums_l[-1] >= nums_l[0]:\n",
    "                    if nums_l[-1] >= target and nums_l[0] <= target:\n",
    "                        nums = nums_l\n",
    "                        isSorted = True\n",
    "                    else:\n",
    "                        nums = nums_r\n",
    "                        index += len(nums_l)\n",
    "                else:\n",
    "                    if nums_r[0] <= target and nums_r[-1] >= target:\n",
    "                        nums = nums_r\n",
    "                        index += len(nums_l)\n",
    "                        isSorted = True\n",
    "                    else:\n",
    "                        nums = nums_l \n",
    "        return -1"
   ]
  }
 ],
 "metadata": {
  "kernelspec": {
   "display_name": "Python 3",
   "language": "python",
   "name": "python3"
  },
  "language_info": {
   "codemirror_mode": {
    "name": "ipython",
    "version": 3
   },
   "file_extension": ".py",
   "mimetype": "text/x-python",
   "name": "python",
   "nbconvert_exporter": "python",
   "pygments_lexer": "ipython3",
   "version": "3.6.7"
  },
  "varInspector": {
   "cols": {
    "lenName": 16,
    "lenType": 16,
    "lenVar": 40
   },
   "kernels_config": {
    "python": {
     "delete_cmd_postfix": "",
     "delete_cmd_prefix": "del ",
     "library": "var_list.py",
     "varRefreshCmd": "print(var_dic_list())"
    },
    "r": {
     "delete_cmd_postfix": ") ",
     "delete_cmd_prefix": "rm(",
     "library": "var_list.r",
     "varRefreshCmd": "cat(var_dic_list()) "
    }
   },
   "types_to_exclude": [
    "module",
    "function",
    "builtin_function_or_method",
    "instance",
    "_Feature"
   ],
   "window_display": false
  }
 },
 "nbformat": 4,
 "nbformat_minor": 2
}
