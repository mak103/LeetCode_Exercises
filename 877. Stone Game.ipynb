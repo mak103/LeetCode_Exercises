{
 "cells": [
  {
   "cell_type": "markdown",
   "metadata": {},
   "source": [
    "Alex and Lee play a game with piles of stones.  There are an even number of piles arranged in a row, and each pile has a positive integer number of stones piles[i].\n",
    "\n",
    "The objective of the game is to end with the most stones.  The total number of stones is odd, so there are no ties.\n",
    "\n",
    "Alex and Lee take turns, with Alex starting first.  Each turn, a player takes the entire pile of stones from either the beginning or the end of the row.  This continues until there are no more piles left, at which point the person with the most stones wins.\n",
    "\n",
    "Assuming Alex and Lee play optimally, return True if and only if Alex wins the game.\n",
    "\n",
    " \n",
    "\n",
    "Example 1:\n",
    "\n",
    "Input: [5,3,4,5]\n",
    "Output: true\n",
    "Explanation: \n",
    "Alex starts first, and can only take the first 5 or the last 5.\n",
    "Say he takes the first 5, so that the row becomes [3, 4, 5].\n",
    "If Lee takes 3, then the board is [4, 5], and Alex takes 5 to win with 10 points.\n",
    "If Lee takes the last 5, then the board is [3, 4], and Alex takes 4 to win with 9 points.\n",
    "This demonstrated that taking the first 5 was a winning move for Alex, so we return true.\n",
    " \n",
    "\n",
    "Note:\n",
    "\n",
    "1.2 <= piles.length <= 500\n",
    "2.piles.length is even.\n",
    "3.1 <= piles[i] <= 500\n",
    "4.sum(piles) is odd."
   ]
  },
  {
   "cell_type": "code",
   "execution_count": null,
   "metadata": {},
   "outputs": [],
   "source": [
    "# It's a math problem\n",
    "# Alex可以做到只拿奇数或者偶数，只是他可以控制的，因此他要做的就是数一下，\n",
    "#奇数加起来多还是偶数加起来多就好了。 奇数多就全部选奇数，偶数就全部选偶数。 \n",
    "#(https://github.com/azl397985856/leetcode/blob/master/problems/877.stone-game.md)\n",
    "class Solution(object):\n",
    "    def stoneGame(self, piles):\n",
    "        \"\"\"\n",
    "        :type piles: List[int]\n",
    "        :rtype: bool\n",
    "        \"\"\"\n",
    "        return True"
   ]
  }
 ],
 "metadata": {
  "kernelspec": {
   "display_name": "Python 3",
   "language": "python",
   "name": "python3"
  },
  "language_info": {
   "codemirror_mode": {
    "name": "ipython",
    "version": 3
   },
   "file_extension": ".py",
   "mimetype": "text/x-python",
   "name": "python",
   "nbconvert_exporter": "python",
   "pygments_lexer": "ipython3",
   "version": "3.6.7"
  },
  "varInspector": {
   "cols": {
    "lenName": 16,
    "lenType": 16,
    "lenVar": 40
   },
   "kernels_config": {
    "python": {
     "delete_cmd_postfix": "",
     "delete_cmd_prefix": "del ",
     "library": "var_list.py",
     "varRefreshCmd": "print(var_dic_list())"
    },
    "r": {
     "delete_cmd_postfix": ") ",
     "delete_cmd_prefix": "rm(",
     "library": "var_list.r",
     "varRefreshCmd": "cat(var_dic_list()) "
    }
   },
   "types_to_exclude": [
    "module",
    "function",
    "builtin_function_or_method",
    "instance",
    "_Feature"
   ],
   "window_display": false
  }
 },
 "nbformat": 4,
 "nbformat_minor": 2
}
