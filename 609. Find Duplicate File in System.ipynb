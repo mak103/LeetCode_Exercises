{
 "cells": [
  {
   "cell_type": "markdown",
   "metadata": {},
   "source": [
    "Given a list of directory info including directory path, and all the files with contents in this directory, you need to find out all the groups of duplicate files in the file system in terms of their paths.\n",
    "\n",
    "A group of duplicate files consists of at least two files that have exactly the same content.\n",
    "\n",
    "A single directory info string in the input list has the following format:\n",
    "\n",
    "\"root/d1/d2/.../dm f1.txt(f1_content) f2.txt(f2_content) ... fn.txt(fn_content)\"\n",
    "\n",
    "It means there are n files (f1.txt, f2.txt ... fn.txt with content f1_content, f2_content ... fn_content, respectively) in directory root/d1/d2/.../dm. Note that n >= 1 and m >= 0. If m = 0, it means the directory is just the root directory.\n",
    "\n",
    "The output is a list of group of duplicate file paths. For each group, it contains all the file paths of the files that have the same content. A file path is a string that has the following format:\n",
    "\n",
    "\"directory_path/file_name.txt\"\n",
    "\n",
    "Example 1:\n",
    "\n",
    "Input:\n",
    "[\"root/a 1.txt(abcd) 2.txt(efgh)\", \"root/c 3.txt(abcd)\", \"root/c/d 4.txt(efgh)\", \"root 4.txt(efgh)\"]\n",
    "Output:  \n",
    "[[\"root/a/2.txt\",\"root/c/d/4.txt\",\"root/4.txt\"],[\"root/a/1.txt\",\"root/c/3.txt\"]]\n",
    " \n",
    "\n",
    "Note:\n",
    "\n",
    "No order is required for the final output.\n",
    "You may assume the directory name, file name and file content only has letters and digits, and the length of file content is in the range of [1,50].\n",
    "The number of files given is in the range of [1,20000].\n",
    "You may assume no files or directories share the same name in the same directory.\n",
    "You may assume each given directory info represents a unique directory. Directory path and file info are separated by a single blank space.\n",
    " \n",
    "\n",
    "Follow-up beyond contest:\n",
    "1.Imagine you are given a real file system, how will you search files? DFS or BFS?\n",
    "2.If the file content is very large (GB level), how will you modify your solution?\n",
    "3.If you can only read the file by 1kb each time, how will you modify your solution?\n",
    "4.What is the time complexity of your modified solution? What is the most time-consuming part and memory consuming part of it? How to optimize?\n",
    "5.How to make sure the duplicated files you find are not false positive?"
   ]
  },
  {
   "cell_type": "code",
   "execution_count": null,
   "metadata": {},
   "outputs": [],
   "source": [
    "# My solution (88ms, 90.48%, 26.7%, 100%)\n",
    "\n",
    "class Solution(object):\n",
    "    def findDuplicate(self, paths):\n",
    "        \"\"\"\n",
    "        :type paths: List[str]\n",
    "        :rtype: List[List[str]]\n",
    "        \"\"\"\n",
    "        res = []\n",
    "        if len(paths) == 0:\n",
    "            return []\n",
    "        dict_ = {}\n",
    "        for path in paths:\n",
    "            path_l = path.split(' ')\n",
    "            p = path_l[0]\n",
    "            for f in path_l[1:]:\n",
    "                i = f.index('(')\n",
    "                filename = str(f[:i])\n",
    "                context = str(f[i+1:-1])\n",
    "                if context in dict_:\n",
    "                    dict_[context].append(p+'/'+filename)\n",
    "                else:\n",
    "                    dict_[context] = [p+'/'+filename]\n",
    "        for v in dict_.values():\n",
    "            if len(v) > 1:\n",
    "                res.append(v)\n",
    "        return res"
   ]
  }
 ],
 "metadata": {
  "kernelspec": {
   "display_name": "Python 3",
   "language": "python",
   "name": "python3"
  },
  "language_info": {
   "codemirror_mode": {
    "name": "ipython",
    "version": 3
   },
   "file_extension": ".py",
   "mimetype": "text/x-python",
   "name": "python",
   "nbconvert_exporter": "python",
   "pygments_lexer": "ipython3",
   "version": "3.6.7"
  },
  "varInspector": {
   "cols": {
    "lenName": 16,
    "lenType": 16,
    "lenVar": 40
   },
   "kernels_config": {
    "python": {
     "delete_cmd_postfix": "",
     "delete_cmd_prefix": "del ",
     "library": "var_list.py",
     "varRefreshCmd": "print(var_dic_list())"
    },
    "r": {
     "delete_cmd_postfix": ") ",
     "delete_cmd_prefix": "rm(",
     "library": "var_list.r",
     "varRefreshCmd": "cat(var_dic_list()) "
    }
   },
   "types_to_exclude": [
    "module",
    "function",
    "builtin_function_or_method",
    "instance",
    "_Feature"
   ],
   "window_display": false
  }
 },
 "nbformat": 4,
 "nbformat_minor": 2
}
