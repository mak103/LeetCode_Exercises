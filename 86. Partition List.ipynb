{
 "cells": [
  {
   "cell_type": "markdown",
   "metadata": {},
   "source": [
    "Given a linked list and a value x, partition it such that all nodes less than x come before nodes greater than or equal to x.\n",
    "\n",
    "You should preserve the original relative order of the nodes in each of the two partitions.\n",
    "\n",
    "Example:\n",
    "\n",
    "Input: head = 1->4->3->2->5->2, x = 3\n",
    "Output: 1->2->2->4->3->5"
   ]
  },
  {
   "cell_type": "code",
   "execution_count": null,
   "metadata": {},
   "outputs": [],
   "source": [
    "# My solution\n",
    "class Solution(object):\n",
    "    def partition(self, head, x):\n",
    "        \"\"\"\n",
    "        :type head: ListNode\n",
    "        :type x: int\n",
    "        :rtype: ListNode\n",
    "        \"\"\"\n",
    "        if head is None:\n",
    "            return None\n",
    "        l1, l2 = [], []\n",
    "        while head is not None:\n",
    "            if head.val < x:\n",
    "                l1.append(head.val)\n",
    "            else:\n",
    "                l2.append(head.val)\n",
    "            head = head.next\n",
    "        l = (l1+l2)[::-1]\n",
    "        res = ListNode(l[0])\n",
    "        for n in l[1:]:\n",
    "            temp = ListNode(n)\n",
    "            temp.next = res\n",
    "            res = temp\n",
    "        return res\n"
   ]
  }
 ],
 "metadata": {
  "kernelspec": {
   "display_name": "Python 3",
   "language": "python",
   "name": "python3"
  },
  "language_info": {
   "codemirror_mode": {
    "name": "ipython",
    "version": 3
   },
   "file_extension": ".py",
   "mimetype": "text/x-python",
   "name": "python",
   "nbconvert_exporter": "python",
   "pygments_lexer": "ipython3",
   "version": "3.6.7"
  },
  "varInspector": {
   "cols": {
    "lenName": 16,
    "lenType": 16,
    "lenVar": 40
   },
   "kernels_config": {
    "python": {
     "delete_cmd_postfix": "",
     "delete_cmd_prefix": "del ",
     "library": "var_list.py",
     "varRefreshCmd": "print(var_dic_list())"
    },
    "r": {
     "delete_cmd_postfix": ") ",
     "delete_cmd_prefix": "rm(",
     "library": "var_list.r",
     "varRefreshCmd": "cat(var_dic_list()) "
    }
   },
   "types_to_exclude": [
    "module",
    "function",
    "builtin_function_or_method",
    "instance",
    "_Feature"
   ],
   "window_display": false
  }
 },
 "nbformat": 4,
 "nbformat_minor": 2
}
