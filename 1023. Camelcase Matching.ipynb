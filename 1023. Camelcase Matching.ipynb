{
 "cells": [
  {
   "cell_type": "markdown",
   "metadata": {},
   "source": [
    "A query word matches a given pattern if we can insert lowercase letters to the pattern word so that it equals the query. (We may insert each character at any position, and may insert 0 characters.)\n",
    "\n",
    "Given a list of queries, and a pattern, return an answer list of booleans, where answer[i] is true if and only if queries[i] matches the pattern.\n",
    "\n",
    " \n",
    "\n",
    "Example 1:\n",
    "\n",
    "Input: queries = [\"FooBar\",\"FooBarTest\",\"FootBall\",\"FrameBuffer\",\"ForceFeedBack\"], pattern = \"FB\"\n",
    "Output: [true,false,true,true,false]\n",
    "Explanation: \n",
    "\"FooBar\" can be generated like this \"F\" + \"oo\" + \"B\" + \"ar\".\n",
    "\"FootBall\" can be generated like this \"F\" + \"oot\" + \"B\" + \"all\".\n",
    "\"FrameBuffer\" can be generated like this \"F\" + \"rame\" + \"B\" + \"uffer\".\n",
    "Example 2:\n",
    "\n",
    "Input: queries = [\"FooBar\",\"FooBarTest\",\"FootBall\",\"FrameBuffer\",\"ForceFeedBack\"], pattern = \"FoBa\"\n",
    "Output: [true,false,true,false,false]\n",
    "Explanation: \n",
    "\"FooBar\" can be generated like this \"Fo\" + \"o\" + \"Ba\" + \"r\".\n",
    "\"FootBall\" can be generated like this \"Fo\" + \"ot\" + \"Ba\" + \"ll\".\n",
    "Example 3:\n",
    "\n",
    "Input: queries = [\"FooBar\",\"FooBarTest\",\"FootBall\",\"FrameBuffer\",\"ForceFeedBack\"], pattern = \"FoBaT\"\n",
    "Output: [false,true,false,false,false]\n",
    "Explanation: \n",
    "\"FooBarTest\" can be generated like this \"Fo\" + \"o\" + \"Ba\" + \"r\" + \"T\" + \"est\".\n",
    " \n",
    "\n",
    "Note:\n",
    "\n",
    "1. 1 <= queries.length <= 100\n",
    "2. 1 <= queries[i].length <= 100\n",
    "3. 1 <= pattern.length <= 100\n",
    "4. All strings consists only of lower and upper case English letters."
   ]
  },
  {
   "cell_type": "code",
   "execution_count": null,
   "metadata": {},
   "outputs": [],
   "source": [
    "# My solution (16ms, 92.11%, 11.8MB, 20.00%)\n",
    "\n",
    "class Solution(object):\n",
    "    def check(self, q, pattern):\n",
    "        if len(pattern) == 0:\n",
    "            for w in q:\n",
    "                if w.isupper():\n",
    "                    return False\n",
    "            return True\n",
    "        if len(q) < len(pattern):\n",
    "            return False\n",
    "        for i, w in enumerate(q):\n",
    "            if w == pattern[0] and self.check(q[i+1:], pattern[1:]):\n",
    "                    return True\n",
    "            if w.isupper():\n",
    "                return False \n",
    "        return False\n",
    "\n",
    "    def camelMatch(self, queries, pattern):\n",
    "        \"\"\"\n",
    "        :type queries: List[str]\n",
    "        :type pattern: str\n",
    "        :rtype: List[bool]\n",
    "        \"\"\"\n",
    "        res = []\n",
    "        for q in queries:\n",
    "            res.append(self.check(q, pattern))\n",
    "        return res"
   ]
  }
 ],
 "metadata": {
  "kernelspec": {
   "display_name": "Python 3",
   "language": "python",
   "name": "python3"
  },
  "language_info": {
   "codemirror_mode": {
    "name": "ipython",
    "version": 3
   },
   "file_extension": ".py",
   "mimetype": "text/x-python",
   "name": "python",
   "nbconvert_exporter": "python",
   "pygments_lexer": "ipython3",
   "version": "3.6.7"
  },
  "varInspector": {
   "cols": {
    "lenName": 16,
    "lenType": 16,
    "lenVar": 40
   },
   "kernels_config": {
    "python": {
     "delete_cmd_postfix": "",
     "delete_cmd_prefix": "del ",
     "library": "var_list.py",
     "varRefreshCmd": "print(var_dic_list())"
    },
    "r": {
     "delete_cmd_postfix": ") ",
     "delete_cmd_prefix": "rm(",
     "library": "var_list.r",
     "varRefreshCmd": "cat(var_dic_list()) "
    }
   },
   "types_to_exclude": [
    "module",
    "function",
    "builtin_function_or_method",
    "instance",
    "_Feature"
   ],
   "window_display": false
  }
 },
 "nbformat": 4,
 "nbformat_minor": 2
}
