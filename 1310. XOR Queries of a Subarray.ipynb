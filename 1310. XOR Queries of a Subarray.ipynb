{
 "cells": [
  {
   "cell_type": "markdown",
   "metadata": {},
   "source": [
    "Given the array arr of positive integers and the array queries where queries[i] = [Li, Ri], for each query i compute the XOR of elements from Li to Ri (that is, arr[Li] xor arr[Li+1] xor ... xor arr[Ri] ). Return an array containing the result for the given queries.\n",
    " \n",
    "\n",
    "Example 1:\n",
    "\n",
    "Input: arr = [1,3,4,8], queries = [[0,1],[1,2],[0,3],[3,3]]\n",
    "Output: [2,7,14,8] \n",
    "Explanation: \n",
    "The binary representation of the elements in the array are:\n",
    "1 = 0001 \n",
    "3 = 0011 \n",
    "4 = 0100 \n",
    "8 = 1000 \n",
    "The XOR values for queries are:\n",
    "[0,1] = 1 xor 3 = 2 \n",
    "[1,2] = 3 xor 4 = 7 \n",
    "[0,3] = 1 xor 3 xor 4 xor 8 = 14 \n",
    "[3,3] = 8\n",
    "Example 2:\n",
    "\n",
    "Input: arr = [4,8,2,10], queries = [[2,3],[1,3],[0,0],[0,3]]\n",
    "Output: [8,0,4,4]\n",
    " \n",
    "\n",
    "Constraints:\n",
    "\n",
    "1 <= arr.length <= 3 * 10^4\n",
    "1 <= arr[i] <= 10^9\n",
    "1 <= queries.length <= 3 * 10^4\n",
    "queries[i].length == 2\n",
    "0 <= queries[i][0] <= queries[i][1] < arr.length"
   ]
  },
  {
   "cell_type": "code",
   "execution_count": null,
   "metadata": {},
   "outputs": [],
   "source": [
    "# My solution (680ms, 7.79%, 26.2MB, 67.86%)\n",
    "\n",
    "class Solution(object):\n",
    "    def xorQueries(self, arr, queries):\n",
    "        \"\"\"\n",
    "        :type arr: List[int]\n",
    "        :type queries: List[List[int]]\n",
    "        :rtype: List[int]\n",
    "        \"\"\"\n",
    "        l_xor = [0]\n",
    "        for n in arr:\n",
    "            l_xor.append(l_xor[-1]^n)\n",
    "        res = []\n",
    "        for q in queries:\n",
    "            res.append(l_xor[q[0]]^l_xor[q[1]+1])\n",
    "        return res"
   ]
  }
 ],
 "metadata": {
  "kernelspec": {
   "display_name": "Python 3",
   "language": "python",
   "name": "python3"
  },
  "language_info": {
   "codemirror_mode": {
    "name": "ipython",
    "version": 3
   },
   "file_extension": ".py",
   "mimetype": "text/x-python",
   "name": "python",
   "nbconvert_exporter": "python",
   "pygments_lexer": "ipython3",
   "version": "3.6.7"
  },
  "varInspector": {
   "cols": {
    "lenName": 16,
    "lenType": 16,
    "lenVar": 40
   },
   "kernels_config": {
    "python": {
     "delete_cmd_postfix": "",
     "delete_cmd_prefix": "del ",
     "library": "var_list.py",
     "varRefreshCmd": "print(var_dic_list())"
    },
    "r": {
     "delete_cmd_postfix": ") ",
     "delete_cmd_prefix": "rm(",
     "library": "var_list.r",
     "varRefreshCmd": "cat(var_dic_list()) "
    }
   },
   "types_to_exclude": [
    "module",
    "function",
    "builtin_function_or_method",
    "instance",
    "_Feature"
   ],
   "window_display": false
  }
 },
 "nbformat": 4,
 "nbformat_minor": 2
}
