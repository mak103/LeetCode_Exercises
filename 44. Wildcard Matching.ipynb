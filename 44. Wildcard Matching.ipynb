{
 "cells": [
  {
   "cell_type": "markdown",
   "metadata": {},
   "source": [
    "Given an input string (s) and a pattern (p), implement wildcard pattern matching with support for '?' and '*'.\n",
    "\n",
    "'?' Matches any single character.\n",
    "'*' Matches any sequence of characters (including the empty sequence).\n",
    "The matching should cover the entire input string (not partial).\n",
    "\n",
    "Note:\n",
    "\n",
    "s could be empty and contains only lowercase letters a-z.\n",
    "p could be empty and contains only lowercase letters a-z, and characters like ? or *.\n",
    "Example 1:\n",
    "\n",
    "Input:\n",
    "s = \"aa\"\n",
    "p = \"a\"\n",
    "Output: false\n",
    "Explanation: \"a\" does not match the entire string \"aa\".\n",
    "Example 2:\n",
    "\n",
    "Input:\n",
    "s = \"aa\"\n",
    "p = \"*\"\n",
    "Output: true\n",
    "Explanation: '*' matches any sequence.\n",
    "Example 3:\n",
    "\n",
    "Input:\n",
    "s = \"cb\"\n",
    "p = \"?a\"\n",
    "Output: false\n",
    "Explanation: '?' matches 'c', but the second letter is 'a', which does not match 'b'.\n",
    "Example 4:\n",
    "\n",
    "Input:\n",
    "s = \"adceb\"\n",
    "p = \"*a*b\"\n",
    "Output: true\n",
    "Explanation: The first '*' matches the empty sequence, while the second '*' matches the substring \"dce\".\n",
    "Example 5:\n",
    "\n",
    "Input:\n",
    "s = \"acdcb\"\n",
    "p = \"a*c?b\"\n",
    "Output: false"
   ]
  },
  {
   "cell_type": "code",
   "execution_count": null,
   "metadata": {},
   "outputs": [],
   "source": [
    "# My solution 2-d dynamic programming (488ms, 72.45%, 21.3MB, 20.97%)\n",
    "\n",
    "class Solution(object):\n",
    "    def isMatch(self, s, p):\n",
    "        \"\"\"\n",
    "        :type s: str\n",
    "        :type p: str\n",
    "        :rtype: bool\n",
    "        \"\"\"\n",
    "        if p == '*':\n",
    "            return True\n",
    "        dp = [[False for i in range(len(s)+1)] for j in range(len(p)+1)]\n",
    "        dp[0][0] = True\n",
    "        i = 0\n",
    "        while i < len(p):\n",
    "            if p[i] == '*':\n",
    "                dp[i+1][0] = True\n",
    "                i += 1\n",
    "            else:\n",
    "                break\n",
    "        for index_i, c1 in enumerate(p):\n",
    "            i = index_i + 1\n",
    "            if c1 == '*':\n",
    "                for index_j, c2 in enumerate(s):\n",
    "                    j = index_j + 1\n",
    "                    if dp[i-1][j-1] or dp[i-1][j]:\n",
    "                        for k in range(j, len(s)+1):\n",
    "                            dp[i][k] = True \n",
    "                        break\n",
    "            else:\n",
    "                for index_j, c2 in enumerate(s):\n",
    "                    j = index_j + 1\n",
    "                    if dp[i-1][j-1] and (c1 == c2 or c1 == '?'):\n",
    "                        dp[i][j] = True\n",
    "        return dp[-1][-1]"
   ]
  }
 ],
 "metadata": {
  "kernelspec": {
   "display_name": "Python 3",
   "language": "python",
   "name": "python3"
  },
  "language_info": {
   "codemirror_mode": {
    "name": "ipython",
    "version": 3
   },
   "file_extension": ".py",
   "mimetype": "text/x-python",
   "name": "python",
   "nbconvert_exporter": "python",
   "pygments_lexer": "ipython3",
   "version": "3.6.7"
  },
  "varInspector": {
   "cols": {
    "lenName": 16,
    "lenType": 16,
    "lenVar": 40
   },
   "kernels_config": {
    "python": {
     "delete_cmd_postfix": "",
     "delete_cmd_prefix": "del ",
     "library": "var_list.py",
     "varRefreshCmd": "print(var_dic_list())"
    },
    "r": {
     "delete_cmd_postfix": ") ",
     "delete_cmd_prefix": "rm(",
     "library": "var_list.r",
     "varRefreshCmd": "cat(var_dic_list()) "
    }
   },
   "types_to_exclude": [
    "module",
    "function",
    "builtin_function_or_method",
    "instance",
    "_Feature"
   ],
   "window_display": false
  }
 },
 "nbformat": 4,
 "nbformat_minor": 2
}
