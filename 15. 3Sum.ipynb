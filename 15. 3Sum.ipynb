{
 "cells": [
  {
   "cell_type": "markdown",
   "metadata": {},
   "source": [
    "Given an array nums of n integers, are there elements a, b, c in nums such that a + b + c = 0? Find all unique triplets in the array which gives the sum of zero.\n",
    "\n",
    "Note:\n",
    "\n",
    "The solution set must not contain duplicate triplets.\n",
    "\n",
    "Example:\n",
    "\n",
    "Given array nums = [-1, 0, 1, 2, -1, -4],\n",
    "\n",
    "A solution set is:\n",
    "[\n",
    "  [-1, 0, 1],\n",
    "  [-1, -1, 2]\n",
    "]"
   ]
  },
  {
   "cell_type": "code",
   "execution_count": 91,
   "metadata": {
    "ExecuteTime": {
     "end_time": "2019-03-18T17:10:20.084987Z",
     "start_time": "2019-03-18T17:10:20.072022Z"
    }
   },
   "outputs": [],
   "source": [
    "class Solution(object):\n",
    "    '''\n",
    "    First sort the original list, then record each elements' index in dictionaries \n",
    "    (For some repeated elements, first of it's index contained in dict_nums,the last\n",
    "    of it in dict_nums2). Every time I took out the smallest element, as target,if this \n",
    "    target doesn't repeat twice (or the target is 0), I delete it before twoSum() funtion\n",
    "    (if not, delete it after twoSum() funtion). The twoSum() will find pairs of elements \n",
    "    that match with the target.\n",
    "    '''\n",
    "    def threeSum(self, nums):\n",
    "        \"\"\"\n",
    "        :type nums: List[int]\n",
    "        :rtype: List[List[int]]\n",
    "        \"\"\"\n",
    "        if len(nums) < 3:\n",
    "            return []\n",
    "        nums = sorted(nums)\n",
    "        dict_nums = dict(zip(nums, list(range(len(nums)))))\n",
    "        dict_nums2 = dict(zip(nums[::-1], list(range(len(nums)))[::-1]))\n",
    "        self.output = []\n",
    "        try:\n",
    "            if dict_nums[0] - dict_nums2[0] >=2:\n",
    "                self.output.append([0,0,0])\n",
    "        except:\n",
    "            pass\n",
    "        while min(dict_nums.keys()) <= 0 and len(dict_nums) > 1:\n",
    "            target = -min(dict_nums.keys())\n",
    "            if dict_nums[-target] == dict_nums2[-target] or target ==0:\n",
    "                del dict_nums[-target]\n",
    "                del dict_nums2[-target]\n",
    "            self.twoSum(target, dict_nums, dict_nums2)\n",
    "            try: \n",
    "                del dict_nums[-target]\n",
    "                del dict_nums2[-target]\n",
    "            except:\n",
    "                pass\n",
    "        return self.output\n",
    "            \n",
    "    def twoSum(self, target, dict_nums, dict_nums2):\n",
    "        for item in dict_nums:\n",
    "            temp = target - item\n",
    "            if temp >= item:\n",
    "                try:\n",
    "                    if dict_nums2[item] < dict_nums[temp]:\n",
    "                        self.output.append([-target, item, temp])\n",
    "                except:\n",
    "                    pass\n",
    "        return"
   ]
  }
 ],
 "metadata": {
  "kernelspec": {
   "display_name": "Python 3",
   "language": "python",
   "name": "python3"
  },
  "language_info": {
   "codemirror_mode": {
    "name": "ipython",
    "version": 3
   },
   "file_extension": ".py",
   "mimetype": "text/x-python",
   "name": "python",
   "nbconvert_exporter": "python",
   "pygments_lexer": "ipython3",
   "version": "3.6.7"
  },
  "varInspector": {
   "cols": {
    "lenName": 16,
    "lenType": 16,
    "lenVar": 40
   },
   "kernels_config": {
    "python": {
     "delete_cmd_postfix": "",
     "delete_cmd_prefix": "del ",
     "library": "var_list.py",
     "varRefreshCmd": "print(var_dic_list())"
    },
    "r": {
     "delete_cmd_postfix": ") ",
     "delete_cmd_prefix": "rm(",
     "library": "var_list.r",
     "varRefreshCmd": "cat(var_dic_list()) "
    }
   },
   "types_to_exclude": [
    "module",
    "function",
    "builtin_function_or_method",
    "instance",
    "_Feature"
   ],
   "window_display": false
  }
 },
 "nbformat": 4,
 "nbformat_minor": 2
}
