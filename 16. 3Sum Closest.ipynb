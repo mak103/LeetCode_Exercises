{
 "cells": [
  {
   "cell_type": "markdown",
   "metadata": {},
   "source": [
    "Given an array nums of n integers and an integer target, find three integers in nums such that the sum is closest to target. Return the sum of the three integers. You may assume that each input would have exactly one solution.\n",
    "\n",
    "Example:\n",
    "\n",
    "Given array nums = [-1, 2, 1, -4], and target = 1.\n",
    "\n",
    "The sum that is closest to the target is 2. (-1 + 2 + 1 = 2)."
   ]
  },
  {
   "cell_type": "code",
   "execution_count": null,
   "metadata": {
    "ExecuteTime": {
     "end_time": "2019-03-22T14:49:26.465622Z",
     "start_time": "2019-03-22T14:49:26.461655Z"
    }
   },
   "outputs": [],
   "source": [
    "class Solution(object):\n",
    "    def threeSumClosest(self, nums, target):\n",
    "        \"\"\"\n",
    "        :type nums: List[int]\n",
    "        :type target: int\n",
    "        :rtype: int\n",
    "        \"\"\"\n",
    "        nums = sorted(nums)\n",
    "        diff, output = max(abs(3*nums[0]-target), abs(3*nums[-1]-target)), 0\n",
    "        for index in range(len(nums)-2):\n",
    "            l, r = index+1, len(nums)-1\n",
    "            while l < r:\n",
    "                sum3 = nums[index] + nums[l] + nums[r]\n",
    "                if abs(sum3-target) <= diff:\n",
    "                    diff = abs(sum3-target)\n",
    "                    output = sum3\n",
    "                temp = sum3-target\n",
    "                if temp > 0:\n",
    "                    r -= 1\n",
    "                elif temp < 0:\n",
    "                    l += 1\n",
    "                else:\n",
    "                    return output\n",
    "        return output"
   ]
  },
  {
   "cell_type": "code",
   "execution_count": null,
   "metadata": {},
   "outputs": [],
   "source": [
    "# the same solution\n",
    "class Solution(object):\n",
    "    def threeSumClosest(self, nums, target):\n",
    "        \"\"\"\n",
    "        :type nums: List[int]\n",
    "        :type target: int\n",
    "        :rtype: int\n",
    "        \"\"\"\n",
    "        self.nums = sorted(nums)\n",
    "        self.diff, self.output = max(abs(3*nums[0]-target), abs(3*nums[-1]-target)), 0\n",
    "        for index, item in enumerate(self.nums):\n",
    "            self.twoSumClosest(index, target)\n",
    "        return self.output\n",
    "    \n",
    "    def twoSumClosest(self, index, target):\n",
    "        l, r = index+1, len(self.nums)-1\n",
    "        while l < r:\n",
    "            temp = self.compare(index, l, r, target)\n",
    "            if temp > 0:\n",
    "                r -= 1\n",
    "            elif temp < 0:\n",
    "                l += 1\n",
    "            else:\n",
    "                break\n",
    "        return\n",
    "    \n",
    "    def compare(self, index, l, r, target):\n",
    "        sum3 = self.nums[index] + self.nums[l] + self.nums[r]\n",
    "        if abs(sum3-target) <= self.diff:\n",
    "            self.diff = abs(sum3-target)\n",
    "            self.output = sum3\n",
    "        return sum3-target"
   ]
  }
 ],
 "metadata": {
  "kernelspec": {
   "display_name": "Python 3",
   "language": "python",
   "name": "python3"
  },
  "language_info": {
   "codemirror_mode": {
    "name": "ipython",
    "version": 3
   },
   "file_extension": ".py",
   "mimetype": "text/x-python",
   "name": "python",
   "nbconvert_exporter": "python",
   "pygments_lexer": "ipython3",
   "version": "3.6.7"
  },
  "varInspector": {
   "cols": {
    "lenName": 16,
    "lenType": 16,
    "lenVar": 40
   },
   "kernels_config": {
    "python": {
     "delete_cmd_postfix": "",
     "delete_cmd_prefix": "del ",
     "library": "var_list.py",
     "varRefreshCmd": "print(var_dic_list())"
    },
    "r": {
     "delete_cmd_postfix": ") ",
     "delete_cmd_prefix": "rm(",
     "library": "var_list.r",
     "varRefreshCmd": "cat(var_dic_list()) "
    }
   },
   "types_to_exclude": [
    "module",
    "function",
    "builtin_function_or_method",
    "instance",
    "_Feature"
   ],
   "window_display": false
  }
 },
 "nbformat": 4,
 "nbformat_minor": 2
}
