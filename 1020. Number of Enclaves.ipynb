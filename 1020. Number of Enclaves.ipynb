{
 "cells": [
  {
   "cell_type": "markdown",
   "metadata": {},
   "source": [
    "Given a 2D array A, each cell is 0 (representing sea) or 1 (representing land)\n",
    "\n",
    "A move consists of walking from one land square 4-directionally to another land square, or off the boundary of the grid.\n",
    "\n",
    "Return the number of land squares in the grid for which we cannot walk off the boundary of the grid in any number of moves.\n",
    "\n",
    " \n",
    "\n",
    "Example 1:\n",
    "\n",
    "Input: [[0,0,0,0],[1,0,1,0],[0,1,1,0],[0,0,0,0]]\n",
    "Output: 3\n",
    "Explanation: \n",
    "There are three 1s that are enclosed by 0s, and one 1 that isn't enclosed because its on the boundary.\n",
    "Example 2:\n",
    "\n",
    "Input: [[0,1,1,0],[0,0,1,0],[0,0,1,0],[0,0,0,0]]\n",
    "Output: 0\n",
    "Explanation: \n",
    "All 1s are either on the boundary or can reach the boundary.\n",
    " \n",
    "\n",
    "Note:\n",
    "\n",
    "1. 1 <= A.length <= 500\n",
    "2. 1 <= A[i].length <= 500\n",
    "3. 0 <= A[i][j] <= 1\n",
    "4. All rows have the same size.\n"
   ]
  },
  {
   "cell_type": "code",
   "execution_count": null,
   "metadata": {},
   "outputs": [],
   "source": [
    "# My solution (700ms, 32.35%, 12.6MB, 100%)\n",
    "\n",
    "class Solution(object):\n",
    "    def check(self, i, j):\n",
    "        self.A[i][j] = 0\n",
    "        if i > 0 and self.A[i-1][j] == 1:\n",
    "            self.check(i-1, j)\n",
    "        if i < self.m-1 and self.A[i+1][j] == 1:\n",
    "            self.check(i+1, j)\n",
    "        if j > 0 and self.A[i][j-1] == 1:\n",
    "            self.check(i, j-1)\n",
    "        if j < self.n-1 and self.A[i][j+1] == 1:\n",
    "            self.check(i, j+1)\n",
    "        return \n",
    "\n",
    "    def numEnclaves(self, A):\n",
    "        \"\"\"\n",
    "        :type A: List[List[int]]\n",
    "        :rtype: int\n",
    "        \"\"\"\n",
    "        self.m = len(A)\n",
    "        self.n = len(A[0])\n",
    "        if self.m <= 2 or self.n <= 2:\n",
    "            return 0\n",
    "        self.A = A\n",
    "        for i in [0, self.m-1]:\n",
    "            for j in range(self.n):\n",
    "                if self.A[i][j] == 1:\n",
    "                    self.check(i, j)\n",
    "        for i in range(self.m):\n",
    "            for j in [0, self.n-1]:\n",
    "                if self.A[i][j] == 1:\n",
    "                    self.check(i, j)\n",
    "        res = 0\n",
    "        for i in range(1, self.m-1):\n",
    "            for j in range(1, self.n-1):\n",
    "                if self.A[i][j] == 1:\n",
    "                    res += 1\n",
    "        return res"
   ]
  }
 ],
 "metadata": {
  "kernelspec": {
   "display_name": "Python 3",
   "language": "python",
   "name": "python3"
  },
  "language_info": {
   "codemirror_mode": {
    "name": "ipython",
    "version": 3
   },
   "file_extension": ".py",
   "mimetype": "text/x-python",
   "name": "python",
   "nbconvert_exporter": "python",
   "pygments_lexer": "ipython3",
   "version": "3.6.7"
  },
  "varInspector": {
   "cols": {
    "lenName": 16,
    "lenType": 16,
    "lenVar": 40
   },
   "kernels_config": {
    "python": {
     "delete_cmd_postfix": "",
     "delete_cmd_prefix": "del ",
     "library": "var_list.py",
     "varRefreshCmd": "print(var_dic_list())"
    },
    "r": {
     "delete_cmd_postfix": ") ",
     "delete_cmd_prefix": "rm(",
     "library": "var_list.r",
     "varRefreshCmd": "cat(var_dic_list()) "
    }
   },
   "types_to_exclude": [
    "module",
    "function",
    "builtin_function_or_method",
    "instance",
    "_Feature"
   ],
   "window_display": false
  }
 },
 "nbformat": 4,
 "nbformat_minor": 2
}
