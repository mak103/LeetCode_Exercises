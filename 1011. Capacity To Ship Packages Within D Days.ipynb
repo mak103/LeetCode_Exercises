{
 "cells": [
  {
   "cell_type": "markdown",
   "metadata": {},
   "source": [
    "A conveyor belt has packages that must be shipped from one port to another within D days.\n",
    "\n",
    "The i-th package on the conveyor belt has a weight of weights[i].  Each day, we load the ship with packages on the conveyor belt (in the order given by weights). We may not load more weight than the maximum weight capacity of the ship.\n",
    "\n",
    "Return the least weight capacity of the ship that will result in all the packages on the conveyor belt being shipped within D days.\n",
    "\n",
    " \n",
    "\n",
    "Example 1:\n",
    "\n",
    "Input: weights = [1,2,3,4,5,6,7,8,9,10], D = 5\n",
    "Output: 15\n",
    "Explanation: \n",
    "A ship capacity of 15 is the minimum to ship all the packages in 5 days like this:\n",
    "1st day: 1, 2, 3, 4, 5\n",
    "2nd day: 6, 7\n",
    "3rd day: 8\n",
    "4th day: 9\n",
    "5th day: 10\n",
    "\n",
    "Note that the cargo must be shipped in the order given, so using a ship of capacity 14 and splitting the packages into parts like (2, 3, 4, 5), (1, 6, 7), (8), (9), (10) is not allowed. \n",
    "Example 2:\n",
    "\n",
    "Input: weights = [3,2,2,4,1,4], D = 3\n",
    "Output: 6\n",
    "Explanation: \n",
    "A ship capacity of 6 is the minimum to ship all the packages in 3 days like this:\n",
    "1st day: 3, 2\n",
    "2nd day: 2, 4\n",
    "3rd day: 1, 4\n",
    "Example 3:\n",
    "\n",
    "Input: weights = [1,2,3,1,1], D = 4\n",
    "Output: 3\n",
    "Explanation: \n",
    "1st day: 1\n",
    "2nd day: 2\n",
    "3rd day: 3\n",
    "4th day: 1, 1\n",
    " \n",
    "\n",
    "Note:\n",
    "\n",
    "1.1 <= D <= weights.length <= 50000\n",
    "2.1 <= weights[i] <= 500"
   ]
  },
  {
   "cell_type": "code",
   "execution_count": null,
   "metadata": {},
   "outputs": [],
   "source": [
    "# My solution (binary search) (404ms, 82.93%, 14.1MB, 78.95%)\n",
    "\n",
    "class Solution(object):\n",
    "    def shipWithCapacity(self, weights, c_mid):\n",
    "        c_temp = c_mid\n",
    "        d = 1\n",
    "        for w in weights:\n",
    "            if c_temp >= w:\n",
    "                c_temp -= w\n",
    "            else:\n",
    "                c_temp = c_mid - w\n",
    "                d += 1\n",
    "        return d\n",
    "\n",
    "    def shipWithinDays(self, weights, D):\n",
    "        \"\"\"\n",
    "        :type weights: List[int]\n",
    "        :type D: int\n",
    "        :rtype: int\n",
    "        \"\"\"\n",
    "        if D == 1:\n",
    "            return sum(weights)\n",
    "        if D == len(weights):\n",
    "            return max(weights)\n",
    "        if len(weights) == 1:\n",
    "            return weights[0]\n",
    "        c_min, c_max = max(weights), sum(weights)\n",
    "        c_token = 0\n",
    "        while c_max > c_min:\n",
    "            c_mid = int((c_max+c_min)/2)\n",
    "            d = self.shipWithCapacity(weights, c_mid)\n",
    "            if d == D:\n",
    "                while True:\n",
    "                    c_mid -= 1\n",
    "                    d = self.shipWithCapacity(weights, c_mid)\n",
    "                    if d != D:\n",
    "                        return c_mid + 1\n",
    "            elif d > D:\n",
    "                c_token = max(c_token, c_mid)\n",
    "                c_min = max(c_min+1, c_mid)\n",
    "            else:\n",
    "                if c_mid - c_token == 1:\n",
    "                    return c_mid\n",
    "                c_max = min(c_max-1, c_mid)\n",
    "        return c_min"
   ]
  }
 ],
 "metadata": {
  "kernelspec": {
   "display_name": "Python 3",
   "language": "python",
   "name": "python3"
  },
  "language_info": {
   "codemirror_mode": {
    "name": "ipython",
    "version": 3
   },
   "file_extension": ".py",
   "mimetype": "text/x-python",
   "name": "python",
   "nbconvert_exporter": "python",
   "pygments_lexer": "ipython3",
   "version": "3.6.7"
  },
  "varInspector": {
   "cols": {
    "lenName": 16,
    "lenType": 16,
    "lenVar": 40
   },
   "kernels_config": {
    "python": {
     "delete_cmd_postfix": "",
     "delete_cmd_prefix": "del ",
     "library": "var_list.py",
     "varRefreshCmd": "print(var_dic_list())"
    },
    "r": {
     "delete_cmd_postfix": ") ",
     "delete_cmd_prefix": "rm(",
     "library": "var_list.r",
     "varRefreshCmd": "cat(var_dic_list()) "
    }
   },
   "types_to_exclude": [
    "module",
    "function",
    "builtin_function_or_method",
    "instance",
    "_Feature"
   ],
   "window_display": false
  }
 },
 "nbformat": 4,
 "nbformat_minor": 2
}
