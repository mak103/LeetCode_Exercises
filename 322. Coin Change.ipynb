{
 "cells": [
  {
   "cell_type": "markdown",
   "metadata": {},
   "source": [
    "You are given coins of different denominations and a total amount of money amount. Write a function to compute the fewest number of coins that you need to make up that amount. If that amount of money cannot be made up by any combination of the coins, return -1.\n",
    "\n",
    "Example 1:\n",
    "\n",
    "Input: coins = [1, 2, 5], amount = 11\n",
    "Output: 3 \n",
    "Explanation: 11 = 5 + 5 + 1\n",
    "Example 2:\n",
    "\n",
    "Input: coins = [2], amount = 3\n",
    "Output: -1\n",
    "Note:\n",
    "You may assume that you have an infinite number of each kind of coin."
   ]
  },
  {
   "cell_type": "code",
   "execution_count": null,
   "metadata": {},
   "outputs": [],
   "source": [
    "# My solution, excessed time limite\n",
    "class Solution(object):\n",
    "    def coinChange(self, coins, amount):\n",
    "        \"\"\"\n",
    "        :type coins: List[int]\n",
    "        :type amount: int\n",
    "        :rtype: int\n",
    "        \"\"\"\n",
    "        if amount == 0:\n",
    "            return 0\n",
    "        if len(coins) == 0 or amount < min(coins):\n",
    "            return -1\n",
    "        if amount in coins:\n",
    "            return 1\n",
    "        dict_sum = {}\n",
    "        for c in coins:\n",
    "            dict_sum[c] = 1\n",
    "        token = 0\n",
    "        while True:\n",
    "            n_new = 0\n",
    "            len_coins = len(coins)\n",
    "            for i in range(len_coins):\n",
    "                for j in range(min(token, i), len_coins):\n",
    "                    temp = coins[i] + coins[j]\n",
    "                    if temp == amount:\n",
    "                        return dict_sum[coins[i]] + dict_sum[coins[j]]\n",
    "                    elif temp < amount and temp not in dict_sum:\n",
    "                        dict_sum[temp] = dict_sum[coins[i]] + dict_sum[coins[j]]\n",
    "                        n_new += 1\n",
    "                        coins.append(temp)\n",
    "            token = len_coins\n",
    "            if n_new == 0:\n",
    "                return -1"
   ]
  },
  {
   "cell_type": "code",
   "execution_count": null,
   "metadata": {},
   "outputs": [],
   "source": [
    "# Dynamic programming solution found online (1152ms,37.5%,12MB,57.8%)\n",
    "class Solution(object):\n",
    "    def coinChange(self, coins, amount):\n",
    "        \"\"\"\n",
    "        :type coins: List[int]\n",
    "        :type amount: int\n",
    "        :rtype: int\n",
    "        \"\"\"\n",
    "        if amount == 0:\n",
    "            return 0\n",
    "        if len(coins) == 0 or amount < min(coins):\n",
    "            return -1\n",
    "        dp = [0]+[None]*amount\n",
    "        coins = sorted(coins)\n",
    "        for i in range(1,amount+1):\n",
    "            for c in coins:\n",
    "                if c <= i and dp[i-c] is not None:\n",
    "                    if dp[i] is None:\n",
    "                        dp[i] = dp[i-c] + 1\n",
    "                    else:\n",
    "                        dp[i] = min(dp[i], dp[i-c] + 1)\n",
    "        if dp[-1] is None:\n",
    "            return -1\n",
    "        else:\n",
    "            return dp[-1]"
   ]
  }
 ],
 "metadata": {
  "kernelspec": {
   "display_name": "Python 3",
   "language": "python",
   "name": "python3"
  },
  "language_info": {
   "codemirror_mode": {
    "name": "ipython",
    "version": 3
   },
   "file_extension": ".py",
   "mimetype": "text/x-python",
   "name": "python",
   "nbconvert_exporter": "python",
   "pygments_lexer": "ipython3",
   "version": "3.6.7"
  },
  "varInspector": {
   "cols": {
    "lenName": 16,
    "lenType": 16,
    "lenVar": 40
   },
   "kernels_config": {
    "python": {
     "delete_cmd_postfix": "",
     "delete_cmd_prefix": "del ",
     "library": "var_list.py",
     "varRefreshCmd": "print(var_dic_list())"
    },
    "r": {
     "delete_cmd_postfix": ") ",
     "delete_cmd_prefix": "rm(",
     "library": "var_list.r",
     "varRefreshCmd": "cat(var_dic_list()) "
    }
   },
   "types_to_exclude": [
    "module",
    "function",
    "builtin_function_or_method",
    "instance",
    "_Feature"
   ],
   "window_display": false
  }
 },
 "nbformat": 4,
 "nbformat_minor": 2
}
