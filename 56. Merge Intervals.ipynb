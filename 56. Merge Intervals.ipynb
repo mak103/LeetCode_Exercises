{
 "cells": [
  {
   "cell_type": "markdown",
   "metadata": {
    "ExecuteTime": {
     "end_time": "2020-02-08T04:24:57.743433Z",
     "start_time": "2020-02-08T04:24:57.735468Z"
    }
   },
   "source": [
    "Given a collection of intervals, merge all overlapping intervals.\n",
    "\n",
    "Example 1:\n",
    "\n",
    "Input: [[1,3],[2,6],[8,10],[15,18]]\n",
    "Output: [[1,6],[8,10],[15,18]]\n",
    "Explanation: Since intervals [1,3] and [2,6] overlaps, merge them into [1,6].\n",
    "Example 2:\n",
    "\n",
    "Input: [[1,4],[4,5]]\n",
    "Output: [[1,5]]\n",
    "Explanation: Intervals [1,4] and [4,5] are considered overlapping.\n",
    "NOTE: input types have been changed on April 15, 2019. Please reset to default code definition to get new method signature."
   ]
  },
  {
   "cell_type": "code",
   "execution_count": null,
   "metadata": {},
   "outputs": [],
   "source": [
    "# Recursion solution, excessed memory limit\n",
    "class Solution(object):\n",
    "    def merge(self, intervals):\n",
    "        \"\"\"\n",
    "        :type intervals: List[List[int]]\n",
    "        :rtype: List[List[int]]\n",
    "        \"\"\"\n",
    "        if len(intervals) <= 1:\n",
    "            return intervals\n",
    "        for i in range(len(intervals)-1):\n",
    "            for j in range(i+1, len(intervals)):\n",
    "                l, r = intervals[i], intervals[j]\n",
    "                if l[0] > r[-1] or r[0] > l[-1]:\n",
    "                    continue\n",
    "                else:\n",
    "                    len\n",
    "                    new = [min(l[0], r[0]), max(l[-1], r[-1])]\n",
    "                    intervals.pop(j)\n",
    "                    intervals.pop(i)\n",
    "                    intervals.append(new)\n",
    "                    return self.merge(intervals)\n",
    "        return intervals"
   ]
  },
  {
   "cell_type": "code",
   "execution_count": null,
   "metadata": {
    "ExecuteTime": {
     "end_time": "2020-02-08T06:20:12.977955Z",
     "start_time": "2020-02-08T06:20:12.971945Z"
    }
   },
   "outputs": [],
   "source": [
    "# Solution found online\n",
    "class Solution(object):\n",
    "    def merge(self, intervals):\n",
    "        \"\"\"\n",
    "        :type intervals: List[List[int]]\n",
    "        :rtype: List[List[int]]\n",
    "        \"\"\"\n",
    "        if len(intervals) <= 1:\n",
    "            return intervals\n",
    "        intervals = sorted(intervals)\n",
    "        res = [intervals[0]]\n",
    "        for inte in intervals[1:]:\n",
    "            if inte[0] > res[-1][-1]:\n",
    "                res.append(inte)\n",
    "            else:\n",
    "                res[-1] = [res[-1][0], max(res[-1][-1], inte[-1])]\n",
    "        return res"
   ]
  }
 ],
 "metadata": {
  "kernelspec": {
   "display_name": "Python 3",
   "language": "python",
   "name": "python3"
  },
  "language_info": {
   "codemirror_mode": {
    "name": "ipython",
    "version": 3
   },
   "file_extension": ".py",
   "mimetype": "text/x-python",
   "name": "python",
   "nbconvert_exporter": "python",
   "pygments_lexer": "ipython3",
   "version": "3.6.7"
  },
  "varInspector": {
   "cols": {
    "lenName": 16,
    "lenType": 16,
    "lenVar": 40
   },
   "kernels_config": {
    "python": {
     "delete_cmd_postfix": "",
     "delete_cmd_prefix": "del ",
     "library": "var_list.py",
     "varRefreshCmd": "print(var_dic_list())"
    },
    "r": {
     "delete_cmd_postfix": ") ",
     "delete_cmd_prefix": "rm(",
     "library": "var_list.r",
     "varRefreshCmd": "cat(var_dic_list()) "
    }
   },
   "types_to_exclude": [
    "module",
    "function",
    "builtin_function_or_method",
    "instance",
    "_Feature"
   ],
   "window_display": false
  }
 },
 "nbformat": 4,
 "nbformat_minor": 2
}
