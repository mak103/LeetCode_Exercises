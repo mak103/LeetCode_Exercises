{
 "cells": [
  {
   "cell_type": "markdown",
   "metadata": {},
   "source": [
    "Given two arrays of integers with equal lengths, return the maximum value of:\n",
    "\n",
    "|arr1[i] - arr1[j]| + |arr2[i] - arr2[j]| + |i - j|\n",
    "\n",
    "where the maximum is taken over all 0 <= i, j < arr1.length.\n",
    "\n",
    " \n",
    "\n",
    "Example 1:\n",
    "\n",
    "Input: arr1 = [1,2,3,4], arr2 = [-1,4,5,6]\n",
    "Output: 13\n",
    "Example 2:\n",
    "\n",
    "Input: arr1 = [1,-2,-5,0,10], arr2 = [0,-2,-1,-7,-4]\n",
    "Output: 20\n",
    " \n",
    "\n",
    "Constraints:\n",
    "\n",
    "1. 2 <= arr1.length == arr2.length <= 40000\n",
    "2. -10^6 <= arr1[i], arr2[i] <= 10^6\n",
    "\n",
    "Hint: Use the idea that abs(A) + abs(B) = max(A+B, A-B, -A+B, -A-B)."
   ]
  },
  {
   "cell_type": "code",
   "execution_count": null,
   "metadata": {},
   "outputs": [],
   "source": [
    "# Solution found online\n",
    "# https://github.com/azl397985856/leetcode/blob/master/problems/1131.maximum-of-absolute-value-expression.md\n",
    "\n",
    "class Solution(object):\n",
    "    def maxAbsValExpr(self, arr1, arr2):\n",
    "        \"\"\"\n",
    "        :type arr1: List[int]\n",
    "        :type arr2: List[int]\n",
    "        :rtype: int\n",
    "        \"\"\"\n",
    "        l1, l2, l3, l4 = [], [], [], []\n",
    "        for i in range(len(arr1)):\n",
    "            l1.append(arr1[i]+arr2[i]+i)\n",
    "            l2.append(arr1[i]-arr2[i]+i)\n",
    "            l3.append(-arr1[i]+arr2[i]+i)\n",
    "            l4.append(-arr1[i]-arr2[i]+i)\n",
    "        return max(max(l1)-min(l1), max(l2)-min(l2),max(l3)-min(l3),max(l4)-min(l4))"
   ]
  }
 ],
 "metadata": {
  "kernelspec": {
   "display_name": "Python 3",
   "language": "python",
   "name": "python3"
  },
  "language_info": {
   "codemirror_mode": {
    "name": "ipython",
    "version": 3
   },
   "file_extension": ".py",
   "mimetype": "text/x-python",
   "name": "python",
   "nbconvert_exporter": "python",
   "pygments_lexer": "ipython3",
   "version": "3.6.7"
  },
  "varInspector": {
   "cols": {
    "lenName": 16,
    "lenType": 16,
    "lenVar": 40
   },
   "kernels_config": {
    "python": {
     "delete_cmd_postfix": "",
     "delete_cmd_prefix": "del ",
     "library": "var_list.py",
     "varRefreshCmd": "print(var_dic_list())"
    },
    "r": {
     "delete_cmd_postfix": ") ",
     "delete_cmd_prefix": "rm(",
     "library": "var_list.r",
     "varRefreshCmd": "cat(var_dic_list()) "
    }
   },
   "types_to_exclude": [
    "module",
    "function",
    "builtin_function_or_method",
    "instance",
    "_Feature"
   ],
   "window_display": false
  }
 },
 "nbformat": 4,
 "nbformat_minor": 2
}
