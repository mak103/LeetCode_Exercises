{
 "cells": [
  {
   "cell_type": "markdown",
   "metadata": {},
   "source": [
    "\n",
    "Say you have an array for which the ith element is the price of a given stock on day i.\n",
    "\n",
    "Design an algorithm to find the maximum profit. You may complete as many transactions as you like (ie, buy one and sell one share of the stock multiple times) with the following restrictions:\n",
    "\n",
    "You may not engage in multiple transactions at the same time (ie, you must sell the stock before you buy again).\n",
    "After you sell your stock, you cannot buy stock on next day. (ie, cooldown 1 day)\n",
    "Example:\n",
    "\n",
    "Input: [1,2,3,0,2]\n",
    "Output: 3 \n",
    "Explanation: transactions = [buy, sell, cooldown, buy, sell]"
   ]
  },
  {
   "cell_type": "code",
   "execution_count": null,
   "metadata": {},
   "outputs": [],
   "source": [
    "# Solution found online, I can't figure it out\n",
    "class Solution(object):\n",
    "    def maxProfit(self, prices):\n",
    "        \"\"\"\n",
    "        :type prices: List[int]\n",
    "        :rtype: int\n",
    "        \"\"\"\n",
    "        if len(prices) < 2:\n",
    "            return 0\n",
    "        elif len(prices) == 2:\n",
    "            return max(prices[1]-prices[0],0)\n",
    "        elif len(prices) == 3:\n",
    "            return max(prices[2]-prices[1], prices[2]-prices[0], prices[1]-prices[0], 0)\n",
    "        else:\n",
    "            buy, sell = [-prices[0], max(-prices[0],-prices[1])], [0, max(0,prices[1]-prices[0])]\n",
    "            for i in range(2, len(prices)):\n",
    "                buy.append(max(sell[i-2]-prices[i], buy[i-1]))\n",
    "                sell.append(max(sell[i-1], buy[i-1]+prices[i]))\n",
    "            return max(0,sell[-1])"
   ]
  }
 ],
 "metadata": {
  "kernelspec": {
   "display_name": "Python 3",
   "language": "python",
   "name": "python3"
  },
  "language_info": {
   "codemirror_mode": {
    "name": "ipython",
    "version": 3
   },
   "file_extension": ".py",
   "mimetype": "text/x-python",
   "name": "python",
   "nbconvert_exporter": "python",
   "pygments_lexer": "ipython3",
   "version": "3.6.7"
  },
  "varInspector": {
   "cols": {
    "lenName": 16,
    "lenType": 16,
    "lenVar": 40
   },
   "kernels_config": {
    "python": {
     "delete_cmd_postfix": "",
     "delete_cmd_prefix": "del ",
     "library": "var_list.py",
     "varRefreshCmd": "print(var_dic_list())"
    },
    "r": {
     "delete_cmd_postfix": ") ",
     "delete_cmd_prefix": "rm(",
     "library": "var_list.r",
     "varRefreshCmd": "cat(var_dic_list()) "
    }
   },
   "types_to_exclude": [
    "module",
    "function",
    "builtin_function_or_method",
    "instance",
    "_Feature"
   ],
   "window_display": false
  }
 },
 "nbformat": 4,
 "nbformat_minor": 2
}
