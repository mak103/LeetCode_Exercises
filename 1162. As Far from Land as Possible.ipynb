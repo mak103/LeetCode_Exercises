{
 "cells": [
  {
   "cell_type": "markdown",
   "metadata": {},
   "source": [
    "Given an N x N grid containing only values 0 and 1, where 0 represents water and 1 represents land, find a water cell such that its distance to the nearest land cell is maximized and return the distance.\n",
    "\n",
    "The distance used in this problem is the Manhattan distance: the distance between two cells (x0, y0) and (x1, y1) is |x0 - x1| + |y0 - y1|.\n",
    "\n",
    "If no land or water exists in the grid, return -1.\n",
    "\n",
    " \n",
    "\n",
    "Example 1:\n",
    "\n",
    "\n",
    "\n",
    "Input: [[1,0,1],[0,0,0],[1,0,1]]\n",
    "Output: 2\n",
    "Explanation: \n",
    "The cell (1, 1) is as far as possible from all the land with distance 2.\n",
    "Example 2:\n",
    "\n",
    "\n",
    "\n",
    "Input: [[1,0,0],[0,0,0],[0,0,0]]\n",
    "Output: 4\n",
    "Explanation: \n",
    "The cell (2, 2) is as far as possible from all the land with distance 4.\n",
    " \n",
    "\n",
    "Note:\n",
    "\n",
    "1 <= grid.length == grid[0].length <= 100\n",
    "grid[i][j] is 0 or 1"
   ]
  },
  {
   "cell_type": "code",
   "execution_count": null,
   "metadata": {},
   "outputs": [],
   "source": [
    "# My solution with the hint of \"rotting orange\" (452ms, 95.56%, 12.9MB, 100.00%)\n",
    "\n",
    "class Solution(object):\n",
    "    def count_sum(self, grid):\n",
    "        n = len(grid)\n",
    "        res = 0\n",
    "        for i in range(n):\n",
    "            res += sum(grid[i])\n",
    "        return res\n",
    "\n",
    "    def maxDistance(self, grid):\n",
    "        \"\"\"\n",
    "        :type grid: List[List[int]]\n",
    "        :rtype: int\n",
    "        \"\"\"\n",
    "        n = len(grid)\n",
    "        sum_grid = self.count_sum(grid)\n",
    "        if sum_grid == 0 or sum_grid == n**2:\n",
    "            return -1\n",
    "        res = 0 \n",
    "        while True:\n",
    "            grid_ = []\n",
    "            for i in range(n):\n",
    "                temp = []\n",
    "                for j in range(n):\n",
    "                    if grid[i][j] == 1:\n",
    "                        temp.append(1)\n",
    "                    elif i > 0 and grid[i-1][j] == 1:\n",
    "                        temp.append(1)\n",
    "                    elif i < n-1 and grid[i+1][j] == 1:\n",
    "                        temp.append(1)\n",
    "                    elif j > 0 and grid[i][j-1] == 1:\n",
    "                        temp.append(1)\n",
    "                    elif j < n-1 and grid[i][j+1] == 1:\n",
    "                        temp.append(1)\n",
    "                    else:\n",
    "                        temp.append(0)\n",
    "                grid_.append(temp)\n",
    "            del grid\n",
    "            grid = grid_\n",
    "            res += 1\n",
    "            if self.count_sum(grid) == n**2:\n",
    "                return res"
   ]
  }
 ],
 "metadata": {
  "kernelspec": {
   "display_name": "Python 3",
   "language": "python",
   "name": "python3"
  },
  "language_info": {
   "codemirror_mode": {
    "name": "ipython",
    "version": 3
   },
   "file_extension": ".py",
   "mimetype": "text/x-python",
   "name": "python",
   "nbconvert_exporter": "python",
   "pygments_lexer": "ipython3",
   "version": "3.6.7"
  },
  "varInspector": {
   "cols": {
    "lenName": 16,
    "lenType": 16,
    "lenVar": 40
   },
   "kernels_config": {
    "python": {
     "delete_cmd_postfix": "",
     "delete_cmd_prefix": "del ",
     "library": "var_list.py",
     "varRefreshCmd": "print(var_dic_list())"
    },
    "r": {
     "delete_cmd_postfix": ") ",
     "delete_cmd_prefix": "rm(",
     "library": "var_list.r",
     "varRefreshCmd": "cat(var_dic_list()) "
    }
   },
   "types_to_exclude": [
    "module",
    "function",
    "builtin_function_or_method",
    "instance",
    "_Feature"
   ],
   "window_display": false
  }
 },
 "nbformat": 4,
 "nbformat_minor": 2
}
