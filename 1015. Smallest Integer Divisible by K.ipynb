{
 "cells": [
  {
   "cell_type": "markdown",
   "metadata": {},
   "source": [
    "Given a positive integer K, you need find the smallest positive integer N such that N is divisible by K, and N only contains the digit 1.\n",
    "\n",
    "Return the length of N.  If there is no such N, return -1.\n",
    "\n",
    " \n",
    "\n",
    "Example 1:\n",
    "\n",
    "Input: 1\n",
    "Output: 1\n",
    "Explanation: The smallest answer is N = 1, which has length 1.\n",
    "Example 2:\n",
    "\n",
    "Input: 2\n",
    "Output: -1\n",
    "Explanation: There is no such positive integer N divisible by 2.\n",
    "Example 3:\n",
    "\n",
    "Input: 3\n",
    "Output: 3\n",
    "Explanation: The smallest answer is N = 111, which has length 3.\n",
    " \n",
    "\n",
    "Note:\n",
    "\n",
    "1 <= K <= 10^5"
   ]
  },
  {
   "cell_type": "code",
   "execution_count": null,
   "metadata": {},
   "outputs": [],
   "source": [
    "# My solution (56ms, 30%, 14.2MB, 20%)\n",
    "# hint 1: 11111 = 1111 * 10 + 1 We only need to store remainders modulo K.\n",
    "# hint 2: If we never get a remainder of 0, why would that happen, and how would we know that?\n",
    "\n",
    "class Solution(object):\n",
    "    def smallestRepunitDivByK(self, K):\n",
    "        \"\"\"\n",
    "        :type K: int\n",
    "        :rtype: int\n",
    "        \"\"\"\n",
    "        res, mod = 1, 1\n",
    "        l = {}\n",
    "        while True:\n",
    "            mod = mod % K\n",
    "            if mod == 0:\n",
    "                return res\n",
    "            res += 1\n",
    "            if mod in l:\n",
    "                return -1\n",
    "            l[mod] = 1\n",
    "            mod = 10*mod + 1\n",
    "        return res"
   ]
  }
 ],
 "metadata": {
  "kernelspec": {
   "display_name": "Python 3",
   "language": "python",
   "name": "python3"
  },
  "language_info": {
   "codemirror_mode": {
    "name": "ipython",
    "version": 3
   },
   "file_extension": ".py",
   "mimetype": "text/x-python",
   "name": "python",
   "nbconvert_exporter": "python",
   "pygments_lexer": "ipython3",
   "version": "3.6.7"
  },
  "varInspector": {
   "cols": {
    "lenName": 16,
    "lenType": 16,
    "lenVar": 40
   },
   "kernels_config": {
    "python": {
     "delete_cmd_postfix": "",
     "delete_cmd_prefix": "del ",
     "library": "var_list.py",
     "varRefreshCmd": "print(var_dic_list())"
    },
    "r": {
     "delete_cmd_postfix": ") ",
     "delete_cmd_prefix": "rm(",
     "library": "var_list.r",
     "varRefreshCmd": "cat(var_dic_list()) "
    }
   },
   "types_to_exclude": [
    "module",
    "function",
    "builtin_function_or_method",
    "instance",
    "_Feature"
   ],
   "window_display": false
  }
 },
 "nbformat": 4,
 "nbformat_minor": 2
}
