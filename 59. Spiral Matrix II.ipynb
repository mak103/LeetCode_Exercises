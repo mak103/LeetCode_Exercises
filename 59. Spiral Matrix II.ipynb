{
 "cells": [
  {
   "cell_type": "markdown",
   "metadata": {},
   "source": [
    "Given a positive integer n, generate a square matrix filled with elements from 1 to n2 in spiral order.\n",
    "\n",
    "Example:\n",
    "\n",
    "Input: 3\n",
    "Output:\n",
    "[\n",
    " [ 1, 2, 3 ],\n",
    " [ 8, 9, 4 ],\n",
    " [ 7, 6, 5 ]\n",
    "]"
   ]
  },
  {
   "cell_type": "code",
   "execution_count": null,
   "metadata": {},
   "outputs": [],
   "source": [
    "# My solution (24ms, 44.94%, 12.7MB, 5.77%)\n",
    "\n",
    "class Solution(object):\n",
    "    def generateMatrix(self, n):\n",
    "        \"\"\"\n",
    "        :type n: int\n",
    "        :rtype: List[List[int]]\n",
    "        \"\"\"\n",
    "        if n == 0:\n",
    "            return []\n",
    "        res = [['*' for i in range(n)] for j in range(n)]\n",
    "        i, j = 0, 0\n",
    "        dire = 'right'\n",
    "        count = 1\n",
    "        while count <= n**2:\n",
    "            res[i][j] = count\n",
    "            count += 1\n",
    "            if dire == 'right':\n",
    "                if j == n-1 or res[i][j+1] != '*':\n",
    "                    i += 1\n",
    "                    dire = 'down'\n",
    "                else:\n",
    "                    j += 1\n",
    "            elif dire == 'down':\n",
    "                if i == n-1 or res[i+1][j] != '*':\n",
    "                    j -= 1\n",
    "                    dire = 'left'\n",
    "                else:\n",
    "                    i += 1\n",
    "            elif dire == 'left':\n",
    "                if j == 0 or res[i][j-1] != '*':\n",
    "                    i -= 1\n",
    "                    dire = 'up'\n",
    "                else:\n",
    "                    j -= 1\n",
    "            elif dire == 'up':\n",
    "                if res[i-1][j] != '*':\n",
    "                    j += 1\n",
    "                    dire = 'right'\n",
    "                else:\n",
    "                    i -= 1\n",
    "        return res"
   ]
  }
 ],
 "metadata": {
  "kernelspec": {
   "display_name": "Python 3",
   "language": "python",
   "name": "python3"
  },
  "language_info": {
   "codemirror_mode": {
    "name": "ipython",
    "version": 3
   },
   "file_extension": ".py",
   "mimetype": "text/x-python",
   "name": "python",
   "nbconvert_exporter": "python",
   "pygments_lexer": "ipython3",
   "version": "3.6.7"
  },
  "varInspector": {
   "cols": {
    "lenName": 16,
    "lenType": 16,
    "lenVar": 40
   },
   "kernels_config": {
    "python": {
     "delete_cmd_postfix": "",
     "delete_cmd_prefix": "del ",
     "library": "var_list.py",
     "varRefreshCmd": "print(var_dic_list())"
    },
    "r": {
     "delete_cmd_postfix": ") ",
     "delete_cmd_prefix": "rm(",
     "library": "var_list.r",
     "varRefreshCmd": "cat(var_dic_list()) "
    }
   },
   "types_to_exclude": [
    "module",
    "function",
    "builtin_function_or_method",
    "instance",
    "_Feature"
   ],
   "window_display": false
  }
 },
 "nbformat": 4,
 "nbformat_minor": 2
}
