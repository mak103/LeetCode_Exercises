{
 "cells": [
  {
   "cell_type": "markdown",
   "metadata": {},
   "source": [
    "Given a list of words, we may encode it by writing a reference string S and a list of indexes A.\n",
    "\n",
    "For example, if the list of words is [\"time\", \"me\", \"bell\"], we can write it as S = \"time#bell#\" and indexes = [0, 2, 5].\n",
    "\n",
    "Then for each index, we will recover the word by reading from the reference string from that index until we reach a \"#\" character.\n",
    "\n",
    "What is the length of the shortest reference string S possible that encodes the given words?\n",
    "\n",
    "Example:\n",
    "\n",
    "Input: words = [\"time\", \"me\", \"bell\"]\n",
    "Output: 10\n",
    "Explanation: S = \"time#bell#\" and indexes = [0, 2, 5].\n",
    " \n",
    "\n",
    "Note:\n",
    "\n",
    "1 <= words.length <= 2000.\n",
    "1 <= words[i].length <= 7.\n",
    "Each word has only lowercase letters."
   ]
  },
  {
   "cell_type": "code",
   "execution_count": null,
   "metadata": {},
   "outputs": [],
   "source": [
    "# My solution (188ms, 25.71%, 15.5MB, 14.29%)\n",
    "\n",
    "class Solution(object):\n",
    "    def countLength(self, n, dict_):\n",
    "        if len(dict_.keys()) == 0:\n",
    "            self.res += n+1\n",
    "            return\n",
    "        else:\n",
    "            for key in dict_.keys():\n",
    "                temp = dict_[key]\n",
    "                self.countLength(n+1, temp)\n",
    "            return\n",
    "\n",
    "    def minimumLengthEncoding(self, words):\n",
    "        \"\"\"\n",
    "        :type words: List[str]\n",
    "        :rtype: int\n",
    "        \"\"\"\n",
    "        dict_ = {}\n",
    "        for word in words:\n",
    "            word = word[::-1]\n",
    "            temp = dict_\n",
    "            for w in word:\n",
    "                if w not in temp:\n",
    "                    temp[w] = {}\n",
    "                    temp = temp[w]\n",
    "                else:\n",
    "                    temp = temp[w]\n",
    "        self.res = 0\n",
    "        self.countLength(0, dict_)\n",
    "        return self.res"
   ]
  }
 ],
 "metadata": {
  "kernelspec": {
   "display_name": "Python 3",
   "language": "python",
   "name": "python3"
  },
  "language_info": {
   "codemirror_mode": {
    "name": "ipython",
    "version": 3
   },
   "file_extension": ".py",
   "mimetype": "text/x-python",
   "name": "python",
   "nbconvert_exporter": "python",
   "pygments_lexer": "ipython3",
   "version": "3.6.7"
  },
  "varInspector": {
   "cols": {
    "lenName": 16,
    "lenType": 16,
    "lenVar": 40
   },
   "kernels_config": {
    "python": {
     "delete_cmd_postfix": "",
     "delete_cmd_prefix": "del ",
     "library": "var_list.py",
     "varRefreshCmd": "print(var_dic_list())"
    },
    "r": {
     "delete_cmd_postfix": ") ",
     "delete_cmd_prefix": "rm(",
     "library": "var_list.r",
     "varRefreshCmd": "cat(var_dic_list()) "
    }
   },
   "types_to_exclude": [
    "module",
    "function",
    "builtin_function_or_method",
    "instance",
    "_Feature"
   ],
   "window_display": false
  }
 },
 "nbformat": 4,
 "nbformat_minor": 2
}
