{
 "cells": [
  {
   "cell_type": "markdown",
   "metadata": {},
   "source": [
    "You are given an array of strings words and a string chars.\n",
    "\n",
    "A string is good if it can be formed by characters from chars (each character can only be used once).\n",
    "\n",
    "Return the sum of lengths of all good strings in words.\n",
    "\n",
    " \n",
    "\n",
    "Example 1:\n",
    "\n",
    "Input: words = [\"cat\",\"bt\",\"hat\",\"tree\"], chars = \"atach\"\n",
    "Output: 6\n",
    "Explanation: \n",
    "The strings that can be formed are \"cat\" and \"hat\" so the answer is 3 + 3 = 6.\n",
    "Example 2:\n",
    "\n",
    "Input: words = [\"hello\",\"world\",\"leetcode\"], chars = \"welldonehoneyr\"\n",
    "Output: 10\n",
    "Explanation: \n",
    "The strings that can be formed are \"hello\" and \"world\" so the answer is 5 + 5 = 10.\n",
    " \n",
    "\n",
    "Note:\n",
    "\n",
    "1 <= words.length <= 1000\n",
    "1 <= words[i].length, chars.length <= 100\n",
    "All strings contain lowercase English letters only."
   ]
  },
  {
   "cell_type": "code",
   "execution_count": null,
   "metadata": {},
   "outputs": [],
   "source": [
    "# My solution (88ms, 88.84%, 13.6MB, 7.13%)\n",
    "\n",
    "class Solution(object):\n",
    "    def countCharacters(self, words, chars):\n",
    "        \"\"\"\n",
    "        :type words: List[str]\n",
    "        :type chars: str\n",
    "        :rtype: int\n",
    "        \"\"\"\n",
    "        dict_chars = {}\n",
    "        for c in chars:\n",
    "            if c not in dict_chars:\n",
    "                dict_chars[c] = 1\n",
    "            else:\n",
    "                dict_chars[c] += 1\n",
    "        res = 0\n",
    "        for word in words:\n",
    "            dict_ = dict_chars.copy()\n",
    "            length = len(word)\n",
    "            for c in word:\n",
    "                if c in dict_ and dict_[c] > 0:\n",
    "                    dict_[c] -= 1\n",
    "                else:\n",
    "                    length = 0\n",
    "                    break\n",
    "            res += length\n",
    "        return res"
   ]
  }
 ],
 "metadata": {
  "kernelspec": {
   "display_name": "Python 3",
   "language": "python",
   "name": "python3"
  },
  "language_info": {
   "codemirror_mode": {
    "name": "ipython",
    "version": 3
   },
   "file_extension": ".py",
   "mimetype": "text/x-python",
   "name": "python",
   "nbconvert_exporter": "python",
   "pygments_lexer": "ipython3",
   "version": "3.6.7"
  },
  "varInspector": {
   "cols": {
    "lenName": 16,
    "lenType": 16,
    "lenVar": 40
   },
   "kernels_config": {
    "python": {
     "delete_cmd_postfix": "",
     "delete_cmd_prefix": "del ",
     "library": "var_list.py",
     "varRefreshCmd": "print(var_dic_list())"
    },
    "r": {
     "delete_cmd_postfix": ") ",
     "delete_cmd_prefix": "rm(",
     "library": "var_list.r",
     "varRefreshCmd": "cat(var_dic_list()) "
    }
   },
   "types_to_exclude": [
    "module",
    "function",
    "builtin_function_or_method",
    "instance",
    "_Feature"
   ],
   "window_display": false
  }
 },
 "nbformat": 4,
 "nbformat_minor": 2
}
