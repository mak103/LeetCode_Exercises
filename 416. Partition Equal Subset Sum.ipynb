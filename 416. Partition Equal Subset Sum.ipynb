{
 "cells": [
  {
   "cell_type": "markdown",
   "metadata": {},
   "source": [
    "Given a non-empty array containing only positive integers, find if the array can be partitioned into two subsets such that the sum of elements in both subsets is equal.\n",
    "\n",
    "Note:\n",
    "\n",
    "Each of the array element will not exceed 100.\n",
    "The array size will not exceed 200.\n",
    " \n",
    "\n",
    "Example 1:\n",
    "\n",
    "Input: [1, 5, 11, 5]\n",
    "\n",
    "Output: true\n",
    "\n",
    "Explanation: The array can be partitioned as [1, 5, 5] and [11].\n",
    " \n",
    "\n",
    "Example 2:\n",
    "\n",
    "Input: [1, 2, 3, 5]\n",
    "\n",
    "Output: false\n",
    "\n",
    "Explanation: The array cannot be partitioned into equal sum subsets."
   ]
  },
  {
   "cell_type": "code",
   "execution_count": null,
   "metadata": {},
   "outputs": [],
   "source": [
    "# My solution(20ms, 100%, 11.9MB, 90.43%)\n",
    "\n",
    "class Solution(object):\n",
    "    def check(self, nums, sum_):\n",
    "        if len(nums) == 0:\n",
    "            return False\n",
    "        if sum_ == 0:\n",
    "            return True\n",
    "        i = 0\n",
    "        while i < len(nums):\n",
    "            if nums[i] <= sum_:\n",
    "                if self.check(nums[i+1:], sum_-nums[i]):\n",
    "                    return True\n",
    "            while i+1 < len(nums) and nums[i] == nums[i+1]:\n",
    "                i += 1\n",
    "            i += 1\n",
    "        return False\n",
    "        \n",
    "\n",
    "    def canPartition(self, nums):\n",
    "        \"\"\"\n",
    "        :type nums: List[int]\n",
    "        :rtype: bool\n",
    "        \"\"\"\n",
    "        sum_ = sum(nums)\n",
    "        if sum_%2 == 1:\n",
    "            return False\n",
    "        else:\n",
    "            sum_ /= 2\n",
    "        nums = sorted(nums)[::-1]\n",
    "        return self.check(nums, sum_)"
   ]
  }
 ],
 "metadata": {
  "kernelspec": {
   "display_name": "Python 3",
   "language": "python",
   "name": "python3"
  },
  "language_info": {
   "codemirror_mode": {
    "name": "ipython",
    "version": 3
   },
   "file_extension": ".py",
   "mimetype": "text/x-python",
   "name": "python",
   "nbconvert_exporter": "python",
   "pygments_lexer": "ipython3",
   "version": "3.6.7"
  },
  "varInspector": {
   "cols": {
    "lenName": 16,
    "lenType": 16,
    "lenVar": 40
   },
   "kernels_config": {
    "python": {
     "delete_cmd_postfix": "",
     "delete_cmd_prefix": "del ",
     "library": "var_list.py",
     "varRefreshCmd": "print(var_dic_list())"
    },
    "r": {
     "delete_cmd_postfix": ") ",
     "delete_cmd_prefix": "rm(",
     "library": "var_list.r",
     "varRefreshCmd": "cat(var_dic_list()) "
    }
   },
   "types_to_exclude": [
    "module",
    "function",
    "builtin_function_or_method",
    "instance",
    "_Feature"
   ],
   "window_display": false
  }
 },
 "nbformat": 4,
 "nbformat_minor": 2
}
