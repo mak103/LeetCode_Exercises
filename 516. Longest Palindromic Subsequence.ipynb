{
 "cells": [
  {
   "cell_type": "markdown",
   "metadata": {},
   "source": [
    "Given a string s, find the longest palindromic subsequence's length in s. You may assume that the maximum length of s is 1000.\n",
    "\n",
    "Example 1:\n",
    "Input:\n",
    "\n",
    "\"bbbab\"\n",
    "Output:\n",
    "4\n",
    "One possible longest palindromic subsequence is \"bbbb\".\n",
    "Example 2:\n",
    "Input:\n",
    "\n",
    "\"cbbd\"\n",
    "Output:\n",
    "2\n",
    "One possible longest palindromic subsequence is \"bb\"."
   ]
  },
  {
   "cell_type": "code",
   "execution_count": null,
   "metadata": {},
   "outputs": [],
   "source": [
    "# My solution (2D dynamic programming) (2268ms, 5.43%, 27.2MB, 46.81%)\n",
    "\n",
    "class Solution(object):\n",
    "    def longestPalindromeSubseq(self, s):\n",
    "        \"\"\"\n",
    "        :type s: str\n",
    "        :rtype: int\n",
    "        \"\"\"\n",
    "        l = len(s)\n",
    "        if l == 0 :\n",
    "            return 0\n",
    "        elif l == 1:\n",
    "            return 1\n",
    "        dp = [[0 for i in range(l)] for j in range(l)]\n",
    "        for i in range(l):\n",
    "            dp[i][i] = 1\n",
    "        for diff in range(1, l):\n",
    "            for m in range(l-diff):\n",
    "                n = m+diff\n",
    "                if s[m] == s[n]:\n",
    "                    if diff == 1:\n",
    "                        dp[m][n] = max(dp[m][n], 2)\n",
    "                    else:\n",
    "                        dp[m][n] = max(dp[m][n], dp[m+1][n-1]+2) \n",
    "                else:\n",
    "                    dp[m][n] = max(dp[m][n], dp[m+1][n], dp[m][n-1], dp[m+1][n-1])\n",
    "        return dp[0][-1]"
   ]
  }
 ],
 "metadata": {
  "kernelspec": {
   "display_name": "Python 3",
   "language": "python",
   "name": "python3"
  },
  "language_info": {
   "codemirror_mode": {
    "name": "ipython",
    "version": 3
   },
   "file_extension": ".py",
   "mimetype": "text/x-python",
   "name": "python",
   "nbconvert_exporter": "python",
   "pygments_lexer": "ipython3",
   "version": "3.6.7"
  },
  "varInspector": {
   "cols": {
    "lenName": 16,
    "lenType": 16,
    "lenVar": 40
   },
   "kernels_config": {
    "python": {
     "delete_cmd_postfix": "",
     "delete_cmd_prefix": "del ",
     "library": "var_list.py",
     "varRefreshCmd": "print(var_dic_list())"
    },
    "r": {
     "delete_cmd_postfix": ") ",
     "delete_cmd_prefix": "rm(",
     "library": "var_list.r",
     "varRefreshCmd": "cat(var_dic_list()) "
    }
   },
   "types_to_exclude": [
    "module",
    "function",
    "builtin_function_or_method",
    "instance",
    "_Feature"
   ],
   "window_display": false
  }
 },
 "nbformat": 4,
 "nbformat_minor": 2
}
