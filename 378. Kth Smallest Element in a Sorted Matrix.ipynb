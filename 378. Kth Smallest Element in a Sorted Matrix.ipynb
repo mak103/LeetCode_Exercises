{
 "cells": [
  {
   "cell_type": "markdown",
   "metadata": {},
   "source": [
    "Given a n x n matrix where each of the rows and columns are sorted in ascending order, find the kth smallest element in the matrix.\n",
    "\n",
    "Note that it is the kth smallest element in the sorted order, not the kth distinct element.\n",
    "\n",
    "Example:\n",
    "\n",
    "matrix = [\n",
    "   [ 1,  5,  9],\n",
    "   [10, 11, 13],\n",
    "   [12, 13, 15]\n",
    "],\n",
    "k = 8,\n",
    "\n",
    "return 13.\n",
    "Note:\n",
    "You may assume k is always valid, 1 ≤ k ≤ n2."
   ]
  },
  {
   "cell_type": "code",
   "execution_count": null,
   "metadata": {},
   "outputs": [],
   "source": [
    "# My solution (536ms, 10.21%, 17.2MB, 34.31%)\n",
    "\n",
    "class Solution(object):\n",
    "    def kthSmallest(self, matrix, k):\n",
    "        \"\"\"\n",
    "        :type matrix: List[List[int]]\n",
    "        :type k: int\n",
    "        :rtype: int\n",
    "        \"\"\"\n",
    "        if len(matrix) == 0:\n",
    "            return None\n",
    "        n = len(matrix)\n",
    "        dict_ = {matrix[0][0]:[[0,0]]}\n",
    "        while k > 1:\n",
    "            n_min = min(dict_.keys())\n",
    "            coors = dict_[n_min]\n",
    "            coor = coors[0]\n",
    "            x, y = coor[0], coor[1]\n",
    "            if x < n-1:\n",
    "                if matrix[x+1][y] not in dict_:\n",
    "                    dict_[matrix[x+1][y]] = [[x+1, y]]\n",
    "                else:\n",
    "                    if [x+1, y] not in dict_[matrix[x+1][y]]:\n",
    "                        dict_[matrix[x+1][y]].append([x+1, y])\n",
    "            if y < n-1:\n",
    "                if matrix[x][y+1] not in dict_:\n",
    "                    dict_[matrix[x][y+1]] = [[x, y+1]]\n",
    "                else:\n",
    "                    if [x, y+1] not in dict_[matrix[x][y+1]]:\n",
    "                        dict_[matrix[x][y+1]].append([x, y+1])\n",
    "            if len(coors) == 1:\n",
    "                del dict_[n_min]\n",
    "            else:\n",
    "                dict_[n_min].pop(0)\n",
    "            k -= 1\n",
    "        return min(dict_.keys())"
   ]
  }
 ],
 "metadata": {
  "kernelspec": {
   "display_name": "Python 3",
   "language": "python",
   "name": "python3"
  },
  "language_info": {
   "codemirror_mode": {
    "name": "ipython",
    "version": 3
   },
   "file_extension": ".py",
   "mimetype": "text/x-python",
   "name": "python",
   "nbconvert_exporter": "python",
   "pygments_lexer": "ipython3",
   "version": "3.6.7"
  },
  "varInspector": {
   "cols": {
    "lenName": 16,
    "lenType": 16,
    "lenVar": 40
   },
   "kernels_config": {
    "python": {
     "delete_cmd_postfix": "",
     "delete_cmd_prefix": "del ",
     "library": "var_list.py",
     "varRefreshCmd": "print(var_dic_list())"
    },
    "r": {
     "delete_cmd_postfix": ") ",
     "delete_cmd_prefix": "rm(",
     "library": "var_list.r",
     "varRefreshCmd": "cat(var_dic_list()) "
    }
   },
   "types_to_exclude": [
    "module",
    "function",
    "builtin_function_or_method",
    "instance",
    "_Feature"
   ],
   "window_display": false
  }
 },
 "nbformat": 4,
 "nbformat_minor": 2
}
