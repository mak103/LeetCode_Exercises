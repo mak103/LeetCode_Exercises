{
 "cells": [
  {
   "cell_type": "code",
   "execution_count": 3,
   "metadata": {
    "ExecuteTime": {
     "end_time": "2020-03-07T14:32:20.520503Z",
     "start_time": "2020-03-07T14:32:20.515518Z"
    }
   },
   "outputs": [
    {
     "data": {
      "text/plain": [
       "['a', 'c', 'x']"
      ]
     },
     "execution_count": 3,
     "metadata": {},
     "output_type": "execute_result"
    }
   ],
   "source": [
    "s = 'axcca'\n",
    "sorted(list(set(s)))"
   ]
  },
  {
   "cell_type": "markdown",
   "metadata": {},
   "source": [
    "5336. Increasing Decreasing String\n",
    "\n",
    "Given a string s. You should re-order the string using the following algorithm:\n",
    "\n",
    "Pick the smallest character from s and append it to the result.\n",
    "Pick the smallest character from s which is greater than the last appended character to the result and append it.\n",
    "Repeat step 2 until you cannot pick more characters.\n",
    "Pick the largest character from s and append it to the result.\n",
    "Pick the largest character from s which is smaller than the last appended character to the result and append it.\n",
    "Repeat step 5 until you cannot pick more characters.\n",
    "Repeat the steps from 1 to 6 until you pick all characters from s.\n",
    "In each step, If the smallest or the largest character appears more than once you can choose any occurrence and append it to the result.\n",
    "\n",
    "Return the result string after sorting s with this algorithm.\n",
    "\n",
    " \n",
    "\n",
    "Example 1:\n",
    "\n",
    "Input: s = \"aaaabbbbcccc\"\n",
    "Output: \"abccbaabccba\"\n",
    "Explanation: After steps 1, 2 and 3 of the first iteration, result = \"abc\"\n",
    "After steps 4, 5 and 6 of the first iteration, result = \"abccba\"\n",
    "First iteration is done. Now s = \"aabbcc\" and we go back to step 1\n",
    "After steps 1, 2 and 3 of the second iteration, result = \"abccbaabc\"\n",
    "After steps 4, 5 and 6 of the second iteration, result = \"abccbaabccba\"\n",
    "Example 2:\n",
    "\n",
    "Input: s = \"rat\"\n",
    "Output: \"art\"\n",
    "Explanation: The word \"rat\" becomes \"art\" after re-ordering it with the mentioned algorithm.\n",
    "Example 3:\n",
    "\n",
    "Input: s = \"leetcode\"\n",
    "Output: \"cdelotee\"\n",
    "Example 4:\n",
    "\n",
    "Input: s = \"ggggggg\"\n",
    "Output: \"ggggggg\"\n",
    "Example 5:\n",
    "\n",
    "Input: s = \"spo\"\n",
    "Output: \"ops\"\n",
    " \n",
    "\n",
    "Constraints:\n",
    "\n",
    "1 <= s.length <= 500\n",
    "s contains only lower-case English letters."
   ]
  },
  {
   "cell_type": "code",
   "execution_count": null,
   "metadata": {},
   "outputs": [],
   "source": [
    "class Solution(object):\n",
    "    def sortString(self, s):\n",
    "        \"\"\"\n",
    "        :type s: str\n",
    "        :rtype: str\n",
    "        \"\"\"\n",
    "        keys = sorted(list(set(s)))\n",
    "        count = {}\n",
    "        for i in s:\n",
    "            if i not in count:\n",
    "                count[i] = 1\n",
    "            else:\n",
    "                count[i] += 1\n",
    "        left_to_right = True\n",
    "        res = ''\n",
    "        while len(count) > 0:\n",
    "            if left_to_right:\n",
    "                for k in keys:\n",
    "                    if k not in count:\n",
    "                        continue\n",
    "                    res += k\n",
    "                    count[k] -= 1\n",
    "                    if count[k] == 0:\n",
    "                        del count[k]\n",
    "                left_to_right = False\n",
    "            else:\n",
    "                for k in keys[::-1]:\n",
    "                    if k not in count:\n",
    "                        continue\n",
    "                    res += k\n",
    "                    count[k] -= 1\n",
    "                    if count[k] == 0:\n",
    "                        del count[k]\n",
    "                left_to_right = True\n",
    "        return res"
   ]
  },
  {
   "cell_type": "markdown",
   "metadata": {},
   "source": [
    "5337. Find the Longest Substring Containing Vowels in Even Counts\n",
    "\n",
    "Given the string s, return the size of the longest substring containing each vowel an even number of times. That is, 'a', 'e', 'i', 'o', and 'u' must appear an even number of times.\n",
    "\n",
    " \n",
    "\n",
    "Example 1:\n",
    "\n",
    "Input: s = \"eleetminicoworoep\"\n",
    "Output: 13\n",
    "Explanation: The longest substring is \"leetminicowor\" which contains two each of the vowels: e, i and o and zero of the vowels: a and u.\n",
    "Example 2:\n",
    "\n",
    "Input: s = \"leetcodeisgreat\"\n",
    "Output: 5\n",
    "Explanation: The longest substring is \"leetc\" which contains two e's.\n",
    "Example 3:\n",
    "\n",
    "Input: s = \"bcbcbc\"\n",
    "Output: 6\n",
    "Explanation: In this case, the given string \"bcbcbc\" is the longest because all vowels: a, e, i, o and u appear zero times.\n",
    " \n",
    "\n",
    "Constraints:\n",
    "\n",
    "1 <= s.length <= 5 x 10^5\n",
    "s contains only lowercase English letters."
   ]
  },
  {
   "cell_type": "code",
   "execution_count": null,
   "metadata": {},
   "outputs": [],
   "source": [
    "# Wrone answer\n",
    "class Solution(object):\n",
    "    def delete(self, s, index):\n",
    "        while len(s) >= 2 and s[-1] == s[-2]:\n",
    "            s.pop()\n",
    "            s.pop()\n",
    "            index.pop()\n",
    "            index.pop()\n",
    "        return s, index\n",
    "    \n",
    "    def findTheLongestSubstring(self, s):\n",
    "        \"\"\"\n",
    "        :type s: str\n",
    "        :rtype: int\n",
    "        \"\"\"\n",
    "        stack_word = []\n",
    "        stack_index = [-1]\n",
    "        dp = [0]\n",
    "        letters = ['a', 'e', 'i', 'o', 'u']\n",
    "        for i,l in enumerate(s):\n",
    "            if l not in letters:\n",
    "                dp.append(dp[-1]+1)\n",
    "            else:\n",
    "                if len(stack_word) > 0:\n",
    "                    if l == stack_word[-1]:\n",
    "                        stack_word_temp, stack_index_temp = self.delete(stack_word[:-1], stack_index[:-1])\n",
    "                        dp.append(i-stack_index_temp[-1])\n",
    "                    else:    \n",
    "                        stack_word_temp, stack_index_temp = self.delete(stack_word[:], stack_index[:])\n",
    "                        if len(stack_word_temp) > 0 and l == stack_word_temp[-1]:\n",
    "                            stack_word_temp.pop()\n",
    "                            stack_index_temp.pop()\n",
    "                            stack_word_temp, stack_index_temp = self.delete(stack_word_temp, stack_index_temp)\n",
    "                            dp.append(i-stack_index_temp[-1])\n",
    "                        else:\n",
    "                            dp.append(0)\n",
    "                else:\n",
    "                    dp.append(0)\n",
    "                stack_word.append(l)\n",
    "                stack_index.append(i)\n",
    "        return max(dp)"
   ]
  },
  {
   "cell_type": "code",
   "execution_count": null,
   "metadata": {},
   "outputs": [],
   "source": []
  }
 ],
 "metadata": {
  "kernelspec": {
   "display_name": "Python 3",
   "language": "python",
   "name": "python3"
  },
  "language_info": {
   "codemirror_mode": {
    "name": "ipython",
    "version": 3
   },
   "file_extension": ".py",
   "mimetype": "text/x-python",
   "name": "python",
   "nbconvert_exporter": "python",
   "pygments_lexer": "ipython3",
   "version": "3.6.7"
  },
  "varInspector": {
   "cols": {
    "lenName": 16,
    "lenType": 16,
    "lenVar": 40
   },
   "kernels_config": {
    "python": {
     "delete_cmd_postfix": "",
     "delete_cmd_prefix": "del ",
     "library": "var_list.py",
     "varRefreshCmd": "print(var_dic_list())"
    },
    "r": {
     "delete_cmd_postfix": ") ",
     "delete_cmd_prefix": "rm(",
     "library": "var_list.r",
     "varRefreshCmd": "cat(var_dic_list()) "
    }
   },
   "types_to_exclude": [
    "module",
    "function",
    "builtin_function_or_method",
    "instance",
    "_Feature"
   ],
   "window_display": false
  }
 },
 "nbformat": 4,
 "nbformat_minor": 2
}
