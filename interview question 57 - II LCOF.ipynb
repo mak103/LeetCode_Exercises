{
 "cells": [
  {
   "cell_type": "markdown",
   "metadata": {},
   "source": [
    "输入一个正整数 target ，输出所有和为 target 的连续正整数序列（至少含有两个数）。\n",
    "\n",
    "序列内的数字由小到大排列，不同序列按照首个数字从小到大排列。\n",
    "\n",
    " \n",
    "\n",
    "示例 1：\n",
    "\n",
    "输入：target = 9\n",
    "输出：[[2,3,4],[4,5]]\n",
    "示例 2：\n",
    "\n",
    "输入：target = 15\n",
    "输出：[[1,2,3,4,5],[4,5,6],[7,8]]\n",
    " \n",
    "\n",
    "限制：\n",
    "\n",
    "1 <= target <= 10^5"
   ]
  },
  {
   "cell_type": "code",
   "execution_count": null,
   "metadata": {},
   "outputs": [],
   "source": [
    "# My solution (28ms, 92.86%, 11.7MB, 100%)\n",
    "\n",
    "#对于一个长度为length的连续序列，假设它的数字是从1到length，它的和为sum。如果保持它的长度length，\n",
    "#将它的数字变为从2到length+1（可以想象成数轴上每一个数字往正方向平移一位），那么新的序列的长度为sum+length。移动n次之后和为sum+n*length。\n",
    "\n",
    "#对于一个target，如果存在一个长度为length的连续序列满足条件，那么必须存在一个非负数n，使得sum+n*length=target。\n",
    "\n",
    "#(target-sum)%length等于0的情况对应着存在这么一个非负数n。\n",
    "\n",
    "class Solution(object):\n",
    "    def findContinuousSequence(self, target):\n",
    "        \"\"\"\n",
    "        :type target: int\n",
    "        :rtype: List[List[int]]\n",
    "        \"\"\"\n",
    "        res = []\n",
    "        length = 2\n",
    "        sum_ = 1 + 2\n",
    "        while sum_ <= target:\n",
    "            if (target - sum_) % length == 0:\n",
    "                n = (target - sum_) / length\n",
    "                temp = []\n",
    "                for i in range(1, length+1):\n",
    "                    temp.append(i+n)\n",
    "                res.append(temp)\n",
    "            length += 1\n",
    "            sum_ += length\n",
    "        return res[::-1]"
   ]
  },
  {
   "cell_type": "code",
   "execution_count": null,
   "metadata": {},
   "outputs": [],
   "source": []
  }
 ],
 "metadata": {
  "kernelspec": {
   "display_name": "Python 3",
   "language": "python",
   "name": "python3"
  },
  "language_info": {
   "codemirror_mode": {
    "name": "ipython",
    "version": 3
   },
   "file_extension": ".py",
   "mimetype": "text/x-python",
   "name": "python",
   "nbconvert_exporter": "python",
   "pygments_lexer": "ipython3",
   "version": "3.6.7"
  },
  "varInspector": {
   "cols": {
    "lenName": 16,
    "lenType": 16,
    "lenVar": 40
   },
   "kernels_config": {
    "python": {
     "delete_cmd_postfix": "",
     "delete_cmd_prefix": "del ",
     "library": "var_list.py",
     "varRefreshCmd": "print(var_dic_list())"
    },
    "r": {
     "delete_cmd_postfix": ") ",
     "delete_cmd_prefix": "rm(",
     "library": "var_list.r",
     "varRefreshCmd": "cat(var_dic_list()) "
    }
   },
   "types_to_exclude": [
    "module",
    "function",
    "builtin_function_or_method",
    "instance",
    "_Feature"
   ],
   "window_display": false
  }
 },
 "nbformat": 4,
 "nbformat_minor": 2
}
