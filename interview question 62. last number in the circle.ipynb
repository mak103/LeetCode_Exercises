{
 "cells": [
  {
   "cell_type": "markdown",
   "metadata": {},
   "source": [
    "0,1,,n-1这n个数字排成一个圆圈，从数字0开始，每次从这个圆圈里删除第m个数字。求出这个圆圈里剩下的最后一个数字。\n",
    "\n",
    "例如，0、1、2、3、4这5个数字组成一个圆圈，从数字0开始每次删除第3个数字，则删除的前4个数字依次是2、0、4、1，因此最后剩下的数字是3。\n",
    "\n",
    " \n",
    "\n",
    "示例 1：\n",
    "\n",
    "输入: n = 5, m = 3\n",
    "输出: 3\n",
    "示例 2：\n",
    "\n",
    "输入: n = 10, m = 17\n",
    "输出: 2\n",
    " \n",
    "\n",
    "限制：\n",
    "\n",
    "1 <= n <= 10^5\n",
    "1 <= m <= 10^6"
   ]
  },
  {
   "cell_type": "code",
   "execution_count": null,
   "metadata": {},
   "outputs": [],
   "source": [
    "# My first solution, excessed time limite, because the \"l = l[index+1:] + l[:index]\" costs a lot of time.\n",
    "\n",
    "class Solution(object):\n",
    "    def lastRemaining(self, n, m):\n",
    "        \"\"\"\n",
    "        :type n: int\n",
    "        :type m: int\n",
    "        :rtype: int\n",
    "        \"\"\"\n",
    "        l = []\n",
    "        m -= 1\n",
    "        l = list(range(n))\n",
    "        index = 0\n",
    "        for i in range(n-1):\n",
    "            index += m%(len(l))\n",
    "            l = l[index+1:] + l[:index]\n",
    "        return l[0]"
   ]
  },
  {
   "cell_type": "code",
   "execution_count": null,
   "metadata": {
    "ExecuteTime": {
     "end_time": "2020-03-30T03:22:00.804697Z",
     "start_time": "2020-03-30T03:22:00.799697Z"
    }
   },
   "outputs": [],
   "source": [
    "# My second solution (2276ms, 18.69%, 18.5MB, 100%)\n",
    "\n",
    "class Solution(object):\n",
    "    def lastRemaining(self, n, m):\n",
    "        \"\"\"\n",
    "        :type n: int\n",
    "        :type m: int\n",
    "        :rtype: int\n",
    "        \"\"\"\n",
    "        l = []\n",
    "        m -= 1\n",
    "        l = list(range(n))\n",
    "        index = 0\n",
    "        for i in range(n-1):\n",
    "            index += m\n",
    "            index = index%(len(l))\n",
    "            l.pop(index)\n",
    "        return l[0]"
   ]
  }
 ],
 "metadata": {
  "kernelspec": {
   "display_name": "Python 3",
   "language": "python",
   "name": "python3"
  },
  "language_info": {
   "codemirror_mode": {
    "name": "ipython",
    "version": 3
   },
   "file_extension": ".py",
   "mimetype": "text/x-python",
   "name": "python",
   "nbconvert_exporter": "python",
   "pygments_lexer": "ipython3",
   "version": "3.6.7"
  },
  "varInspector": {
   "cols": {
    "lenName": 16,
    "lenType": 16,
    "lenVar": 40
   },
   "kernels_config": {
    "python": {
     "delete_cmd_postfix": "",
     "delete_cmd_prefix": "del ",
     "library": "var_list.py",
     "varRefreshCmd": "print(var_dic_list())"
    },
    "r": {
     "delete_cmd_postfix": ") ",
     "delete_cmd_prefix": "rm(",
     "library": "var_list.r",
     "varRefreshCmd": "cat(var_dic_list()) "
    }
   },
   "types_to_exclude": [
    "module",
    "function",
    "builtin_function_or_method",
    "instance",
    "_Feature"
   ],
   "window_display": false
  }
 },
 "nbformat": 4,
 "nbformat_minor": 2
}
