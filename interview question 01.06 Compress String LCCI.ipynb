{
 "cells": [
  {
   "cell_type": "markdown",
   "metadata": {},
   "source": [
    "Implement a method to perform basic string compression using the counts of repeated characters. For example, the string aabcccccaaa would become a2blc5a3. If the \"compressed\" string would not become smaller than the original string, your method should return the original string. You can assume the string has only uppercase and lowercase letters (a - z).\n",
    "\n",
    "Example 1:\n",
    "\n",
    "Input: \"aabcccccaaa\"\n",
    "Output: \"a2b1c5a3\"\n",
    "Example 2:\n",
    "\n",
    "Input: \"abbccd\"\n",
    "Output: \"abbccd\"\n",
    "Explanation: \n",
    "The compressed string is \"a1b2c2d1\", which is longer than the original string.\n",
    " \n",
    "\n",
    "Note:\n",
    "\n",
    "0 <= S.length <= 50000"
   ]
  },
  {
   "cell_type": "code",
   "execution_count": null,
   "metadata": {},
   "outputs": [],
   "source": [
    "# My solution (176ms, 36.84%, 13.7MB, 100%)\n",
    "\n",
    "class Solution(object):\n",
    "    def compressString(self, S):\n",
    "        \"\"\"\n",
    "        :type S: str\n",
    "        :rtype: str\n",
    "        \"\"\"\n",
    "        res = ''\n",
    "        if len(S) == 0:\n",
    "            return res\n",
    "        count = 1\n",
    "        letter = S[0]\n",
    "        for s in S[1:]:\n",
    "            if s == letter:\n",
    "                count += 1\n",
    "            else:\n",
    "                res += letter + str(count)\n",
    "                letter = s\n",
    "                count = 1\n",
    "        res += letter + str(count)\n",
    "        if len(res) >= len(S):\n",
    "            return S\n",
    "        else:\n",
    "            return res"
   ]
  }
 ],
 "metadata": {
  "kernelspec": {
   "display_name": "Python 3",
   "language": "python",
   "name": "python3"
  },
  "language_info": {
   "codemirror_mode": {
    "name": "ipython",
    "version": 3
   },
   "file_extension": ".py",
   "mimetype": "text/x-python",
   "name": "python",
   "nbconvert_exporter": "python",
   "pygments_lexer": "ipython3",
   "version": "3.6.7"
  },
  "varInspector": {
   "cols": {
    "lenName": 16,
    "lenType": 16,
    "lenVar": 40
   },
   "kernels_config": {
    "python": {
     "delete_cmd_postfix": "",
     "delete_cmd_prefix": "del ",
     "library": "var_list.py",
     "varRefreshCmd": "print(var_dic_list())"
    },
    "r": {
     "delete_cmd_postfix": ") ",
     "delete_cmd_prefix": "rm(",
     "library": "var_list.r",
     "varRefreshCmd": "cat(var_dic_list()) "
    }
   },
   "types_to_exclude": [
    "module",
    "function",
    "builtin_function_or_method",
    "instance",
    "_Feature"
   ],
   "window_display": false
  }
 },
 "nbformat": 4,
 "nbformat_minor": 2
}
