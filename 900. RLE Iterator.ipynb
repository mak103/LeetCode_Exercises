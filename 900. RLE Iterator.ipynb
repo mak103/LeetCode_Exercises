{
 "cells": [
  {
   "cell_type": "markdown",
   "metadata": {},
   "source": [
    "Write an iterator that iterates through a run-length encoded sequence.\n",
    "\n",
    "The iterator is initialized by RLEIterator(int[] A), where A is a run-length encoding of some sequence.  More specifically, for all even i, A[i] tells us the number of times that the non-negative integer value A[i+1] is repeated in the sequence.\n",
    "\n",
    "The iterator supports one function: next(int n), which exhausts the next n elements (n >= 1) and returns the last element exhausted in this way.  If there is no element left to exhaust, next returns -1 instead.\n",
    "\n",
    "For example, we start with A = [3,8,0,9,2,5], which is a run-length encoding of the sequence [8,8,8,5,5].  This is because the sequence can be read as \"three eights, zero nines, two fives\".\n",
    "\n",
    " \n",
    "\n",
    "Example 1:\n",
    "\n",
    "Input: [\"RLEIterator\",\"next\",\"next\",\"next\",\"next\"], [[[3,8,0,9,2,5]],[2],[1],[1],[2]]\n",
    "Output: [null,8,8,5,-1]\n",
    "Explanation: \n",
    "RLEIterator is initialized with RLEIterator([3,8,0,9,2,5]).\n",
    "This maps to the sequence [8,8,8,5,5].\n",
    "RLEIterator.next is then called 4 times:\n",
    "\n",
    ".next(2) exhausts 2 terms of the sequence, returning 8.  The remaining sequence is now [8, 5, 5].\n",
    "\n",
    ".next(1) exhausts 1 term of the sequence, returning 8.  The remaining sequence is now [5, 5].\n",
    "\n",
    ".next(1) exhausts 1 term of the sequence, returning 5.  The remaining sequence is now [5].\n",
    "\n",
    ".next(2) exhausts 2 terms, returning -1.  This is because the first term exhausted was 5,\n",
    "but the second term did not exist.  Since the last term exhausted does not exist, we return -1.\n",
    "\n",
    "Note:\n",
    "\n",
    "1.0 <= A.length <= 1000\n",
    "2.A.length is an even integer.\n",
    "3.0 <= A[i] <= 10^9\n",
    "4.There are at most 1000 calls to RLEIterator.next(int n) per test case.\n",
    "5.Each call to RLEIterator.next(int n) will have 1 <= n <= 10^9."
   ]
  },
  {
   "cell_type": "code",
   "execution_count": null,
   "metadata": {},
   "outputs": [],
   "source": [
    "# My solution (24ms, 85.71%, 12.2MB, 66.67%)\n",
    "\n",
    "class RLEIterator(object):\n",
    "\n",
    "    def __init__(self, A):\n",
    "        \"\"\"\n",
    "        :type A: List[int]\n",
    "        \"\"\"\n",
    "        self.iterator = A\n",
    "        \n",
    "\n",
    "    def next(self, n):\n",
    "        \"\"\"\n",
    "        :type n: int\n",
    "        :rtype: int\n",
    "        \"\"\"\n",
    "        if n == 0:\n",
    "            if len(self.iterator) > 0:\n",
    "                return self.iterator[1]\n",
    "            else:\n",
    "                return -1\n",
    "        while len(self.iterator) > 0 and n > 0:\n",
    "            if self.iterator[0] == 0:\n",
    "                self.iterator.pop(0)\n",
    "                self.iterator.pop(0)\n",
    "            elif self.iterator[0] == n:\n",
    "                res = self.iterator[1]\n",
    "                self.iterator.pop(0)\n",
    "                self.iterator.pop(0)\n",
    "                return res\n",
    "            elif self.iterator[0] > n:\n",
    "                res = self.iterator[1]\n",
    "                self.iterator[0] -= n\n",
    "                return res\n",
    "            else:\n",
    "                n -= self.iterator[0]\n",
    "                self.iterator.pop(0)\n",
    "                self.iterator.pop(0)\n",
    "        return -1\n",
    "        \n",
    "\n",
    "\n",
    "# Your RLEIterator object will be instantiated and called as such:\n",
    "# obj = RLEIterator(A)\n",
    "# param_1 = obj.next(n)"
   ]
  }
 ],
 "metadata": {
  "kernelspec": {
   "display_name": "Python 3",
   "language": "python",
   "name": "python3"
  },
  "language_info": {
   "codemirror_mode": {
    "name": "ipython",
    "version": 3
   },
   "file_extension": ".py",
   "mimetype": "text/x-python",
   "name": "python",
   "nbconvert_exporter": "python",
   "pygments_lexer": "ipython3",
   "version": "3.6.7"
  },
  "varInspector": {
   "cols": {
    "lenName": 16,
    "lenType": 16,
    "lenVar": 40
   },
   "kernels_config": {
    "python": {
     "delete_cmd_postfix": "",
     "delete_cmd_prefix": "del ",
     "library": "var_list.py",
     "varRefreshCmd": "print(var_dic_list())"
    },
    "r": {
     "delete_cmd_postfix": ") ",
     "delete_cmd_prefix": "rm(",
     "library": "var_list.r",
     "varRefreshCmd": "cat(var_dic_list()) "
    }
   },
   "types_to_exclude": [
    "module",
    "function",
    "builtin_function_or_method",
    "instance",
    "_Feature"
   ],
   "window_display": false
  }
 },
 "nbformat": 4,
 "nbformat_minor": 2
}
