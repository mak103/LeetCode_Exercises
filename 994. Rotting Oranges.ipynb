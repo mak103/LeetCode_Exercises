{
 "cells": [
  {
   "cell_type": "markdown",
   "metadata": {},
   "source": [
    "In a given grid, each cell can have one of three values:\n",
    "\n",
    "the value 0 representing an empty cell;\n",
    "the value 1 representing a fresh orange;\n",
    "the value 2 representing a rotten orange.\n",
    "Every minute, any fresh orange that is adjacent (4-directionally) to a rotten orange becomes rotten.\n",
    "\n",
    "Return the minimum number of minutes that must elapse until no cell has a fresh orange.  If this is impossible, return -1 instead.\n",
    "\n",
    " \n",
    "\n",
    "Example 1:\n",
    "\n",
    "Input: [[2,1,1],[1,1,0],[0,1,1]]\n",
    "Output: 4\n",
    "Example 2:\n",
    "\n",
    "Input: [[2,1,1],[0,1,1],[1,0,1]]\n",
    "Output: -1\n",
    "Explanation:  The orange in the bottom left corner (row 2, column 0) is never rotten, because rotting only happens 4-directionally.\n",
    "Example 3:\n",
    "\n",
    "Input: [[0,2]]\n",
    "Output: 0\n",
    "Explanation:  Since there are already no fresh oranges at minute 0, the answer is just 0.\n",
    " \n",
    "\n",
    "Note:\n",
    "\n",
    "1 <= grid.length <= 10\n",
    "1 <= grid[0].length <= 10\n",
    "grid[i][j] is only 0, 1, or 2."
   ]
  },
  {
   "cell_type": "code",
   "execution_count": null,
   "metadata": {},
   "outputs": [],
   "source": [
    "# My solution (68ms, 6.17%, 11.7MB, 78.57%)\n",
    "class Solution(object):\n",
    "    def hasGoodOrange(self):\n",
    "        res = False\n",
    "        for i in range(self.m):\n",
    "            for j in range(self.n):\n",
    "                if self.grid[i][j] == 1:\n",
    "                    res = True\n",
    "                    break\n",
    "            if res:\n",
    "                break\n",
    "        return res\n",
    "\n",
    "    def rot(self, i, j):\n",
    "        self.grid[i][j] = 0\n",
    "        if i > 0 and self.grid[i-1][j] == 1:\n",
    "            self.grid[i-1][j] = '*'\n",
    "        if i < self.m-1 and self.grid[i+1][j] == 1:\n",
    "            self.grid[i+1][j] = '*'\n",
    "        if j > 0 and self.grid[i][j-1] == 1:\n",
    "            self.grid[i][j-1] = '*'\n",
    "        if j < self.n-1 and self.grid[i][j+1] == 1:\n",
    "            self.grid[i][j+1] = '*'\n",
    "        return\n",
    "\n",
    "\n",
    "    def orangesRotting(self, grid):\n",
    "        \"\"\"\n",
    "        :type grid: List[List[int]]\n",
    "        :rtype: int\n",
    "        \"\"\"\n",
    "        self.m, self.n = len(grid), len(grid[0])\n",
    "        res = 0\n",
    "        self.grid = grid\n",
    "        if not self.hasGoodOrange():\n",
    "            return res\n",
    "        while True:\n",
    "            changed = False\n",
    "            for i in range(self.m):\n",
    "                for j in range(self.n):\n",
    "                    if self.grid[i][j] == 2:\n",
    "                        self.rot(i,j)\n",
    "            for i in range(self.m):\n",
    "                for j in range(self.n):\n",
    "                    if self.grid[i][j] == '*':\n",
    "                        self.grid[i][j] = 2\n",
    "                        changed = True\n",
    "            if changed:\n",
    "                res += 1\n",
    "            else:\n",
    "                break\n",
    "        if self.hasGoodOrange():\n",
    "            return -1\n",
    "        return res"
   ]
  }
 ],
 "metadata": {
  "kernelspec": {
   "display_name": "Python 3",
   "language": "python",
   "name": "python3"
  },
  "language_info": {
   "codemirror_mode": {
    "name": "ipython",
    "version": 3
   },
   "file_extension": ".py",
   "mimetype": "text/x-python",
   "name": "python",
   "nbconvert_exporter": "python",
   "pygments_lexer": "ipython3",
   "version": "3.6.7"
  },
  "varInspector": {
   "cols": {
    "lenName": 16,
    "lenType": 16,
    "lenVar": 40
   },
   "kernels_config": {
    "python": {
     "delete_cmd_postfix": "",
     "delete_cmd_prefix": "del ",
     "library": "var_list.py",
     "varRefreshCmd": "print(var_dic_list())"
    },
    "r": {
     "delete_cmd_postfix": ") ",
     "delete_cmd_prefix": "rm(",
     "library": "var_list.r",
     "varRefreshCmd": "cat(var_dic_list()) "
    }
   },
   "types_to_exclude": [
    "module",
    "function",
    "builtin_function_or_method",
    "instance",
    "_Feature"
   ],
   "window_display": false
  }
 },
 "nbformat": 4,
 "nbformat_minor": 2
}
