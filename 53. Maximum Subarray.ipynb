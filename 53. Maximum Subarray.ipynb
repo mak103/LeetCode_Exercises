{
 "cells": [
  {
   "cell_type": "markdown",
   "metadata": {},
   "source": [
    "Given an integer array nums, find the contiguous subarray (containing at least one number) which has the largest sum and return its sum.\n",
    "\n",
    "Example:\n",
    "\n",
    "Input: [-2,1,-3,4,-1,2,1,-5,4],\n",
    "Output: 6\n",
    "Explanation: [4,-1,2,1] has the largest sum = 6.\n",
    "Follow up:\n",
    "\n",
    "If you have figured out the O(n) solution, try coding another solution using the divide and conquer approach, which is more subtle."
   ]
  },
  {
   "cell_type": "code",
   "execution_count": 6,
   "metadata": {
    "ExecuteTime": {
     "end_time": "2020-01-31T07:09:58.146299Z",
     "start_time": "2020-01-31T07:09:58.137322Z"
    }
   },
   "outputs": [],
   "source": [
    "# from @lucifer\n",
    "class Solution(object):\n",
    "    def maxSubArray(self, nums):\n",
    "        \"\"\"\n",
    "        :type nums: List[int]\n",
    "        :rtype: int\n",
    "        \"\"\"\n",
    "        f_sum = []\n",
    "        # k-th elememt in the list f_sum is the sum of the first k elemetns in nums\n",
    "        for i in range(len(nums)):\n",
    "            f_sum.append(sum(nums[:i+1]))\n",
    "        sum_max = max(nums)\n",
    "        sum_min = 0\n",
    "        for i in range(len(f_sum)):\n",
    "            if f_sum[i] - sum_min > sum_max:\n",
    "                sum_max = f_sum[i] - sum_min\n",
    "            if f_sum[i] < sum_min:\n",
    "                sum_min = f_sum[i]\n",
    "                \n",
    "        return sum_max"
   ]
  },
  {
   "cell_type": "code",
   "execution_count": 5,
   "metadata": {
    "ExecuteTime": {
     "end_time": "2020-01-31T07:03:11.809964Z",
     "start_time": "2020-01-31T07:03:11.803948Z"
    }
   },
   "outputs": [
    {
     "data": {
      "text/plain": [
       "3"
      ]
     },
     "execution_count": 5,
     "metadata": {},
     "output_type": "execute_result"
    }
   ],
   "source": [
    "# divide and conquer approach\n",
    "class Solution(object):\n",
    "    def cross_max(self, left, n, right):\n",
    "        left = left[::-1]\n",
    "        left_sum = [0]\n",
    "        for i in range(len(left)):\n",
    "            left_sum.append(sum(left[:i+1]))\n",
    "        right_sum = [0]\n",
    "        for i in range(len(right)):\n",
    "            right_sum.append(sum(right[:i+1]))\n",
    "        return n+max(left_sum)+max(right_sum)\n",
    "        \n",
    "    def divide(self, nums):\n",
    "        if len(nums) == 1:\n",
    "            return\n",
    "        index = int(len(nums)/2)\n",
    "        left = nums[:index]\n",
    "        n = nums[index]\n",
    "        right = nums[index+1:]\n",
    "        cross_max_value = self.cross_max(left, n, right)\n",
    "        if cross_max_value > self.sum_max:\n",
    "            self.sum_max = cross_max_value\n",
    "        if len(left) > 1:\n",
    "            self.divide(left)\n",
    "        if len(right) > 1:\n",
    "            self.divide(right)\n",
    "        return\n",
    "        \n",
    "    def maxSubArray(self, nums):\n",
    "        \"\"\"\n",
    "        :type nums: List[int]\n",
    "        :rtype: int\n",
    "        \"\"\"\n",
    "        self.sum_max = max(nums)\n",
    "        self.divide(nums)\n",
    "        return self.sum_max"
   ]
  },
  {
   "cell_type": "code",
   "execution_count": 2,
   "metadata": {
    "ExecuteTime": {
     "end_time": "2020-01-31T07:02:38.170037Z",
     "start_time": "2020-01-31T07:02:38.158070Z"
    }
   },
   "outputs": [
    {
     "data": {
      "text/plain": [
       "9"
      ]
     },
     "execution_count": 2,
     "metadata": {},
     "output_type": "execute_result"
    }
   ],
   "source": [
    "sum(range(2,5))"
   ]
  },
  {
   "cell_type": "code",
   "execution_count": 13,
   "metadata": {
    "ExecuteTime": {
     "end_time": "2020-01-31T09:21:40.945069Z",
     "start_time": "2020-01-31T09:21:40.939109Z"
    }
   },
   "outputs": [
    {
     "data": {
      "text/plain": [
       "[5, 4, 3, 2, 1, 0]"
      ]
     },
     "execution_count": 13,
     "metadata": {},
     "output_type": "execute_result"
    }
   ],
   "source": [
    "l = [0,1,2,3,4,5]\n",
    "l[::-1]"
   ]
  },
  {
   "cell_type": "code",
   "execution_count": null,
   "metadata": {},
   "outputs": [],
   "source": []
  }
 ],
 "metadata": {
  "kernelspec": {
   "display_name": "Python 3",
   "language": "python",
   "name": "python3"
  },
  "language_info": {
   "codemirror_mode": {
    "name": "ipython",
    "version": 3
   },
   "file_extension": ".py",
   "mimetype": "text/x-python",
   "name": "python",
   "nbconvert_exporter": "python",
   "pygments_lexer": "ipython3",
   "version": "3.6.7"
  },
  "varInspector": {
   "cols": {
    "lenName": 16,
    "lenType": 16,
    "lenVar": 40
   },
   "kernels_config": {
    "python": {
     "delete_cmd_postfix": "",
     "delete_cmd_prefix": "del ",
     "library": "var_list.py",
     "varRefreshCmd": "print(var_dic_list())"
    },
    "r": {
     "delete_cmd_postfix": ") ",
     "delete_cmd_prefix": "rm(",
     "library": "var_list.r",
     "varRefreshCmd": "cat(var_dic_list()) "
    }
   },
   "types_to_exclude": [
    "module",
    "function",
    "builtin_function_or_method",
    "instance",
    "_Feature"
   ],
   "window_display": false
  }
 },
 "nbformat": 4,
 "nbformat_minor": 2
}
