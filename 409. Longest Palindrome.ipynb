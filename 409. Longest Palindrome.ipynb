{
 "cells": [
  {
   "cell_type": "markdown",
   "metadata": {},
   "source": [
    "Given a string which consists of lowercase or uppercase letters, find the length of the longest palindromes that can be built with those letters.\n",
    "\n",
    "This is case sensitive, for example \"Aa\" is not considered a palindrome here.\n",
    "\n",
    "Note:\n",
    "Assume the length of given string will not exceed 1,010.\n",
    "\n",
    "Example:\n",
    "\n",
    "Input:\n",
    "\"abccccdd\"\n",
    "\n",
    "Output:\n",
    "7\n",
    "\n",
    "Explanation:\n",
    "One longest palindrome that can be built is \"dccaccd\", whose length is 7."
   ]
  },
  {
   "cell_type": "code",
   "execution_count": null,
   "metadata": {},
   "outputs": [],
   "source": [
    "# My solution (32ms, 29.80%, 12.7MB, 7.69%)\n",
    "\n",
    "class Solution(object):\n",
    "    def longestPalindrome(self, s):\n",
    "        \"\"\"\n",
    "        :type s: str\n",
    "        :rtype: int\n",
    "        \"\"\"\n",
    "        dict_ = {}\n",
    "        for i in s:\n",
    "            if i not in dict_:\n",
    "                dict_[i] = 1\n",
    "            else:\n",
    "                dict_[i] += 1\n",
    "        odd, res = 0, 0\n",
    "        for k in dict_:\n",
    "            if odd == 0 and dict_[k]%2 == 1:\n",
    "                odd = 1\n",
    "            res += int(dict_[k]/2)*2\n",
    "        return res+odd"
   ]
  }
 ],
 "metadata": {
  "kernelspec": {
   "display_name": "Python 3",
   "language": "python",
   "name": "python3"
  },
  "language_info": {
   "codemirror_mode": {
    "name": "ipython",
    "version": 3
   },
   "file_extension": ".py",
   "mimetype": "text/x-python",
   "name": "python",
   "nbconvert_exporter": "python",
   "pygments_lexer": "ipython3",
   "version": "3.6.7"
  },
  "varInspector": {
   "cols": {
    "lenName": 16,
    "lenType": 16,
    "lenVar": 40
   },
   "kernels_config": {
    "python": {
     "delete_cmd_postfix": "",
     "delete_cmd_prefix": "del ",
     "library": "var_list.py",
     "varRefreshCmd": "print(var_dic_list())"
    },
    "r": {
     "delete_cmd_postfix": ") ",
     "delete_cmd_prefix": "rm(",
     "library": "var_list.r",
     "varRefreshCmd": "cat(var_dic_list()) "
    }
   },
   "types_to_exclude": [
    "module",
    "function",
    "builtin_function_or_method",
    "instance",
    "_Feature"
   ],
   "window_display": false
  }
 },
 "nbformat": 4,
 "nbformat_minor": 2
}
