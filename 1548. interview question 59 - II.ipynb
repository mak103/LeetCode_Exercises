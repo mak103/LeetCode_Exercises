{
 "cells": [
  {
   "cell_type": "markdown",
   "metadata": {},
   "source": [
    "请定义一个队列并实现函数 max_value 得到队列里的最大值，要求函数max_value、push_back 和 pop_front 的时间复杂度都是O(1)。\n",
    "\n",
    "若队列为空，pop_front 和 max_value 需要返回 -1\n",
    "\n",
    "示例 1：\n",
    "\n",
    "输入: \n",
    "[\"MaxQueue\",\"push_back\",\"push_back\",\"max_value\",\"pop_front\",\"max_value\"]\n",
    "[[],[1],[2],[],[],[]]\n",
    "输出: [null,null,null,2,1,2]\n",
    "示例 2：\n",
    "\n",
    "输入: \n",
    "[\"MaxQueue\",\"pop_front\",\"max_value\"]\n",
    "[[],[],[]]\n",
    "输出: [null,-1,-1]\n",
    " \n",
    "\n",
    "限制：\n",
    "\n",
    "1 <= push_back,pop_front,max_value的总操作数 <= 10000\n",
    "1 <= value <= 10^5"
   ]
  },
  {
   "cell_type": "code",
   "execution_count": null,
   "metadata": {},
   "outputs": [],
   "source": [
    "# My solution (740ms, 54.41%, 16.2MB, 100%)\n",
    "\n",
    "class MaxQueue(object):\n",
    "\n",
    "    def __init__(self):\n",
    "        self.queue = []\n",
    "\n",
    "    def max_value(self):\n",
    "        \"\"\"\n",
    "        :rtype: int\n",
    "        \"\"\"\n",
    "        if len(self.queue) == 0:\n",
    "            return -1\n",
    "        else:\n",
    "            return max(self.queue)\n",
    "\n",
    "    def push_back(self, value):\n",
    "        \"\"\"\n",
    "        :type value: int\n",
    "        :rtype: None\n",
    "        \"\"\"\n",
    "        self.queue.append(value)\n",
    "        return \n",
    "\n",
    "\n",
    "    def pop_front(self):\n",
    "        \"\"\"\n",
    "        :rtype: int\n",
    "        \"\"\"\n",
    "        if len(self.queue) == 0:\n",
    "            return -1\n",
    "        else:\n",
    "            return self.queue.pop(0)\n",
    "\n",
    "\n",
    "\n",
    "\n",
    "# Your MaxQueue object will be instantiated and called as such:\n",
    "# obj = MaxQueue()\n",
    "# param_1 = obj.max_value()\n",
    "# obj.push_back(value)\n",
    "# param_3 = obj.pop_front()"
   ]
  }
 ],
 "metadata": {
  "kernelspec": {
   "display_name": "Python 3",
   "language": "python",
   "name": "python3"
  },
  "language_info": {
   "codemirror_mode": {
    "name": "ipython",
    "version": 3
   },
   "file_extension": ".py",
   "mimetype": "text/x-python",
   "name": "python",
   "nbconvert_exporter": "python",
   "pygments_lexer": "ipython3",
   "version": "3.6.7"
  },
  "varInspector": {
   "cols": {
    "lenName": 16,
    "lenType": 16,
    "lenVar": 40
   },
   "kernels_config": {
    "python": {
     "delete_cmd_postfix": "",
     "delete_cmd_prefix": "del ",
     "library": "var_list.py",
     "varRefreshCmd": "print(var_dic_list())"
    },
    "r": {
     "delete_cmd_postfix": ") ",
     "delete_cmd_prefix": "rm(",
     "library": "var_list.r",
     "varRefreshCmd": "cat(var_dic_list()) "
    }
   },
   "types_to_exclude": [
    "module",
    "function",
    "builtin_function_or_method",
    "instance",
    "_Feature"
   ],
   "window_display": false
  }
 },
 "nbformat": 4,
 "nbformat_minor": 2
}
