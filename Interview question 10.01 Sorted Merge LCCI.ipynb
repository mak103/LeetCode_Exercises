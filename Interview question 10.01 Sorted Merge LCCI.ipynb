{
 "cells": [
  {
   "cell_type": "markdown",
   "metadata": {},
   "source": [
    "You are given two sorted arrays, A and B, where A has a large enough buffer at the end to hold B. Write a method to merge B into A in sorted order.\n",
    "\n",
    "Initially the number of elements in A and B are m and n respectively.\n",
    "\n",
    "Example:\n",
    "\n",
    "Input:\n",
    "A = [1,2,3,0,0,0], m = 3\n",
    "B = [2,5,6],       n = 3\n",
    "\n",
    "Output: [1,2,2,3,5,6]"
   ]
  },
  {
   "cell_type": "code",
   "execution_count": null,
   "metadata": {},
   "outputs": [],
   "source": [
    "# My solution (24ms, 75%, 11.8MB, 100%)\n",
    "\n",
    "class Solution(object):\n",
    "    def merge(self, A, m, B, n):\n",
    "        \"\"\"\n",
    "        :type A: List[int]\n",
    "        :type m: int\n",
    "        :type B: List[int]\n",
    "        :type n: int\n",
    "        :rtype: None Do not return anything, modify A in-place instead.\n",
    "        \"\"\"\n",
    "        for i in range(m, m+n):\n",
    "            A[i] = B[i-m]\n",
    "        while len(A) > (m+n):\n",
    "            A.pop()\n",
    "        A[:] = sorted(A)\n",
    "        return "
   ]
  },
  {
   "cell_type": "code",
   "execution_count": null,
   "metadata": {},
   "outputs": [],
   "source": [
    "# My second solution (24ms, 75%, 11.6MB, 100%)\n",
    "\n",
    "class Solution(object):\n",
    "    def merge(self, A, m, B, n):\n",
    "        \"\"\"\n",
    "        :type A: List[int]\n",
    "        :type m: int\n",
    "        :type B: List[int]\n",
    "        :type n: int\n",
    "        :rtype: None Do not return anything, modify A in-place instead.\n",
    "        \"\"\"\n",
    "        i, j = 0, 0\n",
    "        l_a = m\n",
    "        while j < n:\n",
    "            val = B[j]\n",
    "            if A[i] >= val:\n",
    "                A.insert(i, val)\n",
    "                l_a += 1\n",
    "                j += 1\n",
    "            elif i == l_a:\n",
    "                A[i] = val\n",
    "                l_a += 1\n",
    "                j += 1\n",
    "            i += 1\n",
    "        while len(A) > m+n:\n",
    "            A.pop()\n",
    "        return"
   ]
  }
 ],
 "metadata": {
  "kernelspec": {
   "display_name": "Python 3",
   "language": "python",
   "name": "python3"
  },
  "language_info": {
   "codemirror_mode": {
    "name": "ipython",
    "version": 3
   },
   "file_extension": ".py",
   "mimetype": "text/x-python",
   "name": "python",
   "nbconvert_exporter": "python",
   "pygments_lexer": "ipython3",
   "version": "3.6.7"
  },
  "varInspector": {
   "cols": {
    "lenName": 16,
    "lenType": 16,
    "lenVar": 40
   },
   "kernels_config": {
    "python": {
     "delete_cmd_postfix": "",
     "delete_cmd_prefix": "del ",
     "library": "var_list.py",
     "varRefreshCmd": "print(var_dic_list())"
    },
    "r": {
     "delete_cmd_postfix": ") ",
     "delete_cmd_prefix": "rm(",
     "library": "var_list.r",
     "varRefreshCmd": "cat(var_dic_list()) "
    }
   },
   "types_to_exclude": [
    "module",
    "function",
    "builtin_function_or_method",
    "instance",
    "_Feature"
   ],
   "window_display": false
  }
 },
 "nbformat": 4,
 "nbformat_minor": 2
}
