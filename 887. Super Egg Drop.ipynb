{
 "cells": [
  {
   "cell_type": "markdown",
   "metadata": {},
   "source": [
    "You are given K eggs, and you have access to a building with N floors from 1 to N. \n",
    "\n",
    "Each egg is identical in function, and if an egg breaks, you cannot drop it again.\n",
    "\n",
    "You know that there exists a floor F with 0 <= F <= N such that any egg dropped at a floor higher than F will break, and any egg dropped at or below floor F will not break.\n",
    "\n",
    "Each move, you may take an egg (if you have an unbroken one) and drop it from any floor X (with 1 <= X <= N). \n",
    "\n",
    "Your goal is to know with certainty what the value of F is.\n",
    "\n",
    "What is the minimum number of moves that you need to know with certainty what F is, regardless of the initial value of F?\n",
    "\n",
    " \n",
    "\n",
    "Example 1:\n",
    "\n",
    "Input: K = 1, N = 2\n",
    "Output: 2\n",
    "Explanation: \n",
    "Drop the egg from floor 1.  If it breaks, we know with certainty that F = 0.\n",
    "Otherwise, drop the egg from floor 2.  If it breaks, we know with certainty that F = 1.\n",
    "If it didn't break, then we know with certainty F = 2.\n",
    "Hence, we needed 2 moves in the worst case to know what F is with certainty.\n",
    "Example 2:\n",
    "\n",
    "Input: K = 2, N = 6\n",
    "Output: 3\n",
    "Example 3:\n",
    "\n",
    "Input: K = 3, N = 14\n",
    "Output: 4\n",
    " \n",
    "\n",
    "Note:\n",
    "\n",
    "1.1 <= K <= 100\n",
    "2.1 <= N <= 10000\n"
   ]
  },
  {
   "cell_type": "code",
   "execution_count": null,
   "metadata": {},
   "outputs": [],
   "source": [
    "# My solution with hint of binary search\n",
    "# 思路：对于第i层，要是蛋摔坏了，那就等于是用k-1个但去找从1到i-1层。要是蛋没坏，就是用K个蛋去找从i+1到N层\n",
    "# 从网上得到的帮助：为了找到合适的i，用二分法来找。因为随着i增加，self.dp[n_mid-1][K-1]单调减小，而self.dp[n_mid-1][K-1]单调递增。 \n",
    "\n",
    "import math\n",
    "class Solution(object):\n",
    "    def egg(self, K, N):\n",
    "        if N == 1:\n",
    "            return 1\n",
    "        if N == 0:\n",
    "            return 0\n",
    "        if K == 1:\n",
    "            return N\n",
    "        res = float('inf')\n",
    "        n_min, n_max = 1, N\n",
    "        while n_max > n_min:\n",
    "            n_mid = int((n_max+n_min)/2)\n",
    "            if self.dp[N-n_mid][K] == -1:\n",
    "                self.dp[N-n_mid][K] = self.egg(K, N-n_mid)\n",
    "            if self.dp[n_mid-1][K-1] == -1:\n",
    "                self.dp[n_mid-1][K-1] = self.egg(K-1, n_mid-1)\n",
    "            res = min(res, max(self.dp[N-n_mid][K], self.dp[n_mid-1][K-1]))\n",
    "            if self.dp[N-n_mid][K] >= self.dp[n_mid-1][K-1]:\n",
    "                n_min = max(n_mid, n_min+1)\n",
    "            else:\n",
    "                n_max = min(n_mid, n_max-1)\n",
    "        return res + 1 \n",
    "\n",
    "    def superEggDrop(self, K, N):\n",
    "        \"\"\"\n",
    "        :type K: int\n",
    "        :type N: int\n",
    "        :rtype: int\n",
    "        \"\"\"\n",
    "        self.dp = [[-1 for i in range(K+1)]for j in range(N+1)]\n",
    "        return self.egg(K,N)"
   ]
  }
 ],
 "metadata": {
  "kernelspec": {
   "display_name": "Python 3",
   "language": "python",
   "name": "python3"
  },
  "language_info": {
   "codemirror_mode": {
    "name": "ipython",
    "version": 3
   },
   "file_extension": ".py",
   "mimetype": "text/x-python",
   "name": "python",
   "nbconvert_exporter": "python",
   "pygments_lexer": "ipython3",
   "version": "3.6.7"
  },
  "varInspector": {
   "cols": {
    "lenName": 16,
    "lenType": 16,
    "lenVar": 40
   },
   "kernels_config": {
    "python": {
     "delete_cmd_postfix": "",
     "delete_cmd_prefix": "del ",
     "library": "var_list.py",
     "varRefreshCmd": "print(var_dic_list())"
    },
    "r": {
     "delete_cmd_postfix": ") ",
     "delete_cmd_prefix": "rm(",
     "library": "var_list.r",
     "varRefreshCmd": "cat(var_dic_list()) "
    }
   },
   "types_to_exclude": [
    "module",
    "function",
    "builtin_function_or_method",
    "instance",
    "_Feature"
   ],
   "window_display": false
  }
 },
 "nbformat": 4,
 "nbformat_minor": 2
}
