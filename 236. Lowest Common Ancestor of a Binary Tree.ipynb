{
 "cells": [
  {
   "cell_type": "markdown",
   "metadata": {},
   "source": [
    "Given a binary tree, find the lowest common ancestor (LCA) of two given nodes in the tree.\n",
    "\n",
    "According to the definition of LCA on Wikipedia: “The lowest common ancestor is defined between two nodes p and q as the lowest node in T that has both p and q as descendants (where we allow a node to be a descendant of itself).”\n",
    "\n",
    "Given the following binary tree:  root = [3,5,1,6,2,0,8,null,null,7,4]\n",
    "\n",
    "\n",
    " \n",
    "\n",
    "Example 1:\n",
    "\n",
    "Input: root = [3,5,1,6,2,0,8,null,null,7,4], p = 5, q = 1\n",
    "Output: 3\n",
    "Explanation: The LCA of nodes 5 and 1 is 3.\n",
    "Example 2:\n",
    "\n",
    "Input: root = [3,5,1,6,2,0,8,null,null,7,4], p = 5, q = 4\n",
    "Output: 5\n",
    "Explanation: The LCA of nodes 5 and 4 is 5, since a node can be a descendant of itself according to the LCA definition.\n",
    " \n",
    "\n",
    "Note:\n",
    "\n",
    "All of the nodes' values will be unique.\n",
    "p and q are different and both values will exist in the binary tree.\n"
   ]
  },
  {
   "cell_type": "code",
   "execution_count": null,
   "metadata": {},
   "outputs": [],
   "source": [
    "# My solution (788ms)\n",
    "\n",
    "# Definition for a binary tree node.\n",
    "# class TreeNode(object):\n",
    "#     def __init__(self, x):\n",
    "#         self.val = x\n",
    "#         self.left = None\n",
    "#         self.right = None\n",
    "\n",
    "class Solution(object):\n",
    "    def path(self, root, isP):\n",
    "        if (isP and root.val == self.p) or ((not isP) and root.val == self.q):\n",
    "            return True\n",
    "        else:\n",
    "            if root.left is not None and self.path(root.left, isP):\n",
    "                if isP:\n",
    "                    self.p_path = ['l'] + self.p_path\n",
    "                else:\n",
    "                    self.q_path = ['l'] + self.q_path\n",
    "                return True\n",
    "            if root.right is not None and self.path(root.right, isP):\n",
    "                if isP:\n",
    "                    self.p_path = ['r'] + self.p_path\n",
    "                else:\n",
    "                    self.q_path = ['r'] + self.q_path\n",
    "                return True\n",
    "        return False\n",
    "\n",
    "    def lowestCommonAncestor(self, root, p, q):\n",
    "        \"\"\"\n",
    "        :type root: TreeNode\n",
    "        :type p: TreeNode\n",
    "        :type q: TreeNode\n",
    "        :rtype: TreeNode\n",
    "        \"\"\"\n",
    "        if root is None:\n",
    "            return None\n",
    "        if root.val == p.val or root.val == q.val:\n",
    "            return root\n",
    "        else:\n",
    "            self.p, self.q = p.val, q.val\n",
    "            self.p_path, self.q_path = [], []\n",
    "            self.path(root, True)\n",
    "            self.path(root, False)\n",
    "            index = 0\n",
    "            while index < min(len(self.p_path), len(self.q_path)):\n",
    "                if self.p_path[index] != self.q_path[index]:\n",
    "                    return root\n",
    "                else:\n",
    "                    if self.p_path[index] == 'l':\n",
    "                        root = root.left\n",
    "                    else:\n",
    "                        root = root.right\n",
    "                index += 1\n",
    "            return root"
   ]
  },
  {
   "cell_type": "code",
   "execution_count": null,
   "metadata": {},
   "outputs": [],
   "source": [
    "# Another solution (recursion) found online(84ms)\n",
    "\n",
    "# Definition for a binary tree node.\n",
    "# class TreeNode(object):\n",
    "#     def __init__(self, x):\n",
    "#         self.val = x\n",
    "#         self.left = None\n",
    "#         self.right = None\n",
    "\n",
    "class Solution(object):\n",
    "    def lowestCommonAncestor(self, root, p, q):\n",
    "        \"\"\"\n",
    "        :type root: TreeNode\n",
    "        :type p: TreeNode\n",
    "        :type q: TreeNode\n",
    "        :rtype: TreeNode\n",
    "        \"\"\"\n",
    "        if root is None:\n",
    "            return None\n",
    "        if root.val == p.val or root.val == q.val:\n",
    "            return root\n",
    "        else:\n",
    "            left = self.lowestCommonAncestor(root.left, p, q)\n",
    "            right = self.lowestCommonAncestor(root.right, p, q)\n",
    "            if left is None and right is None:\n",
    "                return None\n",
    "            elif left is None:\n",
    "                return right\n",
    "            elif right is None:\n",
    "                return left\n",
    "            else:\n",
    "                return root"
   ]
  }
 ],
 "metadata": {
  "kernelspec": {
   "display_name": "Python 3",
   "language": "python",
   "name": "python3"
  },
  "language_info": {
   "codemirror_mode": {
    "name": "ipython",
    "version": 3
   },
   "file_extension": ".py",
   "mimetype": "text/x-python",
   "name": "python",
   "nbconvert_exporter": "python",
   "pygments_lexer": "ipython3",
   "version": "3.6.7"
  },
  "varInspector": {
   "cols": {
    "lenName": 16,
    "lenType": 16,
    "lenVar": 40
   },
   "kernels_config": {
    "python": {
     "delete_cmd_postfix": "",
     "delete_cmd_prefix": "del ",
     "library": "var_list.py",
     "varRefreshCmd": "print(var_dic_list())"
    },
    "r": {
     "delete_cmd_postfix": ") ",
     "delete_cmd_prefix": "rm(",
     "library": "var_list.r",
     "varRefreshCmd": "cat(var_dic_list()) "
    }
   },
   "types_to_exclude": [
    "module",
    "function",
    "builtin_function_or_method",
    "instance",
    "_Feature"
   ],
   "window_display": false
  }
 },
 "nbformat": 4,
 "nbformat_minor": 2
}
