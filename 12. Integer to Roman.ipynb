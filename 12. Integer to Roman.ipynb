{
 "cells": [
  {
   "cell_type": "markdown",
   "metadata": {},
   "source": [
    "Roman numerals are represented by seven different symbols: I, V, X, L, C, D and M.\n",
    "\n",
    "Symbol       Value\n",
    "I             1\n",
    "V             5\n",
    "X             10\n",
    "L             50\n",
    "C             100\n",
    "D             500\n",
    "M             1000\n",
    "For example, two is written as II in Roman numeral, just two one's added together. Twelve is written as, XII, which is simply X + II. The number twenty seven is written as XXVII, which is XX + V + II.\n",
    "\n",
    "Roman numerals are usually written largest to smallest from left to right. However, the numeral for four is not IIII. Instead, the number four is written as IV. Because the one is before the five we subtract it making four. The same principle applies to the number nine, which is written as IX. There are six instances where subtraction is used:\n",
    "\n",
    "I can be placed before V (5) and X (10) to make 4 and 9. \n",
    "X can be placed before L (50) and C (100) to make 40 and 90. \n",
    "C can be placed before D (500) and M (1000) to make 400 and 900.\n",
    "Given an integer, convert it to a roman numeral. Input is guaranteed to be within the range from 1 to 3999.\n",
    "\n",
    "Example 1:\n",
    "\n",
    "Input: 3\n",
    "Output: \"III\"\n",
    "Example 2:\n",
    "\n",
    "Input: 4\n",
    "Output: \"IV\"\n",
    "Example 3:\n",
    "\n",
    "Input: 9\n",
    "Output: \"IX\"\n",
    "Example 4:\n",
    "\n",
    "Input: 58\n",
    "Output: \"LVIII\"\n",
    "Explanation: L = 50, V = 5, III = 3.\n",
    "Example 5:\n",
    "\n",
    "Input: 1994\n",
    "Output: \"MCMXCIV\"\n",
    "Explanation: M = 1000, CM = 900, XC = 90 and IV = 4."
   ]
  },
  {
   "cell_type": "code",
   "execution_count": null,
   "metadata": {},
   "outputs": [],
   "source": [
    "class Solution(object):\n",
    "    def intToRoman(self, num):\n",
    "        \"\"\"\n",
    "        :type num: int\n",
    "        :rtype: str\n",
    "        \"\"\"\n",
    "        mark_list = ['I','V','X','L','C','D','M']\n",
    "        num5 = [0] * len(mark_list)\n",
    "        temp = 5\n",
    "        output = ''\n",
    "        for i in range(len(num5)):\n",
    "            rest = num % temp\n",
    "            if temp == 5:\n",
    "                if rest == 4:\n",
    "                    output = mark_list[i] + mark_list[i+1] + output\n",
    "                else:\n",
    "                    output = mark_list[i]*rest + output\n",
    "            else:\n",
    "                try:\n",
    "                    if mark_list[i] == output[1] and rest == 1:\n",
    "                        output = output[0] + mark_list[i+1] + output[2:]\n",
    "                    else:\n",
    "                        output = mark_list[i]*rest + output\n",
    "                except:\n",
    "                    output = mark_list[i]*rest + output\n",
    "            num = int(num / temp)\n",
    "            temp = 10 / temp\n",
    "        \n",
    "        return output"
   ]
  }
 ],
 "metadata": {
  "kernelspec": {
   "display_name": "Python 3",
   "language": "python",
   "name": "python3"
  },
  "language_info": {
   "codemirror_mode": {
    "name": "ipython",
    "version": 3
   },
   "file_extension": ".py",
   "mimetype": "text/x-python",
   "name": "python",
   "nbconvert_exporter": "python",
   "pygments_lexer": "ipython3",
   "version": "3.6.7"
  }
 },
 "nbformat": 4,
 "nbformat_minor": 2
}
