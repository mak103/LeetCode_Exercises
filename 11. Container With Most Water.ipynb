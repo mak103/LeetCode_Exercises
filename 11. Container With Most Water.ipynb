{
 "cells": [
  {
   "cell_type": "markdown",
   "metadata": {},
   "source": [
    "Given n non-negative integers a1, a2, ..., an , where each represents a point at coordinate (i, ai). n vertical lines are drawn such that the two endpoints of line i is at (i, ai) and (i, 0). Find two lines, which together with x-axis forms a container, such that the container contains the most water.\n",
    "\n",
    "Note: You may not slant the container and n is at least 2.\n",
    "\n",
    "The above vertical lines are represented by array [1,8,6,2,5,4,8,3,7]. In this case, the max area of water (blue section) the container can contain is 49."
   ]
  },
  {
   "cell_type": "code",
   "execution_count": null,
   "metadata": {},
   "outputs": [],
   "source": [
    "# Simple two-pointer solution(116)\n",
    "class Solution(object):\n",
    "    def maxArea(self, height):\n",
    "        \"\"\"\n",
    "        :type height: List[int]\n",
    "        :rtype: int\n",
    "        \"\"\"\n",
    "        res = 0\n",
    "        l, r = 0, len(height)-1\n",
    "        while l < r:\n",
    "            res = max(res, (r-l) * min(height[l], height[r]))\n",
    "            if height[l] < height[r]:\n",
    "                l += 1\n",
    "            else:\n",
    "                r -= 1\n",
    "        return res"
   ]
  },
  {
   "cell_type": "code",
   "execution_count": 1,
   "metadata": {},
   "outputs": [],
   "source": [
    "# Updated two-pointer solution (32ms)\n",
    "class Solution(object):\n",
    "    def maxArea(self, height):\n",
    "        \"\"\"\n",
    "        :type height: List[int]\n",
    "        :rtype: int\n",
    "        \"\"\"\n",
    "        n_max, l_mark, r_mark = 0, 0, len(height)-1\n",
    "        while l_mark < r_mark:\n",
    "            wide = r_mark - l_mark\n",
    "            l_height, r_height = height[l_mark], height[r_mark]\n",
    "            if l_height >= r_height:\n",
    "                s = wide * r_height\n",
    "                while height[r_mark] <= r_height and r_mark > l_mark:\n",
    "                    r_mark -= 1\n",
    "            else:\n",
    "                s = wide * l_height\n",
    "                while height[l_mark] <= l_height and l_mark < r_mark:\n",
    "                    l_mark += 1\n",
    "            n_max = max(n_max, s)\n",
    "        return n_max"
   ]
  },
  {
   "cell_type": "code",
   "execution_count": null,
   "metadata": {},
   "outputs": [],
   "source": [
    "#solution not accepted, excess time limit\n",
    "class Solution(object):\n",
    "    def maxArea(self, height):\n",
    "        \"\"\"\n",
    "        :type height: List[int]\n",
    "        :rtype: int\n",
    "        \"\"\"\n",
    "        n_max = 0\n",
    "        for index, item in enumerate(height):\n",
    "            left = height[:index]\n",
    "            right = height[index+1:][::-1]\n",
    "            if len(left) > len(right):\n",
    "                right = [0]*(len(left)-len(right)) + right\n",
    "            else:\n",
    "                left = [0]*(len(right)-len(left)) + left\n",
    "            for i in range(len(left)):\n",
    "                if max(left[i], right[i]) >= item:\n",
    "                    n_max = max(n_max, item * (len(left)-i))\n",
    "                    break\n",
    "        return n_max"
   ]
  }
 ],
 "metadata": {
  "kernelspec": {
   "display_name": "Python 3",
   "language": "python",
   "name": "python3"
  },
  "language_info": {
   "codemirror_mode": {
    "name": "ipython",
    "version": 3
   },
   "file_extension": ".py",
   "mimetype": "text/x-python",
   "name": "python",
   "nbconvert_exporter": "python",
   "pygments_lexer": "ipython3",
   "version": "3.6.7"
  },
  "varInspector": {
   "cols": {
    "lenName": 16,
    "lenType": 16,
    "lenVar": 40
   },
   "kernels_config": {
    "python": {
     "delete_cmd_postfix": "",
     "delete_cmd_prefix": "del ",
     "library": "var_list.py",
     "varRefreshCmd": "print(var_dic_list())"
    },
    "r": {
     "delete_cmd_postfix": ") ",
     "delete_cmd_prefix": "rm(",
     "library": "var_list.r",
     "varRefreshCmd": "cat(var_dic_list()) "
    }
   },
   "types_to_exclude": [
    "module",
    "function",
    "builtin_function_or_method",
    "instance",
    "_Feature"
   ],
   "window_display": false
  }
 },
 "nbformat": 4,
 "nbformat_minor": 2
}
