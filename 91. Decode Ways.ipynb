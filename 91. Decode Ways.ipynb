{
 "cells": [
  {
   "cell_type": "markdown",
   "metadata": {},
   "source": [
    "A message containing letters from A-Z is being encoded to numbers using the following mapping:\n",
    "\n",
    "'A' -> 1\n",
    "'B' -> 2\n",
    "...\n",
    "'Z' -> 26\n",
    "Given a non-empty string containing only digits, determine the total number of ways to decode it.\n",
    "\n",
    "Example 1:\n",
    "\n",
    "Input: \"12\"\n",
    "Output: 2\n",
    "Explanation: It could be decoded as \"AB\" (1 2) or \"L\" (12).\n",
    "Example 2:\n",
    "\n",
    "Input: \"226\"\n",
    "Output: 3\n",
    "Explanation: It could be decoded as \"BZ\" (2 26), \"VF\" (22 6), or \"BBF\" (2 2 6)."
   ]
  },
  {
   "cell_type": "code",
   "execution_count": null,
   "metadata": {
    "ExecuteTime": {
     "end_time": "2020-02-11T05:59:57.111266Z",
     "start_time": "2020-02-11T05:59:57.096304Z"
    }
   },
   "outputs": [],
   "source": [
    "# My solution (dynamic programming)\n",
    "class Solution(object):\n",
    "    def numDecodings(self, s):\n",
    "        \"\"\"\n",
    "        :type s: str\n",
    "        :rtype: int\n",
    "        \"\"\"\n",
    "        #while len(s) > 0 and s[0] == '0':\n",
    "        #    s = s[1:]\n",
    "        if len(s) == 0 or s[0] == '0':\n",
    "            return 0\n",
    "        dp = []\n",
    "        dp.append(1)\n",
    "        for i in range(1, len(s)):\n",
    "            if s[i] == '0':\n",
    "                if s[i-1] == '1' or s[i-1] == '2':\n",
    "                    dp.append(dp[i-2])\n",
    "                else:\n",
    "                    return 0\n",
    "            elif s[i-1] == '1':\n",
    "                dp.append(dp[i-1]+dp[i-2])\n",
    "            elif s[i-1] == '2':\n",
    "                if int(s[i]) <= 6:\n",
    "                    dp.append(dp[i-1]+dp[i-2])\n",
    "                else:\n",
    "                    dp.append(dp[i-1])\n",
    "            else:\n",
    "                dp.append(dp[i-1])\n",
    "        return dp[-1]"
   ]
  }
 ],
 "metadata": {
  "kernelspec": {
   "display_name": "Python 3",
   "language": "python",
   "name": "python3"
  },
  "language_info": {
   "codemirror_mode": {
    "name": "ipython",
    "version": 3
   },
   "file_extension": ".py",
   "mimetype": "text/x-python",
   "name": "python",
   "nbconvert_exporter": "python",
   "pygments_lexer": "ipython3",
   "version": "3.6.7"
  },
  "varInspector": {
   "cols": {
    "lenName": 16,
    "lenType": 16,
    "lenVar": 40
   },
   "kernels_config": {
    "python": {
     "delete_cmd_postfix": "",
     "delete_cmd_prefix": "del ",
     "library": "var_list.py",
     "varRefreshCmd": "print(var_dic_list())"
    },
    "r": {
     "delete_cmd_postfix": ") ",
     "delete_cmd_prefix": "rm(",
     "library": "var_list.r",
     "varRefreshCmd": "cat(var_dic_list()) "
    }
   },
   "types_to_exclude": [
    "module",
    "function",
    "builtin_function_or_method",
    "instance",
    "_Feature"
   ],
   "window_display": false
  }
 },
 "nbformat": 4,
 "nbformat_minor": 2
}
