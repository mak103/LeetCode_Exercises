{
 "cells": [
  {
   "cell_type": "markdown",
   "metadata": {},
   "source": [
    "Given an integer n, generate all structurally unique BST's (binary search trees) that store values 1 ... n.\n",
    "\n",
    "Example:\n",
    "\n",
    "Input: 3\n",
    "Output:\n",
    "[\n",
    "  [1,null,3,2],\n",
    "  [3,2,null,1],\n",
    "  [3,1,null,null,2],\n",
    "  [2,1,3],\n",
    "  [1,null,2,null,3]\n",
    "]\n",
    "Explanation:\n",
    "The above output corresponds to the 5 unique BST's shown below:\n",
    "\n",
    "   1         3     3      2      1\n",
    "    \\       /     /      / \\      \\\n",
    "     3     2     1      1   3      2\n",
    "    /     /       \\                 \\\n",
    "   2     1         2                 3"
   ]
  },
  {
   "cell_type": "code",
   "execution_count": null,
   "metadata": {
    "ExecuteTime": {
     "end_time": "2020-02-11T08:42:28.622740Z",
     "start_time": "2020-02-11T08:42:28.610773Z"
    }
   },
   "outputs": [],
   "source": [
    "# My solution\n",
    "\n",
    "# Definition for a binary tree node.\n",
    "# class TreeNode(object):\n",
    "#     def __init__(self, x):\n",
    "#         self.val = x\n",
    "#         self.left = None\n",
    "#         self.right = None\n",
    "\n",
    "class Solution(object):\n",
    "    def createTree(self, n, left, right):\n",
    "        res = []\n",
    "        t_left, t_right = [], []\n",
    "        if len(left) != 0:\n",
    "            for i in range(len(left)):\n",
    "                t_left += self.createTree(left[i], left[:i], left[i+1:])\n",
    "        else:\n",
    "            t_left = [None]\n",
    "        if len(right) != 0:\n",
    "            for i in range(len(right)):\n",
    "                t_right += self.createTree(right[i], right[:i], right[i+1:])\n",
    "        else:\n",
    "            t_right = [None]\n",
    "        for l in t_left:\n",
    "            for r in t_right:\n",
    "                tree = TreeNode(n)\n",
    "                tree.left = l\n",
    "                tree.right = r\n",
    "                res.append(tree)\n",
    "        return res\n",
    "        \n",
    "\n",
    "\n",
    "\n",
    "    def generateTrees(self, n):\n",
    "        \"\"\"\n",
    "        :type n: int\n",
    "        :rtype: List[TreeNode]\n",
    "        \"\"\"\n",
    "        if n == 0:\n",
    "            return []\n",
    "        l, res = [], []\n",
    "        for i in range(1, n+1):\n",
    "            l.append(i)\n",
    "        for i in range(len(l)):\n",
    "            res += self.createTree(l[i], l[:i], l[i+1:])\n",
    "        return res"
   ]
  }
 ],
 "metadata": {
  "kernelspec": {
   "display_name": "Python 3",
   "language": "python",
   "name": "python3"
  },
  "language_info": {
   "codemirror_mode": {
    "name": "ipython",
    "version": 3
   },
   "file_extension": ".py",
   "mimetype": "text/x-python",
   "name": "python",
   "nbconvert_exporter": "python",
   "pygments_lexer": "ipython3",
   "version": "3.6.7"
  },
  "varInspector": {
   "cols": {
    "lenName": 16,
    "lenType": 16,
    "lenVar": 40
   },
   "kernels_config": {
    "python": {
     "delete_cmd_postfix": "",
     "delete_cmd_prefix": "del ",
     "library": "var_list.py",
     "varRefreshCmd": "print(var_dic_list())"
    },
    "r": {
     "delete_cmd_postfix": ") ",
     "delete_cmd_prefix": "rm(",
     "library": "var_list.r",
     "varRefreshCmd": "cat(var_dic_list()) "
    }
   },
   "types_to_exclude": [
    "module",
    "function",
    "builtin_function_or_method",
    "instance",
    "_Feature"
   ],
   "window_display": false
  }
 },
 "nbformat": 4,
 "nbformat_minor": 2
}
