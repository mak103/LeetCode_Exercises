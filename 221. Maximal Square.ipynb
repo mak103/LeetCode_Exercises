{
 "cells": [
  {
   "cell_type": "markdown",
   "metadata": {},
   "source": [
    "Given a 2D binary matrix filled with 0's and 1's, find the largest square containing only 1's and return its area.\n",
    "\n",
    "Example:\n",
    "\n",
    "Input: \n",
    "\n",
    "1 0 1 0 0\n",
    "1 0 1 1 1\n",
    "1 1 1 1 1\n",
    "1 0 0 1 0\n",
    "\n",
    "Output: 4"
   ]
  },
  {
   "cell_type": "code",
   "execution_count": null,
   "metadata": {},
   "outputs": [],
   "source": [
    "# My solution\n",
    "class Solution(object):\n",
    "    def maximalSquare(self, matrix):\n",
    "        \"\"\"\n",
    "        :type matrix: List[List[str]]\n",
    "        :rtype: int\n",
    "        \"\"\"\n",
    "        if len(matrix) == 0:\n",
    "            return 0\n",
    "        m, n = len(matrix), len(matrix[0])\n",
    "        bool_zero = True\n",
    "        for i in range(m):\n",
    "            if '1' in matrix[i]:\n",
    "                bool_zero = False\n",
    "                break\n",
    "        if bool_zero:\n",
    "            return 0\n",
    "        if m == 1 or n == 1:\n",
    "            return 1\n",
    "        #new_matrix = [['0']*(n-1)]*(m-1) (为什么这样创建二维list的时候，改变一行中一个数子的时候 会把每行都改变？？？)\n",
    "        new_matrix = []\n",
    "        for i in range(m-1):\n",
    "            new_matrix.append(['0']*(n-1))\n",
    "        for i in range(m-1):\n",
    "            for j in range(n-1):\n",
    "                if matrix[i][j] == '1':\n",
    "                    if matrix[i+1][j] == '1' and matrix[i][j+1] == '1' and matrix[i+1][j+1] == '1':\n",
    "                        new_matrix[i][j] = '1'\n",
    "        return int((1+self.maximalSquare(new_matrix)**0.5)**2)"
   ]
  }
 ],
 "metadata": {
  "kernelspec": {
   "display_name": "Python 3",
   "language": "python",
   "name": "python3"
  },
  "language_info": {
   "codemirror_mode": {
    "name": "ipython",
    "version": 3
   },
   "file_extension": ".py",
   "mimetype": "text/x-python",
   "name": "python",
   "nbconvert_exporter": "python",
   "pygments_lexer": "ipython3",
   "version": "3.6.7"
  },
  "varInspector": {
   "cols": {
    "lenName": 16,
    "lenType": 16,
    "lenVar": 40
   },
   "kernels_config": {
    "python": {
     "delete_cmd_postfix": "",
     "delete_cmd_prefix": "del ",
     "library": "var_list.py",
     "varRefreshCmd": "print(var_dic_list())"
    },
    "r": {
     "delete_cmd_postfix": ") ",
     "delete_cmd_prefix": "rm(",
     "library": "var_list.r",
     "varRefreshCmd": "cat(var_dic_list()) "
    }
   },
   "types_to_exclude": [
    "module",
    "function",
    "builtin_function_or_method",
    "instance",
    "_Feature"
   ],
   "window_display": false
  }
 },
 "nbformat": 4,
 "nbformat_minor": 2
}
