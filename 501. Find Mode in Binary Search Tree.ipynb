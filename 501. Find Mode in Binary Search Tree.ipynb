{
 "cells": [
  {
   "cell_type": "markdown",
   "metadata": {},
   "source": [
    "Given a binary search tree (BST) with duplicates, find all the mode(s) (the most frequently occurred element) in the given BST.\n",
    "\n",
    "Assume a BST is defined as follows:\n",
    "\n",
    "The left subtree of a node contains only nodes with keys less than or equal to the node's key.\n",
    "The right subtree of a node contains only nodes with keys greater than or equal to the node's key.\n",
    "Both the left and right subtrees must also be binary search trees.\n",
    " \n",
    "\n",
    "For example:\n",
    "Given BST [1,null,2,2],\n",
    "\n",
    "   1\n",
    "    \\\n",
    "     2\n",
    "    /\n",
    "   2\n",
    " \n",
    "\n",
    "return [2].\n",
    "\n",
    "Note: If a tree has more than one mode, you can return them in any order.\n",
    "\n",
    "Follow up: Could you do that without using any extra space? (Assume that the implicit stack space incurred due to recursion does not count)."
   ]
  },
  {
   "cell_type": "code",
   "execution_count": null,
   "metadata": {},
   "outputs": [],
   "source": [
    "# My solution\n",
    "\n",
    "# Definition for a binary tree node.\n",
    "# class TreeNode(object):\n",
    "#     def __init__(self, x):\n",
    "#         self.val = x\n",
    "#         self.left = None\n",
    "#         self.right = None\n",
    "\n",
    "class Solution(object):\n",
    "    def count_freq(self, node):\n",
    "        if node.val not in self.dict_val:\n",
    "            self.dict_val[node.val] = 1\n",
    "        else:\n",
    "            self.dict_val[node.val] += 1\n",
    "        if node.left is not None:\n",
    "            self.count_freq(node.left)\n",
    "        if node.right is not None:\n",
    "            self.count_freq(node.right) \n",
    "        return\n",
    "\n",
    "    def findMode(self, root):\n",
    "        \"\"\"\n",
    "        :type root: TreeNode\n",
    "        :rtype: List[int]\n",
    "        \"\"\"\n",
    "        if root is None:\n",
    "            return []\n",
    "        self.dict_val = {}\n",
    "        self.count_freq(root)\n",
    "        freq_max = 0\n",
    "        for k in self.dict_val.keys():\n",
    "            if self.dict_val[k] > freq_max:\n",
    "                output = [k]\n",
    "                freq_max = self.dict_val[k]\n",
    "            elif self.dict_val[k] == freq_max:\n",
    "                output.append(k)\n",
    "        return output"
   ]
  }
 ],
 "metadata": {
  "kernelspec": {
   "display_name": "Python 3",
   "language": "python",
   "name": "python3"
  },
  "language_info": {
   "codemirror_mode": {
    "name": "ipython",
    "version": 3
   },
   "file_extension": ".py",
   "mimetype": "text/x-python",
   "name": "python",
   "nbconvert_exporter": "python",
   "pygments_lexer": "ipython3",
   "version": "3.6.7"
  },
  "varInspector": {
   "cols": {
    "lenName": 16,
    "lenType": 16,
    "lenVar": 40
   },
   "kernels_config": {
    "python": {
     "delete_cmd_postfix": "",
     "delete_cmd_prefix": "del ",
     "library": "var_list.py",
     "varRefreshCmd": "print(var_dic_list())"
    },
    "r": {
     "delete_cmd_postfix": ") ",
     "delete_cmd_prefix": "rm(",
     "library": "var_list.r",
     "varRefreshCmd": "cat(var_dic_list()) "
    }
   },
   "types_to_exclude": [
    "module",
    "function",
    "builtin_function_or_method",
    "instance",
    "_Feature"
   ],
   "window_display": false
  }
 },
 "nbformat": 4,
 "nbformat_minor": 2
}
