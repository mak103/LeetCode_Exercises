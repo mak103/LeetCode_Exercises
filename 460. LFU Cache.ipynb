{
 "cells": [
  {
   "cell_type": "markdown",
   "metadata": {},
   "source": [
    "Design and implement a data structure for Least Frequently Used (LFU) cache. It should support the following operations: get and put.\n",
    "\n",
    "get(key) - Get the value (will always be positive) of the key if the key exists in the cache, otherwise return -1.\n",
    "put(key, value) - Set or insert the value if the key is not already present. When the cache reaches its capacity, it should invalidate the least frequently used item before inserting a new item. For the purpose of this problem, when there is a tie (i.e., two or more keys that have the same frequency), the least recently used key would be evicted.\n",
    "\n",
    "Note that the number of times an item is used is the number of calls to the get and put functions for that item since it was inserted. This number is set to zero when the item is removed.\n",
    "\n",
    " \n",
    "\n",
    "Follow up:\n",
    "Could you do both operations in O(1) time complexity?\n",
    "\n",
    " \n",
    "\n",
    "Example:\n",
    "\n",
    "LFUCache cache = new LFUCache( 2 /* capacity */ );\n",
    "\n",
    "cache.put(1, 1);\n",
    "cache.put(2, 2);\n",
    "cache.get(1);       // returns 1\n",
    "cache.put(3, 3);    // evicts key 2\n",
    "cache.get(2);       // returns -1 (not found)\n",
    "cache.get(3);       // returns 3.\n",
    "cache.put(4, 4);    // evicts key 1.\n",
    "cache.get(1);       // returns -1 (not found)\n",
    "cache.get(3);       // returns 3\n",
    "cache.get(4);       // returns 4"
   ]
  },
  {
   "cell_type": "code",
   "execution_count": null,
   "metadata": {},
   "outputs": [],
   "source": [
    "# My solution(1044ms, 5.55%, 21.9MB, 100%)\n",
    "\n",
    "class LFUCache(object):\n",
    "\n",
    "    def __init__(self, capacity):\n",
    "        \"\"\"\n",
    "        :type capacity: int\n",
    "        \"\"\"\n",
    "        self.dict_ = {}\n",
    "        self.dict_freq = {}\n",
    "        self.capacity = capacity\n",
    "        self.record = []\n",
    "\n",
    "    def get(self, key):\n",
    "        \"\"\"\n",
    "        :type key: int\n",
    "        :rtype: int\n",
    "        \"\"\"\n",
    "        if key not in self.dict_:\n",
    "            return -1\n",
    "        else:\n",
    "            index = self.record.index(key)\n",
    "            self.record.append(self.record.pop(index))\n",
    "            self.dict_freq[key] += 1\n",
    "            return self.dict_[key]\n",
    "            \n",
    "    def put(self, key, value):\n",
    "        \"\"\"\n",
    "        :type key: int\n",
    "        :type value: int\n",
    "        :rtype: None\n",
    "        \"\"\"\n",
    "        if self.capacity == 0:\n",
    "            return\n",
    "        try: #键存在\n",
    "            index = self.record.index(key)\n",
    "            self.dict_freq[key] += 1\n",
    "            self.record.append(self.record.pop(index))\n",
    "        except: #键不存在\n",
    "            if len(self.record) == self.capacity:\n",
    "                min_freq = min(self.dict_freq.values())\n",
    "                for i, r in enumerate(self.record):\n",
    "                    if self.dict_freq[r] == min_freq:\n",
    "                        self.record.pop(i)\n",
    "                        del self.dict_[r]\n",
    "                        del self.dict_freq[r]\n",
    "                        break\n",
    "            self.dict_freq[key] = 1\n",
    "            self.record.append(key)\n",
    "        self.dict_[key] = value\n",
    "        return\n",
    "        \n",
    "\n",
    "\n",
    "# Your LFUCache object will be instantiated and called as such:\n",
    "# obj = LFUCache(capacity)\n",
    "# param_1 = obj.get(key)\n",
    "# obj.put(key,value)"
   ]
  }
 ],
 "metadata": {
  "kernelspec": {
   "display_name": "Python 3",
   "language": "python",
   "name": "python3"
  },
  "language_info": {
   "codemirror_mode": {
    "name": "ipython",
    "version": 3
   },
   "file_extension": ".py",
   "mimetype": "text/x-python",
   "name": "python",
   "nbconvert_exporter": "python",
   "pygments_lexer": "ipython3",
   "version": "3.6.7"
  },
  "varInspector": {
   "cols": {
    "lenName": 16,
    "lenType": 16,
    "lenVar": 40
   },
   "kernels_config": {
    "python": {
     "delete_cmd_postfix": "",
     "delete_cmd_prefix": "del ",
     "library": "var_list.py",
     "varRefreshCmd": "print(var_dic_list())"
    },
    "r": {
     "delete_cmd_postfix": ") ",
     "delete_cmd_prefix": "rm(",
     "library": "var_list.r",
     "varRefreshCmd": "cat(var_dic_list()) "
    }
   },
   "types_to_exclude": [
    "module",
    "function",
    "builtin_function_or_method",
    "instance",
    "_Feature"
   ],
   "window_display": false
  }
 },
 "nbformat": 4,
 "nbformat_minor": 2
}
