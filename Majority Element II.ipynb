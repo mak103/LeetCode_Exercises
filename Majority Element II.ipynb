{
 "cells": [
  {
   "cell_type": "markdown",
   "metadata": {},
   "source": [
    "Given an integer array of size n, find all elements that appear more than ⌊ n/3 ⌋ times.\n",
    "\n",
    "Note: The algorithm should run in linear time and in O(1) space.\n",
    "\n",
    "Example 1:\n",
    "\n",
    "Input: [3,2,3]\n",
    "Output: [3]\n",
    "Example 2:\n",
    "\n",
    "Input: [1,1,1,3,3,2,2,2]\n",
    "Output: [1,2]"
   ]
  },
  {
   "cell_type": "code",
   "execution_count": null,
   "metadata": {},
   "outputs": [],
   "source": [
    "# My solution (vote algorithm)\n",
    "class Solution(object):\n",
    "    def majorityElement(self, nums):\n",
    "        \"\"\"\n",
    "        :type nums: List[int]\n",
    "        :rtype: List[int]\n",
    "        \"\"\"\n",
    "        if len(nums) == 0:\n",
    "            return []\n",
    "        res, freq = [None, None], [0, 0]\n",
    "        for n in nums:\n",
    "            if n in res:\n",
    "                freq[res.index(n)] += 1\n",
    "            elif 0 in freq:\n",
    "                index = freq.index(0)\n",
    "                res[index] = n\n",
    "                freq[index] = 1\n",
    "            else:\n",
    "                freq[0] -= 1\n",
    "                freq[1] -= 1\n",
    "        res_ = []\n",
    "        for r in res:\n",
    "            count = 0\n",
    "            for n in nums:\n",
    "                if n == r:\n",
    "                    count += 1\n",
    "            if count > len(nums)/3:\n",
    "                res_.append(r)\n",
    "        return res_"
   ]
  }
 ],
 "metadata": {
  "kernelspec": {
   "display_name": "Python 3",
   "language": "python",
   "name": "python3"
  },
  "language_info": {
   "codemirror_mode": {
    "name": "ipython",
    "version": 3
   },
   "file_extension": ".py",
   "mimetype": "text/x-python",
   "name": "python",
   "nbconvert_exporter": "python",
   "pygments_lexer": "ipython3",
   "version": "3.6.7"
  },
  "varInspector": {
   "cols": {
    "lenName": 16,
    "lenType": 16,
    "lenVar": 40
   },
   "kernels_config": {
    "python": {
     "delete_cmd_postfix": "",
     "delete_cmd_prefix": "del ",
     "library": "var_list.py",
     "varRefreshCmd": "print(var_dic_list())"
    },
    "r": {
     "delete_cmd_postfix": ") ",
     "delete_cmd_prefix": "rm(",
     "library": "var_list.r",
     "varRefreshCmd": "cat(var_dic_list()) "
    }
   },
   "types_to_exclude": [
    "module",
    "function",
    "builtin_function_or_method",
    "instance",
    "_Feature"
   ],
   "window_display": false
  }
 },
 "nbformat": 4,
 "nbformat_minor": 2
}
