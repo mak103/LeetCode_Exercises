{
 "cells": [
  {
   "cell_type": "markdown",
   "metadata": {},
   "source": [
    "Write a program to solve a Sudoku puzzle by filling the empty cells.\n",
    "\n",
    "A sudoku solution must satisfy all of the following rules:\n",
    "\n",
    "Each of the digits 1-9 must occur exactly once in each row.\n",
    "Each of the digits 1-9 must occur exactly once in each column.\n",
    "Each of the the digits 1-9 must occur exactly once in each of the 9 3x3 sub-boxes of the grid.\n",
    "Empty cells are indicated by the character '.'.\n",
    "\n",
    "\n",
    "A sudoku puzzle...\n",
    "\n",
    "\n",
    "...and its solution numbers marked in red.\n",
    "\n",
    "Note:\n",
    "\n",
    "The given board contain only digits 1-9 and the character '.'.\n",
    "You may assume that the given Sudoku puzzle will have a single unique solution.\n",
    "The given board size is always 9x9."
   ]
  },
  {
   "cell_type": "code",
   "execution_count": null,
   "metadata": {},
   "outputs": [],
   "source": [
    "# My solution (260ms, 46.15%, 12.7MB, 5.55%)\n",
    "\n",
    "class Solution(object):\n",
    "    def possibleNumber(self, list_row, list_column, list_square):\n",
    "        res = []\n",
    "        for i in range(1, 10):\n",
    "            if i not in list_row and i not in list_column and i not in list_square:\n",
    "                res.append(i)\n",
    "        return res\n",
    "\n",
    "    def solve(self, missing_nums_index):\n",
    "        if len(missing_nums_index) == 0:\n",
    "            return True\n",
    "        i, j = missing_nums_index[0][0], missing_nums_index[0][1]\n",
    "        k = 3*int(i/3)+int(j/3)\n",
    "        possible_solution = self.possibleNumber(self.nums_row[i], self.nums_column[j], self.nums_square[k])\n",
    "        for p in possible_solution:\n",
    "            self.res[str(i)+str(j)] = p\n",
    "            self.nums_row[i].append(p)\n",
    "            self.nums_column[j].append(p)\n",
    "            self.nums_square[k].append(p)\n",
    "            if self.solve(missing_nums_index[1:]):\n",
    "                return True\n",
    "            else:\n",
    "                self.nums_row[i].pop()\n",
    "                self.nums_column[j].pop()\n",
    "                self.nums_square[k].pop()\n",
    "        return False\n",
    "\n",
    "\n",
    "    def solveSudoku(self, board):\n",
    "        \"\"\"\n",
    "        :type board: List[List[str]]\n",
    "        :rtype: None Do not return anything, modify board in-place instead.\n",
    "        \"\"\"\n",
    "        self.nums_row = []\n",
    "        for i in range(9):\n",
    "            list_ = []\n",
    "            for j in range(9):\n",
    "                if board[i][j] != '.':\n",
    "                    list_.append(int(board[i][j]))\n",
    "            self.nums_row.append(list_)\n",
    "        self.nums_column = []\n",
    "        for i in range(9):\n",
    "            list_ = []\n",
    "            for j in range(9):\n",
    "                if board[j][i] != '.':\n",
    "                    list_.append(int(board[j][i]))\n",
    "            self.nums_column.append(list_)\n",
    "        self.nums_square = []\n",
    "        for i in range(3):\n",
    "            for j in range(3):\n",
    "                list_ = []\n",
    "                for m in range(3):\n",
    "                    for n in range(3):\n",
    "                        if board[3*i+m][3*j+n] != '.':\n",
    "                            list_.append(int(board[3*i+m][3*j+n]))\n",
    "                self.nums_square.append(list_)\n",
    "        missing_nums_index = []\n",
    "        for i in range(9):\n",
    "            for j in range(9):\n",
    "                if board[i][j] == '.':\n",
    "                    missing_nums_index.append([i, j])\n",
    "        self.res = {}\n",
    "        self.solve(missing_nums_index)\n",
    "        for key in self.res.keys():\n",
    "            i = int(key[0])\n",
    "            j = int(key[1])\n",
    "            board[i][j] = str(self.res[key])\n",
    "        return board"
   ]
  }
 ],
 "metadata": {
  "kernelspec": {
   "display_name": "Python 3",
   "language": "python",
   "name": "python3"
  },
  "language_info": {
   "codemirror_mode": {
    "name": "ipython",
    "version": 3
   },
   "file_extension": ".py",
   "mimetype": "text/x-python",
   "name": "python",
   "nbconvert_exporter": "python",
   "pygments_lexer": "ipython3",
   "version": "3.6.7"
  },
  "varInspector": {
   "cols": {
    "lenName": 16,
    "lenType": 16,
    "lenVar": 40
   },
   "kernels_config": {
    "python": {
     "delete_cmd_postfix": "",
     "delete_cmd_prefix": "del ",
     "library": "var_list.py",
     "varRefreshCmd": "print(var_dic_list())"
    },
    "r": {
     "delete_cmd_postfix": ") ",
     "delete_cmd_prefix": "rm(",
     "library": "var_list.r",
     "varRefreshCmd": "cat(var_dic_list()) "
    }
   },
   "types_to_exclude": [
    "module",
    "function",
    "builtin_function_or_method",
    "instance",
    "_Feature"
   ],
   "window_display": false
  }
 },
 "nbformat": 4,
 "nbformat_minor": 2
}
