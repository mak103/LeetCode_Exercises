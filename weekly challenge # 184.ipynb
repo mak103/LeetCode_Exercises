{
 "cells": [
  {
   "cell_type": "markdown",
   "metadata": {
    "ExecuteTime": {
     "end_time": "2020-04-12T02:41:06.628859Z",
     "start_time": "2020-04-12T02:41:06.622900Z"
    }
   },
   "source": [
    "5380. String Matching in an Array\n",
    "\n",
    "Given an array of string words. Return all strings in words which is substring of another word in any order. \n",
    "\n",
    "String words[i] is substring of words[j], if can be obtained removing some characters to left and/or right side of words[j].\n",
    "\n",
    " \n",
    "\n",
    "Example 1:\n",
    "\n",
    "Input: words = [\"mass\",\"as\",\"hero\",\"superhero\"]\n",
    "Output: [\"as\",\"hero\"]\n",
    "Explanation: \"as\" is substring of \"mass\" and \"hero\" is substring of \"superhero\".\n",
    "[\"hero\",\"as\"] is also a valid answer.\n",
    "Example 2:\n",
    "\n",
    "Input: words = [\"leetcode\",\"et\",\"code\"]\n",
    "Output: [\"et\",\"code\"]\n",
    "Explanation: \"et\", \"code\" are substring of \"leetcode\".\n",
    "Example 3:\n",
    "\n",
    "Input: words = [\"blue\",\"green\",\"bu\"]\n",
    "Output: []\n",
    " \n",
    "\n",
    "Constraints:\n",
    "\n",
    "1 <= words.length <= 100\n",
    "1 <= words[i].length <= 30\n",
    "words[i] contains only lowercase English letters.\n",
    "It's guaranteed that words[i] will be unique."
   ]
  },
  {
   "cell_type": "code",
   "execution_count": null,
   "metadata": {
    "ExecuteTime": {
     "end_time": "2020-04-12T02:40:38.284969Z",
     "start_time": "2020-04-12T02:40:38.276987Z"
    }
   },
   "outputs": [],
   "source": [
    "# AC\n",
    "\n",
    "class Solution(object):\n",
    "    def check(self, word1, word2):\n",
    "        l_1, l_2 = len(word1), len(word2)\n",
    "        for i in range(l_2-l_1+1):\n",
    "            temp = word2[i:i+l_1]\n",
    "            if temp == word1:\n",
    "                return True\n",
    "        return False\n",
    "    \n",
    "    def stringMatching(self, words):\n",
    "        \"\"\"\n",
    "        :type words: List[str]\n",
    "        :rtype: List[str]\n",
    "        \"\"\"\n",
    "        res = []\n",
    "        for i1 in range(len(words)):\n",
    "            w1 = words[i1]\n",
    "            for i2 in range(len(words)):\n",
    "                w2 = words[i2]\n",
    "                if len(w1) < len(w2):\n",
    "                    if self.check(w1, w2):\n",
    "                        res.append(w1)\n",
    "                        break\n",
    "        return res"
   ]
  },
  {
   "cell_type": "markdown",
   "metadata": {
    "ExecuteTime": {
     "end_time": "2020-04-12T02:48:58.122829Z",
     "start_time": "2020-04-12T02:48:58.118866Z"
    }
   },
   "source": [
    "5381. Queries on a Permutation With Key\n",
    "\n",
    "Given the array queries of positive integers between 1 and m, you have to process all queries[i] (from i=0 to i=queries.length-1) according to the following rules:\n",
    "\n",
    "In the beginning, you have the permutation P=[1,2,3,...,m].\n",
    "For the current i, find the position of queries[i] in the permutation P (indexing from 0) and then move this at the beginning of the permutation P. Notice that the position of queries[i] in P is the result for queries[i].\n",
    "Return an array containing the result for the given queries.\n",
    "\n",
    " \n",
    "\n",
    "Example 1:\n",
    "\n",
    "Input: queries = [3,1,2,1], m = 5\n",
    "Output: [2,1,2,1] \n",
    "Explanation: The queries are processed as follow: \n",
    "For i=0: queries[i]=3, P=[1,2,3,4,5], position of 3 in P is 2, then we move 3 to the beginning of P resulting in P=[3,1,2,4,5]. \n",
    "For i=1: queries[i]=1, P=[3,1,2,4,5], position of 1 in P is 1, then we move 1 to the beginning of P resulting in P=[1,3,2,4,5]. \n",
    "For i=2: queries[i]=2, P=[1,3,2,4,5], position of 2 in P is 2, then we move 2 to the beginning of P resulting in P=[2,1,3,4,5]. \n",
    "For i=3: queries[i]=1, P=[2,1,3,4,5], position of 1 in P is 1, then we move 1 to the beginning of P resulting in P=[1,2,3,4,5]. \n",
    "Therefore, the array containing the result is [2,1,2,1].  \n",
    "Example 2:\n",
    "\n",
    "Input: queries = [4,1,2,2], m = 4\n",
    "Output: [3,1,2,0]\n",
    "Example 3:\n",
    "\n",
    "Input: queries = [7,5,5,8,3], m = 8\n",
    "Output: [6,5,0,7,5]\n",
    " \n",
    "\n",
    "Constraints:\n",
    "\n",
    "1 <= m <= 10^3\n",
    "1 <= queries.length <= m\n",
    "1 <= queries[i] <= m\n"
   ]
  },
  {
   "cell_type": "code",
   "execution_count": null,
   "metadata": {
    "ExecuteTime": {
     "end_time": "2020-04-12T02:48:29.324675Z",
     "start_time": "2020-04-12T02:48:29.318687Z"
    }
   },
   "outputs": [],
   "source": [
    "# AC\n",
    "class Solution(object):\n",
    "    def processQueries(self, queries, m):\n",
    "        \"\"\"\n",
    "        :type queries: List[int]\n",
    "        :type m: int\n",
    "        :rtype: List[int]\n",
    "        \"\"\"\n",
    "        P = []\n",
    "        for i in range(m):\n",
    "            P.append(i+1)\n",
    "        res = []\n",
    "        for q in queries:\n",
    "            index = P.index(q)\n",
    "            res.append(index)\n",
    "            P.pop(index)\n",
    "            P.insert(0, q)\n",
    "        return res"
   ]
  },
  {
   "cell_type": "markdown",
   "metadata": {
    "ExecuteTime": {
     "end_time": "2020-04-12T03:01:04.660771Z",
     "start_time": "2020-04-12T03:01:04.654787Z"
    }
   },
   "source": [
    "5382. HTML Entity Parser\n",
    "\n",
    "HTML entity parser is the parser that takes HTML code as input and replace all the entities of the special characters by the characters itself.\n",
    "\n",
    "The special characters and their entities for HTML are:\n",
    "\n",
    "Quotation Mark: the entity is &quot; and symbol character is \".\n",
    "Single Quote Mark: the entity is &apos; and symbol character is '.\n",
    "Ampersand: the entity is &amp; and symbol character is &.\n",
    "Greater Than Sign: the entity is &gt; and symbol character is >.\n",
    "Less Than Sign: the entity is &lt; and symbol character is <.\n",
    "Slash: the entity is &frasl; and symbol character is /.\n",
    "Given the input text string to the HTML parser, you have to implement the entity parser.\n",
    "\n",
    "Return the text after replacing the entities by the special characters.\n",
    "\n",
    " \n",
    "\n",
    "Example 1:\n",
    "\n",
    "Input: text = \"&amp; is an HTML entity but &ambassador; is not.\"\n",
    "Output: \"& is an HTML entity but &ambassador; is not.\"\n",
    "Explanation: The parser will replace the &amp; entity by &\n",
    "Example 2:\n",
    "\n",
    "Input: text = \"and I quote: &quot;...&quot;\"\n",
    "Output: \"and I quote: \\\"...\\\"\"\n",
    "Example 3:\n",
    "\n",
    "Input: text = \"Stay home! Practice on Leetcode :)\"\n",
    "Output: \"Stay home! Practice on Leetcode :)\"\n",
    "Example 4:\n",
    "\n",
    "Input: text = \"x &gt; y &amp;&amp; x &lt; y is always false\"\n",
    "Output: \"x > y && x < y is always false\"\n",
    "Example 5:\n",
    "\n",
    "Input: text = \"leetcode.com&frasl;problemset&frasl;all\"\n",
    "Output: \"leetcode.com/problemset/all\"\n",
    " \n",
    "\n",
    "Constraints:\n",
    "\n",
    "1 <= text.length <= 10^5\n",
    "The string may contain any possible characters out of all the 256 ASCII characters."
   ]
  },
  {
   "cell_type": "code",
   "execution_count": null,
   "metadata": {
    "ExecuteTime": {
     "end_time": "2020-04-12T02:59:33.119498Z",
     "start_time": "2020-04-12T02:59:33.110514Z"
    }
   },
   "outputs": [],
   "source": [
    "# AC\n",
    "\n",
    "class Solution(object):\n",
    "    def entityParser(self, text):\n",
    "        \"\"\"\n",
    "        :type text: str\n",
    "        :rtype: str\n",
    "        \"\"\"\n",
    "        dict_ = {'&quot;':'\"',\n",
    "                 '&apos;':'\\'',\n",
    "                 '&amp;':'&',\n",
    "                 '&gt;':'>',\n",
    "                 '&lt;':'<',\n",
    "                 '&frasl;':'/'}\n",
    "        res, temp = '', ''\n",
    "        while len(text) > 0:\n",
    "            if text[0] == '&':\n",
    "                if temp:\n",
    "                    res += temp\n",
    "                    temp = '&'\n",
    "                else:\n",
    "                    temp = '&'\n",
    "            elif text[0] == ';':\n",
    "                if temp:\n",
    "                    temp += text[0]\n",
    "                    if temp in dict_:\n",
    "                        res += dict_[temp]\n",
    "                        temp = ''\n",
    "                    else:\n",
    "                        res += temp\n",
    "                        temp = ''\n",
    "            else:\n",
    "                if temp:\n",
    "                    temp += text[0]\n",
    "                else:\n",
    "                    res += text[0]\n",
    "            text = text[1:]\n",
    "        if temp:\n",
    "            res += temp\n",
    "        return res"
   ]
  },
  {
   "cell_type": "markdown",
   "metadata": {},
   "source": [
    "5383. Number of Ways to Paint N × 3 Grid\n",
    "\n",
    "You have a grid of size n x 3 and you want to paint each cell of the grid with exactly one of the three colours: Red, Yellow or Green while making sure that no two adjacent cells have the same colour (i.e no two cells that share vertical or horizontal sides have the same colour).\n",
    "\n",
    "You are given n the number of rows of the grid.\n",
    "\n",
    "Return the number of ways you can paint this grid. As the answer may grow large, the answer must be computed modulo 10^9 + 7.\n",
    "\n",
    " \n",
    "\n",
    "Example 1:\n",
    "\n",
    "Input: n = 1\n",
    "Output: 12\n",
    "Explanation: There are 12 possible way to paint the grid as shown:\n",
    "\n",
    "Example 2:\n",
    "\n",
    "Input: n = 2\n",
    "Output: 54\n",
    "Example 3:\n",
    "\n",
    "Input: n = 3\n",
    "Output: 246\n",
    "Example 4:\n",
    "\n",
    "Input: n = 7\n",
    "Output: 106494\n",
    "Example 5:\n",
    "\n",
    "Input: n = 5000\n",
    "Output: 30228214\n",
    " \n",
    "\n",
    "Constraints:\n",
    "\n",
    "n == grid.length\n",
    "grid[i].length == 3\n",
    "1 <= n <= 5000"
   ]
  },
  {
   "cell_type": "code",
   "execution_count": null,
   "metadata": {
    "ExecuteTime": {
     "end_time": "2020-04-12T03:39:03.732866Z",
     "start_time": "2020-04-12T03:39:03.718877Z"
    }
   },
   "outputs": [],
   "source": [
    "# AC\n",
    "class Solution(object):\n",
    "    def count(self, l, input_dict):\n",
    "        if l == self.n:\n",
    "            return sum(input_dict.values())\n",
    "        dict_init = {'121':0, '212':0, '312':0, '123':0,\n",
    "                     '213':0, '313':0, '131':0, '231':0,\n",
    "                     '321':0, '132':0, '232':0, '323':0}\n",
    "        for k in input_dict.keys():\n",
    "            v = input_dict[k]\n",
    "            possible = self.dict[k]\n",
    "            for p in possible:\n",
    "                dict_init[p] += v\n",
    "        return self.count(l+1, dict_init)\n",
    "    \n",
    "    \n",
    "    def numOfWays(self, n):\n",
    "        \"\"\"\n",
    "        :type n: int\n",
    "        :rtype: int\n",
    "        \"\"\"\n",
    "        self.n = n\n",
    "        upper = [0, 0, 0]\n",
    "        possible = ['121', '212', '312', '123', '213', '313', '131', '231', '321', '132', '232', '323']\n",
    "        self.dict = {}\n",
    "        for p in possible:\n",
    "            temp = []\n",
    "            for n in possible:\n",
    "                if p[0] != n[0] and p[1] != n[1] and p[2] != n[2]:\n",
    "                    temp.append(n)\n",
    "            self.dict[p] = temp\n",
    "        #self.res = 12\n",
    "        dict_init = {'121':1, '212':1, '312':1, '123':1,\n",
    "                     '213':1, '313':1, '131':1, '231':1,\n",
    "                     '321':1, '132':1, '232':1, '323':1}\n",
    "        res = self.count(1, dict_init)\n",
    "        return (res)%(10**9+7)"
   ]
  }
 ],
 "metadata": {
  "kernelspec": {
   "display_name": "Python 3",
   "language": "python",
   "name": "python3"
  },
  "language_info": {
   "codemirror_mode": {
    "name": "ipython",
    "version": 3
   },
   "file_extension": ".py",
   "mimetype": "text/x-python",
   "name": "python",
   "nbconvert_exporter": "python",
   "pygments_lexer": "ipython3",
   "version": "3.6.7"
  },
  "varInspector": {
   "cols": {
    "lenName": 16,
    "lenType": 16,
    "lenVar": 40
   },
   "kernels_config": {
    "python": {
     "delete_cmd_postfix": "",
     "delete_cmd_prefix": "del ",
     "library": "var_list.py",
     "varRefreshCmd": "print(var_dic_list())"
    },
    "r": {
     "delete_cmd_postfix": ") ",
     "delete_cmd_prefix": "rm(",
     "library": "var_list.r",
     "varRefreshCmd": "cat(var_dic_list()) "
    }
   },
   "types_to_exclude": [
    "module",
    "function",
    "builtin_function_or_method",
    "instance",
    "_Feature"
   ],
   "window_display": false
  }
 },
 "nbformat": 4,
 "nbformat_minor": 2
}
