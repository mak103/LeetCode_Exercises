{
 "cells": [
  {
   "cell_type": "markdown",
   "metadata": {},
   "source": [
    "For strings S and T, we say \"T divides S\" if and only if S = T + ... + T  (T concatenated with itself 1 or more times)\n",
    "\n",
    "Return the largest string X such that X divides str1 and X divides str2.\n",
    "\n",
    " \n",
    "\n",
    "Example 1:\n",
    "\n",
    "Input: str1 = \"ABCABC\", str2 = \"ABC\"\n",
    "Output: \"ABC\"\n",
    "Example 2:\n",
    "\n",
    "Input: str1 = \"ABABAB\", str2 = \"ABAB\"\n",
    "Output: \"AB\"\n",
    "Example 3:\n",
    "\n",
    "Input: str1 = \"LEET\", str2 = \"CODE\"\n",
    "Output: \"\"\n",
    " \n",
    "\n",
    "Note:\n",
    "\n",
    "1 <= str1.length <= 1000\n",
    "1 <= str2.length <= 1000\n",
    "str1[i] and str2[i] are English uppercase letters."
   ]
  },
  {
   "cell_type": "code",
   "execution_count": null,
   "metadata": {},
   "outputs": [],
   "source": [
    "# My solution (28ms, 14.10%, 12.6MB, 6.9%)\n",
    "# 先找到最短的X，看str1和str2是它的几倍（假设为n1,n2），再求他们最大公约数n，res*n就是答案\n",
    "\n",
    "class Solution(object):\n",
    "    def zhanzhuanxiangchu(self, n1,n2):\n",
    "        if n1 < n2:\n",
    "            temp = n1\n",
    "            n1 = n2\n",
    "            n2 = temp\n",
    "        if n1%n2 == 0:\n",
    "            return n2\n",
    "        else:\n",
    "            n3 = n1%n2\n",
    "            return self.zhanzhuanxiangchu(n2, n3)\n",
    "\n",
    "    def gcdOfStrings(self, str1, str2):\n",
    "        \"\"\"\n",
    "        :type str1: str\n",
    "        :type str2: str\n",
    "        :rtype: str\n",
    "        \"\"\"\n",
    "        if len(str2) > len(str1):\n",
    "            temp = str1\n",
    "            str1 = str2\n",
    "            str2 = temp\n",
    "        for i in range(len(str2)):\n",
    "            if str1[i] != str2[i]:\n",
    "                return ''\n",
    "        l = 1\n",
    "        for l in range(1,len(str2)+1):\n",
    "            if len(str2)%l == 0:\n",
    "                res = str2[:l]\n",
    "                temp, n2 = str2, 0\n",
    "                while len(temp) > 0:\n",
    "                    if res == temp[:l]:\n",
    "                        temp = temp[l:]\n",
    "                        n2 += 1\n",
    "                    else:\n",
    "                        break\n",
    "                if temp == '':\n",
    "                    break\n",
    "        n1 = 0\n",
    "        while len(str1) > 0:\n",
    "            if res == str1[:l]:\n",
    "                str1 = str1[l:]\n",
    "                n1 += 1\n",
    "            else:\n",
    "                return ''\n",
    "        n = self.zhanzhuanxiangchu(n1,n2)\n",
    "        res_ = ''\n",
    "        for i in range(n):\n",
    "            res_ += res\n",
    "        return res_"
   ]
  }
 ],
 "metadata": {
  "kernelspec": {
   "display_name": "Python 3",
   "language": "python",
   "name": "python3"
  },
  "language_info": {
   "codemirror_mode": {
    "name": "ipython",
    "version": 3
   },
   "file_extension": ".py",
   "mimetype": "text/x-python",
   "name": "python",
   "nbconvert_exporter": "python",
   "pygments_lexer": "ipython3",
   "version": "3.6.7"
  },
  "varInspector": {
   "cols": {
    "lenName": 16,
    "lenType": 16,
    "lenVar": 40
   },
   "kernels_config": {
    "python": {
     "delete_cmd_postfix": "",
     "delete_cmd_prefix": "del ",
     "library": "var_list.py",
     "varRefreshCmd": "print(var_dic_list())"
    },
    "r": {
     "delete_cmd_postfix": ") ",
     "delete_cmd_prefix": "rm(",
     "library": "var_list.r",
     "varRefreshCmd": "cat(var_dic_list()) "
    }
   },
   "types_to_exclude": [
    "module",
    "function",
    "builtin_function_or_method",
    "instance",
    "_Feature"
   ],
   "window_display": false
  }
 },
 "nbformat": 4,
 "nbformat_minor": 2
}
