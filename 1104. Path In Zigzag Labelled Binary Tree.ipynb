{
 "cells": [
  {
   "cell_type": "markdown",
   "metadata": {},
   "source": [
    "In an infinite binary tree where every node has two children, the nodes are labelled in row order.\n",
    "\n",
    "In the odd numbered rows (ie., the first, third, fifth,...), the labelling is left to right, while in the even numbered rows (second, fourth, sixth,...), the labelling is right to left.\n",
    "\n",
    "\n",
    "\n",
    "Given the label of a node in this tree, return the labels in the path from the root of the tree to the node with that label.\n",
    "\n",
    " \n",
    "\n",
    "Example 1:\n",
    "\n",
    "Input: label = 14\n",
    "Output: [1,3,4,14]\n",
    "Example 2:\n",
    "\n",
    "Input: label = 26\n",
    "Output: [1,2,6,10,26]\n",
    " \n",
    "\n",
    "Constraints:\n",
    "\n",
    "1 <= label <= 10^6"
   ]
  },
  {
   "cell_type": "code",
   "execution_count": null,
   "metadata": {
    "ExecuteTime": {
     "end_time": "2020-03-03T08:53:33.271957Z",
     "start_time": "2020-03-03T08:53:33.261982Z"
    }
   },
   "outputs": [],
   "source": [
    "# My solution (20ms, 68.86%, 11.9MB, 35.71%)\n",
    "\n",
    "class Solution(object):\n",
    "    def pathInZigZagTree(self, label):\n",
    "        \"\"\"\n",
    "        :type label: int\n",
    "        :rtype: List[int]\n",
    "        \"\"\"\n",
    "        import math\n",
    "        power = int(math.log(label, 2))\n",
    "        if power%2 == 0:\n",
    "            index = label - 2**power\n",
    "        else:\n",
    "            index = 2**(power+1) - 1 - label\n",
    "        res = []\n",
    "        while power >= 0:\n",
    "            length = 2**power\n",
    "            if power%2 == 0: #from left to right\n",
    "                diff = index\n",
    "            else: #from right to left\n",
    "                diff = length - index -1 \n",
    "            res.append(2**power+diff)\n",
    "            index = int(index/2)\n",
    "            power -= 1\n",
    "        return res[::-1]"
   ]
  }
 ],
 "metadata": {
  "kernelspec": {
   "display_name": "Python 3",
   "language": "python",
   "name": "python3"
  },
  "language_info": {
   "codemirror_mode": {
    "name": "ipython",
    "version": 3
   },
   "file_extension": ".py",
   "mimetype": "text/x-python",
   "name": "python",
   "nbconvert_exporter": "python",
   "pygments_lexer": "ipython3",
   "version": "3.6.7"
  },
  "varInspector": {
   "cols": {
    "lenName": 16,
    "lenType": 16,
    "lenVar": 40
   },
   "kernels_config": {
    "python": {
     "delete_cmd_postfix": "",
     "delete_cmd_prefix": "del ",
     "library": "var_list.py",
     "varRefreshCmd": "print(var_dic_list())"
    },
    "r": {
     "delete_cmd_postfix": ") ",
     "delete_cmd_prefix": "rm(",
     "library": "var_list.r",
     "varRefreshCmd": "cat(var_dic_list()) "
    }
   },
   "types_to_exclude": [
    "module",
    "function",
    "builtin_function_or_method",
    "instance",
    "_Feature"
   ],
   "window_display": false
  }
 },
 "nbformat": 4,
 "nbformat_minor": 2
}
