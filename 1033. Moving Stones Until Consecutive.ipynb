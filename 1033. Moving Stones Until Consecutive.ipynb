{
 "cells": [
  {
   "cell_type": "markdown",
   "metadata": {
    "ExecuteTime": {
     "end_time": "2020-03-05T08:38:01.602238Z",
     "start_time": "2020-03-05T08:38:01.589305Z"
    }
   },
   "source": [
    "Three stones are on a number line at positions a, b, and c.\n",
    "\n",
    "Each turn, you pick up a stone at an endpoint (ie., either the lowest or highest position stone), and move it to an unoccupied position between those endpoints.  Formally, let's say the stones are currently at positions x, y, z with x < y < z.  You pick up the stone at either position x or position z, and move that stone to an integer position k, with x < k < z and k != y.\n",
    "\n",
    "The game ends when you cannot make any more moves, ie. the stones are in consecutive positions.\n",
    "\n",
    "When the game ends, what is the minimum and maximum number of moves that you could have made?  Return the answer as an length 2 array: answer = [minimum_moves, maximum_moves]\n",
    "\n",
    " \n",
    "\n",
    "Example 1:\n",
    "\n",
    "Input: a = 1, b = 2, c = 5\n",
    "Output: [1,2]\n",
    "Explanation: Move the stone from 5 to 3, or move the stone from 5 to 4 to 3.\n",
    "Example 2:\n",
    "\n",
    "Input: a = 4, b = 3, c = 2\n",
    "Output: [0,0]\n",
    "Explanation: We cannot make any moves.\n",
    "Example 3:\n",
    "\n",
    "Input: a = 3, b = 5, c = 1\n",
    "Output: [1,2]\n",
    "Explanation: Move the stone from 1 to 4; or move the stone from 1 to 2 to 4.\n",
    " \n",
    "\n",
    "Note:\n",
    "\n",
    "1 <= a <= 100\n",
    "1 <= b <= 100\n",
    "1 <= c <= 100\n",
    "a != b, b != c, c != a\n"
   ]
  },
  {
   "cell_type": "code",
   "execution_count": null,
   "metadata": {},
   "outputs": [],
   "source": [
    "# My solution (32ms, 7.79%, 11.8MB, 29.63%)\n",
    "\n",
    "class Solution(object):\n",
    "    def numMovesStones(self, a, b, c):\n",
    "        \"\"\"\n",
    "        :type a: int\n",
    "        :type b: int\n",
    "        :type c: int\n",
    "        :rtype: List[int]\n",
    "        \"\"\"\n",
    "        l = sorted([a,b,c])\n",
    "        gap1, gap2 = l[1]-l[0], l[2]-l[1]\n",
    "        if max(gap1, gap2) == 1:\n",
    "            return [0, 0] \n",
    "        if gap1 <= 2 or gap2 <= 2:\n",
    "            n_min = 1\n",
    "        else:\n",
    "            n_min = 2\n",
    "        n_max = l[2] - l[0] - 2\n",
    "        return [n_min, n_max]"
   ]
  }
 ],
 "metadata": {
  "kernelspec": {
   "display_name": "Python 3",
   "language": "python",
   "name": "python3"
  },
  "language_info": {
   "codemirror_mode": {
    "name": "ipython",
    "version": 3
   },
   "file_extension": ".py",
   "mimetype": "text/x-python",
   "name": "python",
   "nbconvert_exporter": "python",
   "pygments_lexer": "ipython3",
   "version": "3.6.7"
  },
  "varInspector": {
   "cols": {
    "lenName": 16,
    "lenType": 16,
    "lenVar": 40
   },
   "kernels_config": {
    "python": {
     "delete_cmd_postfix": "",
     "delete_cmd_prefix": "del ",
     "library": "var_list.py",
     "varRefreshCmd": "print(var_dic_list())"
    },
    "r": {
     "delete_cmd_postfix": ") ",
     "delete_cmd_prefix": "rm(",
     "library": "var_list.r",
     "varRefreshCmd": "cat(var_dic_list()) "
    }
   },
   "types_to_exclude": [
    "module",
    "function",
    "builtin_function_or_method",
    "instance",
    "_Feature"
   ],
   "window_display": false
  }
 },
 "nbformat": 4,
 "nbformat_minor": 2
}
