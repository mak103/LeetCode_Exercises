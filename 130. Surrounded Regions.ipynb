{
 "cells": [
  {
   "cell_type": "markdown",
   "metadata": {},
   "source": [
    "Given a 2D board containing 'X' and 'O' (the letter O), capture all regions surrounded by 'X'.\n",
    "\n",
    "A region is captured by flipping all 'O's into 'X's in that surrounded region.\n",
    "\n",
    "Example:\n",
    "\n",
    "X X X X\n",
    "X O O X\n",
    "X X O X\n",
    "X O X X\n",
    "After running your function, the board should be:\n",
    "\n",
    "X X X X\n",
    "X X X X\n",
    "X X X X\n",
    "X O X X\n",
    "Explanation:\n",
    "\n",
    "Surrounded regions shouldn’t be on the border, which means that any 'O' on the border of the board are not flipped to 'X'. Any 'O' that is not on the border and it is not connected to an 'O' on the border will be flipped to 'X'. Two cells are connected if they are adjacent cells connected horizontally or vertically."
   ]
  },
  {
   "cell_type": "code",
   "execution_count": null,
   "metadata": {},
   "outputs": [],
   "source": [
    "# My solution\n",
    "\n",
    "class Solution(object):\n",
    "    def solve(self, board):\n",
    "        \"\"\"\n",
    "        :type board: List[List[str]]\n",
    "        :rtype: None Do not return anything, modify board in-place instead.\n",
    "        \"\"\"\n",
    "        if len(board) <= 2 or len(board[0]) <= 2:\n",
    "            return\n",
    "        m, n = len(board), len(board[0])\n",
    "        def check(i, j):\n",
    "            board[i][j] = '*'\n",
    "            if i > 0 and board[i-1][j] == 'O':\n",
    "                check(i-1,j)\n",
    "            if i < m-1 and board[i+1][j] == 'O':\n",
    "                check(i+1,j)\n",
    "            if j > 0 and board[i][j-1] == 'O':\n",
    "                check(i,j-1)\n",
    "            if j < n-1 and board[i][j+1] == 'O':\n",
    "                check(i,j+1)\n",
    "            return\n",
    "\n",
    "        for i in range (n):\n",
    "            if board[0][i] == 'O':\n",
    "                check(0, i)\n",
    "            if board[m-1][i] == 'O':\n",
    "                check(m-1,i)\n",
    "        for i in range(m):\n",
    "            if board[i][0] == 'O':\n",
    "                check(i, 0)\n",
    "            if board[i][n-1] == 'O':\n",
    "                check(i,n-1)\n",
    "\n",
    "        for i in range(m):\n",
    "            for j in range(n):\n",
    "                if board[i][j] == '*':\n",
    "                    board[i][j] = 'O'\n",
    "                elif board[i][j] == 'O':\n",
    "                    board[i][j] = 'X'\n",
    "        return"
   ]
  }
 ],
 "metadata": {
  "kernelspec": {
   "display_name": "Python 3",
   "language": "python",
   "name": "python3"
  },
  "language_info": {
   "codemirror_mode": {
    "name": "ipython",
    "version": 3
   },
   "file_extension": ".py",
   "mimetype": "text/x-python",
   "name": "python",
   "nbconvert_exporter": "python",
   "pygments_lexer": "ipython3",
   "version": "3.6.7"
  },
  "varInspector": {
   "cols": {
    "lenName": 16,
    "lenType": 16,
    "lenVar": 40
   },
   "kernels_config": {
    "python": {
     "delete_cmd_postfix": "",
     "delete_cmd_prefix": "del ",
     "library": "var_list.py",
     "varRefreshCmd": "print(var_dic_list())"
    },
    "r": {
     "delete_cmd_postfix": ") ",
     "delete_cmd_prefix": "rm(",
     "library": "var_list.r",
     "varRefreshCmd": "cat(var_dic_list()) "
    }
   },
   "types_to_exclude": [
    "module",
    "function",
    "builtin_function_or_method",
    "instance",
    "_Feature"
   ],
   "window_display": false
  }
 },
 "nbformat": 4,
 "nbformat_minor": 2
}
