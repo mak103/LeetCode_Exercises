{
 "cells": [
  {
   "cell_type": "markdown",
   "metadata": {},
   "source": [
    "Given an array of integers, return the maximum sum for a non-empty subarray (contiguous elements) with at most one element deletion. In other words, you want to choose a subarray and optionally delete one element from it so that there is still at least one element left and the sum of the remaining elements is maximum possible.\n",
    "\n",
    "Note that the subarray needs to be non-empty after deleting one element.\n",
    "\n",
    " \n",
    "\n",
    "Example 1:\n",
    "\n",
    "Input: arr = [1,-2,0,3]\n",
    "Output: 4\n",
    "Explanation: Because we can choose [1, -2, 0, 3] and drop -2, thus the subarray [1, 0, 3] becomes the maximum value.\n",
    "Example 2:\n",
    "\n",
    "Input: arr = [1,-2,-2,3]\n",
    "Output: 3\n",
    "Explanation: We just choose [3] and it's the maximum sum.\n",
    "Example 3:\n",
    "\n",
    "Input: arr = [-1,-1,-1,-1]\n",
    "Output: -1\n",
    "Explanation: The final subarray needs to be non-empty. You can't choose [-1] and delete -1 from it, then get an empty subarray to make the sum equals to 0.\n",
    " \n",
    "\n",
    "Constraints:\n",
    "\n",
    "1 <= arr.length <= 10^5\n",
    "-10^4 <= arr[i] <= 10^4"
   ]
  },
  {
   "cell_type": "code",
   "execution_count": null,
   "metadata": {
    "ExecuteTime": {
     "end_time": "2020-03-04T10:20:49.654807Z",
     "start_time": "2020-03-04T10:20:49.041426Z"
    }
   },
   "outputs": [],
   "source": [
    "# My solution, excessed time limite\n",
    "class Solution(object):\n",
    "    def maximumSum(self, arr):\n",
    "        \"\"\"\n",
    "        :type arr: List[int]\n",
    "        :rtype: int\n",
    "        \"\"\"\n",
    "        if max(arr) <= 0:\n",
    "            return max(arr)\n",
    "        i = 0\n",
    "        while i < len(arr):\n",
    "            if arr[i] < 0:\n",
    "                i += 1\n",
    "            elif i+1 < len(arr) and arr[i+1] >= 0:\n",
    "                arr[i+1] += arr[i]\n",
    "                arr.pop(i)\n",
    "            else:\n",
    "                i += 1\n",
    "        while arr[0] <= 0:\n",
    "            arr.pop(0)\n",
    "        while arr[-1] <= 0:\n",
    "            arr.pop()\n",
    "        index_positive = []\n",
    "        for i,n in enumerate(arr):\n",
    "            if n >= 0:\n",
    "                index_positive.append(i)\n",
    "        res = max(arr)\n",
    "        sum_of_period, min_of_period = [arr[0]], [0]\n",
    "        for i in range(1,len(index_positive)):\n",
    "            l = arr[index_positive[i-1]+1:index_positive[i]+1]\n",
    "            sum_of_period.append(sum(l))\n",
    "            min_of_period.append(min(l))\n",
    "        for i in range(len(index_positive)):\n",
    "            last_sum, last_min = arr[index_positive[i]], 0\n",
    "            for j in range(i+1, len(index_positive)):\n",
    "                this_min = min(last_min, min_of_period[j])\n",
    "                last_sum += (sum_of_period[j]+last_min-this_min)\n",
    "                last_min = this_min\n",
    "                res = max(res, last_sum)\n",
    "        return res"
   ]
  },
  {
   "cell_type": "code",
   "execution_count": null,
   "metadata": {},
   "outputs": [],
   "source": [
    "# Dynamic programming solution found online \n",
    "# https://github.com/azl397985856/leetcode/blob/master/problems/1186.maximum-subarray-sum-with-one-deletion.md\n",
    "\n",
    "class Solution(object):\n",
    "    def maximumSum(self, arr):\n",
    "        \"\"\"\n",
    "        :type arr: List[int]\n",
    "        :rtype: int\n",
    "        \"\"\"\n",
    "        if max(arr) <= 0:\n",
    "            return max(arr)\n",
    "        max_sum_without_delete = 0 # 以第i位结尾的，不存在删去的最大值\n",
    "        max_sum_with_delete = 0 # 以第i位结尾的，前边可以有一个数删去的最大值（删去的也可以是第i位）\n",
    "        res = 0\n",
    "        for n in arr:\n",
    "            max_sum_with_delete = max(max_sum_with_delete+n, max_sum_without_delete) #前边那项指的是不删去或者删去的数字在前边的最大值，\n",
    "                                                                                     #后边那项指的是删去的是最后一项（第i项）\n",
    "            max_sum_without_delete = max(max_sum_without_delete+n, n)\n",
    "            res = max(res, max_sum_with_delete, max_sum_without_delete)\n",
    "        return res"
   ]
  }
 ],
 "metadata": {
  "kernelspec": {
   "display_name": "Python 3",
   "language": "python",
   "name": "python3"
  },
  "language_info": {
   "codemirror_mode": {
    "name": "ipython",
    "version": 3
   },
   "file_extension": ".py",
   "mimetype": "text/x-python",
   "name": "python",
   "nbconvert_exporter": "python",
   "pygments_lexer": "ipython3",
   "version": "3.6.7"
  },
  "varInspector": {
   "cols": {
    "lenName": 16,
    "lenType": 16,
    "lenVar": 40
   },
   "kernels_config": {
    "python": {
     "delete_cmd_postfix": "",
     "delete_cmd_prefix": "del ",
     "library": "var_list.py",
     "varRefreshCmd": "print(var_dic_list())"
    },
    "r": {
     "delete_cmd_postfix": ") ",
     "delete_cmd_prefix": "rm(",
     "library": "var_list.r",
     "varRefreshCmd": "cat(var_dic_list()) "
    }
   },
   "types_to_exclude": [
    "module",
    "function",
    "builtin_function_or_method",
    "instance",
    "_Feature"
   ],
   "window_display": false
  }
 },
 "nbformat": 4,
 "nbformat_minor": 2
}
