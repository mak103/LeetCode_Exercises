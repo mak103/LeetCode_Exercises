{
 "cells": [
  {
   "cell_type": "markdown",
   "metadata": {},
   "source": [
    "Given two straight line segments (represented as a start point and an end point), compute the point of intersection, if any. If there's no intersection, return an empty array.\n",
    "\n",
    "The absolute error should not exceed 10^-6. If there are more than one intersections, return the one with smallest X axis value. If there are more than one intersections that have same X axis value, return the one with smallest Y axis value.\n",
    "Example 1:\n",
    "\n",
    "Input: \n",
    "line1 = {0, 0}, {1, 0}\n",
    "line2 = {1, 1}, {0, -1}\n",
    "Output:  {0.5, 0}\n",
    "Example 2:\n",
    "\n",
    "Input: \n",
    "line1 = {0, 0}, {3, 3}\n",
    "line2 = {1, 1}, {2, 2}\n",
    "Output:  {1, 1}\n",
    "Example 3:\n",
    "\n",
    "Input: \n",
    "line1 = {0, 0}, {1, 1}\n",
    "line2 = {1, 0}, {2, 1}\n",
    "Output:  {}  (no intersection)\n",
    "Note:\n",
    "\n",
    "The absolute value of coordinate value will not exceed 2^7.\n",
    "All coordinates are valid 2D coordinates."
   ]
  },
  {
   "cell_type": "code",
   "execution_count": null,
   "metadata": {},
   "outputs": [],
   "source": [
    "# My solution (28ms, 100%, 13MB, 100%)\n",
    "\n",
    "class Solution(object):\n",
    "    def count(self, start, end):\n",
    "        k = float(end[1]-start[1]) / float(end[0]-start[0])\n",
    "        b = start[1] - k*start[0]\n",
    "        return k, b\n",
    "\n",
    "    def intersection(self, start1, end1, start2, end2):\n",
    "        \"\"\"\n",
    "        :type start1: List[int]\n",
    "        :type end1: List[int]\n",
    "        :type start2: List[int]\n",
    "        :type end2: List[int]\n",
    "        :rtype: List[float]\n",
    "        \"\"\"\n",
    "        if start1[0] == end1[0]:\n",
    "            if start2[0] == end2[0]:\n",
    "                if start1[0] == start2[0]:\n",
    "                    y_min = min(start1[1], start2[1], end1[1], end2[1])\n",
    "                    if max(start1[1], end1[1]) < min(start2[1], end2[1]) or max(start2[1], end2[1]) < min(start1[1], end1[1]):\n",
    "                        return []\n",
    "                    else:\n",
    "                        return [start1[0], max(min(start1[1], end1[1]), min(start2[1], end2[1]))]\n",
    "                else:\n",
    "                    return []\n",
    "            else:\n",
    "                print(start2, end2)\n",
    "                k2, b2 = self.count(start2, end2)\n",
    "                x = start1[0]\n",
    "                y = k2*x + b2\n",
    "                if x >= min(start2[0], end2[0]) and x <= max(start2[0], end2[0]):\n",
    "                    return [x, y]\n",
    "                else:\n",
    "                    return []\n",
    "        elif start2[0] == end2[0]:\n",
    "            k1, b1 = self.count(start1, end1)\n",
    "            x = start2[0]\n",
    "            y = k1*x + b1\n",
    "            if x >= min(start1[0], end1[0]) and x <= max(start1[0], end1[0]):\n",
    "                return [x, y]\n",
    "            else:\n",
    "                return []\n",
    "        else:\n",
    "            k1, b1 = self.count(start1, end1)\n",
    "            k2, b2 = self.count(start2, end2)\n",
    "            x_max_1, x_min_1 = max(start1[0], end1[0]), min(start1[0], end1[0])\n",
    "            x_max_2, x_min_2 = max(start2[0], end2[0]), min(start2[0], end2[0])\n",
    "            if k1 == k2:\n",
    "                if b1 == b2:\n",
    "                    if x_max_1 < x_min_2 or x_max_2 < x_min_1:\n",
    "                        return []\n",
    "                    else:\n",
    "                        x = max(x_min_1, x_min_2)\n",
    "                        y = k1*x + b1\n",
    "                        return [x, y]\n",
    "                else:\n",
    "                    return []\n",
    "            else:\n",
    "                x = float(b2-b1) / float(k1-k2)\n",
    "                y = k1*x + b1\n",
    "                if x >= x_min_1 and x <= x_max_1 and x >= x_min_2 and x <= x_max_2:\n",
    "                    return [x, y]\n",
    "                else:\n",
    "                    return []"
   ]
  }
 ],
 "metadata": {
  "kernelspec": {
   "display_name": "Python 3",
   "language": "python",
   "name": "python3"
  },
  "language_info": {
   "codemirror_mode": {
    "name": "ipython",
    "version": 3
   },
   "file_extension": ".py",
   "mimetype": "text/x-python",
   "name": "python",
   "nbconvert_exporter": "python",
   "pygments_lexer": "ipython3",
   "version": "3.6.7"
  },
  "varInspector": {
   "cols": {
    "lenName": 16,
    "lenType": 16,
    "lenVar": 40
   },
   "kernels_config": {
    "python": {
     "delete_cmd_postfix": "",
     "delete_cmd_prefix": "del ",
     "library": "var_list.py",
     "varRefreshCmd": "print(var_dic_list())"
    },
    "r": {
     "delete_cmd_postfix": ") ",
     "delete_cmd_prefix": "rm(",
     "library": "var_list.r",
     "varRefreshCmd": "cat(var_dic_list()) "
    }
   },
   "types_to_exclude": [
    "module",
    "function",
    "builtin_function_or_method",
    "instance",
    "_Feature"
   ],
   "window_display": false
  }
 },
 "nbformat": 4,
 "nbformat_minor": 2
}
