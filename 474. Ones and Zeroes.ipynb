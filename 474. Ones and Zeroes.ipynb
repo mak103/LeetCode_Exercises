{
 "cells": [
  {
   "cell_type": "markdown",
   "metadata": {},
   "source": [
    "In the computer world, use restricted resource you have to generate maximum benefit is what we always want to pursue.\n",
    "\n",
    "For now, suppose you are a dominator of m 0s and n 1s respectively. On the other hand, there is an array with strings consisting of only 0s and 1s.\n",
    "\n",
    "Now your task is to find the maximum number of strings that you can form with given m 0s and n 1s. Each 0 and 1 can be used at most once.\n",
    "\n",
    "Note:\n",
    "\n",
    "The given numbers of 0s and 1s will both not exceed 100\n",
    "The size of given string array won't exceed 600.\n",
    " \n",
    "\n",
    "Example 1:\n",
    "\n",
    "Input: Array = {\"10\", \"0001\", \"111001\", \"1\", \"0\"}, m = 5, n = 3\n",
    "Output: 4\n",
    "\n",
    "Explanation: This are totally 4 strings can be formed by the using of 5 0s and 3 1s, which are “10,”0001”,”1”,”0”\n",
    " \n",
    "\n",
    "Example 2:\n",
    "\n",
    "Input: Array = {\"10\", \"0\", \"1\"}, m = 1, n = 1\n",
    "Output: 2\n",
    "\n",
    "Explanation: You could form \"10\", but then you'd have nothing left. Better form \"0\" and \"1\"."
   ]
  },
  {
   "cell_type": "code",
   "execution_count": null,
   "metadata": {},
   "outputs": [],
   "source": [
    "# Solution found online (2544ms, 32.39%, 12MB ,33.33%)\n",
    "# 0-1背包问题， 用了二维动态规划，两个方向/维度表示最大允许的0,1的数目。 \n",
    "\n",
    "class Solution(object):\n",
    "    def numberOnesZeros(self, s):\n",
    "        n_0, n_1 = 0, 0\n",
    "        for i in s:\n",
    "            if i == '1':\n",
    "                n_1 += 1\n",
    "            else:\n",
    "                n_0 += 1\n",
    "        return n_0, n_1\n",
    "\n",
    "    def findMaxForm(self, strs, m, n):\n",
    "        \"\"\"\n",
    "        :type strs: List[str]\n",
    "        :type m: int\n",
    "        :type n: int\n",
    "        :rtype: int\n",
    "        \"\"\"\n",
    "        if m == 0 and n == 0:\n",
    "            return 0\n",
    "        dp = [[0 for i in range(n+1)] for j in range(m+1)]\n",
    "        for s in strs:\n",
    "            n_0, n_1 = self.numberOnesZeros(s)\n",
    "            if n_0 > m or n_1 > n:\n",
    "                continue\n",
    "            for i in range(m, n_0-1, -1): #这里要用倒序，不然后边的dp[i-n_0][j-n_1]是在之前被修改过的\n",
    "                for j in range(n, n_1-1, -1):\n",
    "                    dp[i][j] = max(dp[i][j], dp[i-n_0][j-n_1]+1)\n",
    "        return dp[-1][-1]"
   ]
  }
 ],
 "metadata": {
  "kernelspec": {
   "display_name": "Python 3",
   "language": "python",
   "name": "python3"
  },
  "language_info": {
   "codemirror_mode": {
    "name": "ipython",
    "version": 3
   },
   "file_extension": ".py",
   "mimetype": "text/x-python",
   "name": "python",
   "nbconvert_exporter": "python",
   "pygments_lexer": "ipython3",
   "version": "3.6.7"
  },
  "varInspector": {
   "cols": {
    "lenName": 16,
    "lenType": 16,
    "lenVar": 40
   },
   "kernels_config": {
    "python": {
     "delete_cmd_postfix": "",
     "delete_cmd_prefix": "del ",
     "library": "var_list.py",
     "varRefreshCmd": "print(var_dic_list())"
    },
    "r": {
     "delete_cmd_postfix": ") ",
     "delete_cmd_prefix": "rm(",
     "library": "var_list.r",
     "varRefreshCmd": "cat(var_dic_list()) "
    }
   },
   "types_to_exclude": [
    "module",
    "function",
    "builtin_function_or_method",
    "instance",
    "_Feature"
   ],
   "window_display": false
  }
 },
 "nbformat": 4,
 "nbformat_minor": 2
}
