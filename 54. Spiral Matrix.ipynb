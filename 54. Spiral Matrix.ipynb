{
 "cells": [
  {
   "cell_type": "markdown",
   "metadata": {},
   "source": [
    "Given a matrix of m x n elements (m rows, n columns), return all elements of the matrix in spiral order.\n",
    "\n",
    "Example 1:\n",
    "\n",
    "Input:\n",
    "[\n",
    " [ 1, 2, 3 ],\n",
    " [ 4, 5, 6 ],\n",
    " [ 7, 8, 9 ]\n",
    "]\n",
    "Output: [1,2,3,6,9,8,7,4,5]\n",
    "Example 2:\n",
    "\n",
    "Input:\n",
    "[\n",
    "  [1, 2, 3, 4],\n",
    "  [5, 6, 7, 8],\n",
    "  [9,10,11,12]\n",
    "]\n",
    "Output: [1,2,3,4,8,12,11,10,9,5,6,7]"
   ]
  },
  {
   "cell_type": "code",
   "execution_count": null,
   "metadata": {},
   "outputs": [],
   "source": [
    "# My solution (12ms, 98.16%, 12.9MB, 5.43%)\n",
    "\n",
    "class Solution(object):\n",
    "    def spiralOrder(self, matrix):\n",
    "        \"\"\"\n",
    "        :type matrix: List[List[int]]\n",
    "        :rtype: List[int]\n",
    "        \"\"\"\n",
    "        if len(matrix) == 0:\n",
    "            return []\n",
    "        m, n = len(matrix), len(matrix[0])\n",
    "        if m == 1:\n",
    "            return matrix[0]\n",
    "        if n == 1:\n",
    "            res = []\n",
    "            for i in range(m):\n",
    "                res.append(matrix[i][0])\n",
    "            return res\n",
    "        i, j = 0, 0\n",
    "        dire = 'right'\n",
    "        res = []\n",
    "        while True:\n",
    "            res.append(matrix[i][j])\n",
    "            matrix[i][j] = '*'\n",
    "            if dire == 'right':\n",
    "                if j == n-1 or matrix[i][j+1] == '*':\n",
    "                    if i == m-1 or matrix[i+1][j] == '*':\n",
    "                        break\n",
    "                    else:\n",
    "                        i += 1\n",
    "                        dire = 'down'\n",
    "                else:\n",
    "                    j += 1\n",
    "            elif dire == 'down':\n",
    "                if i == m-1 or matrix[i+1][j] == '*':\n",
    "                    if j == 0 or matrix[i][j-1] == '*':\n",
    "                        break\n",
    "                    else:\n",
    "                        j -= 1\n",
    "                        dire = 'left'\n",
    "                else:\n",
    "                    i += 1\n",
    "            elif dire == 'left':\n",
    "                if j == 0 or matrix[i][j-1] == '*':\n",
    "                    if i == 0 or matrix[i-1][j] == '*':\n",
    "                        break\n",
    "                    else:\n",
    "                        i -= 1\n",
    "                        dire = 'up'\n",
    "                else:\n",
    "                    j -= 1\n",
    "            elif dire == 'up':\n",
    "                if matrix[i-1][j] == '*':\n",
    "                    if matrix[i][j+1] == '*':\n",
    "                        break\n",
    "                    else:\n",
    "                        j += 1\n",
    "                        dire = 'right'\n",
    "                else:\n",
    "                    i -= 1\n",
    "        return res"
   ]
  }
 ],
 "metadata": {
  "kernelspec": {
   "display_name": "Python 3",
   "language": "python",
   "name": "python3"
  },
  "language_info": {
   "codemirror_mode": {
    "name": "ipython",
    "version": 3
   },
   "file_extension": ".py",
   "mimetype": "text/x-python",
   "name": "python",
   "nbconvert_exporter": "python",
   "pygments_lexer": "ipython3",
   "version": "3.6.7"
  },
  "varInspector": {
   "cols": {
    "lenName": 16,
    "lenType": 16,
    "lenVar": 40
   },
   "kernels_config": {
    "python": {
     "delete_cmd_postfix": "",
     "delete_cmd_prefix": "del ",
     "library": "var_list.py",
     "varRefreshCmd": "print(var_dic_list())"
    },
    "r": {
     "delete_cmd_postfix": ") ",
     "delete_cmd_prefix": "rm(",
     "library": "var_list.r",
     "varRefreshCmd": "cat(var_dic_list()) "
    }
   },
   "types_to_exclude": [
    "module",
    "function",
    "builtin_function_or_method",
    "instance",
    "_Feature"
   ],
   "window_display": false
  }
 },
 "nbformat": 4,
 "nbformat_minor": 2
}
