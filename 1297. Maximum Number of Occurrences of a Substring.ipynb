{
 "cells": [
  {
   "cell_type": "markdown",
   "metadata": {},
   "source": [
    "Given a string s, return the maximum number of ocurrences of any substring under the following rules:\n",
    "\n",
    "The number of unique characters in the substring must be less than or equal to maxLetters.\n",
    "The substring size must be between minSize and maxSize inclusive.\n",
    " \n",
    "\n",
    "Example 1:\n",
    "\n",
    "Input: s = \"aababcaab\", maxLetters = 2, minSize = 3, maxSize = 4\n",
    "Output: 2\n",
    "Explanation: Substring \"aab\" has 2 ocurrences in the original string.\n",
    "It satisfies the conditions, 2 unique letters and size 3 (between minSize and maxSize).\n",
    "Example 2:\n",
    "\n",
    "Input: s = \"aaaa\", maxLetters = 1, minSize = 3, maxSize = 3\n",
    "Output: 2\n",
    "Explanation: Substring \"aaa\" occur 2 times in the string. It can overlap.\n",
    "Example 3:\n",
    "\n",
    "Input: s = \"aabcabcab\", maxLetters = 2, minSize = 2, maxSize = 3\n",
    "Output: 3\n",
    "Example 4:\n",
    "\n",
    "Input: s = \"abcde\", maxLetters = 2, minSize = 3, maxSize = 3\n",
    "Output: 0\n",
    " \n",
    "\n",
    "Constraints:\n",
    "\n",
    "1 <= s.length <= 10^5\n",
    "1 <= maxLetters <= 26\n",
    "1 <= minSize <= maxSize <= min(26, s.length)\n",
    "s only contains lowercase English letters."
   ]
  },
  {
   "cell_type": "code",
   "execution_count": null,
   "metadata": {},
   "outputs": [],
   "source": [
    "# My solution (4652ms, 5.48%, 155.8MB, 10.71%)\n",
    "\n",
    "class Solution(object):\n",
    "    def maxFreq(self, s, maxLetters, minSize, maxSize):\n",
    "        \"\"\"\n",
    "        :type s: str\n",
    "        :type maxLetters: int\n",
    "        :type minSize: int\n",
    "        :type maxSize: int\n",
    "        :rtype: int\n",
    "        \"\"\"\n",
    "        dict_ = {'':0}\n",
    "        for i in range(minSize-1, len(s)):\n",
    "            for j in range(minSize-1, maxSize):\n",
    "                if i-j < 0:\n",
    "                    break\n",
    "                temp = s[i-j:i+1]\n",
    "                if temp in dict_:\n",
    "                    dict_[temp] += 1\n",
    "                elif len(set(temp)) <= maxLetters:\n",
    "                    dict_[temp] = 1\n",
    "        return max(dict_.values())"
   ]
  },
  {
   "cell_type": "code",
   "execution_count": null,
   "metadata": {},
   "outputs": [],
   "source": [
    "# My seconde solution (124ms, 95.89%, 17.4MB, 66.07%)\n",
    "# Inspired by the hint: \"abc\" 肯定会覆盖 a, ab, 即长的肯定会覆盖短的,只要考虑最短的就好咯.\n",
    "\n",
    "class Solution(object):\n",
    "    def maxFreq(self, s, maxLetters, minSize, maxSize):\n",
    "        \"\"\"\n",
    "        :type s: str\n",
    "        :type maxLetters: int\n",
    "        :type minSize: int\n",
    "        :type maxSize: int\n",
    "        :rtype: int\n",
    "        \"\"\"\n",
    "        dict_ = {'':0}\n",
    "        for i in range(minSize-1, len(s)):\n",
    "            temp = s[i-minSize+1:i+1]\n",
    "            if temp in dict_:\n",
    "                dict_[temp] += 1\n",
    "            elif len(set(temp)) <= maxLetters:\n",
    "                dict_[temp] = 1\n",
    "        return max(dict_.values())"
   ]
  }
 ],
 "metadata": {
  "kernelspec": {
   "display_name": "Python 3",
   "language": "python",
   "name": "python3"
  },
  "language_info": {
   "codemirror_mode": {
    "name": "ipython",
    "version": 3
   },
   "file_extension": ".py",
   "mimetype": "text/x-python",
   "name": "python",
   "nbconvert_exporter": "python",
   "pygments_lexer": "ipython3",
   "version": "3.6.7"
  },
  "varInspector": {
   "cols": {
    "lenName": 16,
    "lenType": 16,
    "lenVar": 40
   },
   "kernels_config": {
    "python": {
     "delete_cmd_postfix": "",
     "delete_cmd_prefix": "del ",
     "library": "var_list.py",
     "varRefreshCmd": "print(var_dic_list())"
    },
    "r": {
     "delete_cmd_postfix": ") ",
     "delete_cmd_prefix": "rm(",
     "library": "var_list.r",
     "varRefreshCmd": "cat(var_dic_list()) "
    }
   },
   "types_to_exclude": [
    "module",
    "function",
    "builtin_function_or_method",
    "instance",
    "_Feature"
   ],
   "window_display": false
  }
 },
 "nbformat": 4,
 "nbformat_minor": 2
}
