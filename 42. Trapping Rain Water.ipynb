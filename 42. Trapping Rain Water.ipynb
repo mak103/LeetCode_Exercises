{
 "cells": [
  {
   "cell_type": "markdown",
   "metadata": {},
   "source": [
    "Given n non-negative integers representing an elevation map where the width of each bar is 1, compute how much water it is able to trap after raining.\n",
    "\n",
    "\n",
    "The above elevation map is represented by array [0,1,0,2,1,0,1,3,2,1,2,1]. In this case, 6 units of rain water (blue section) are being trapped. Thanks Marcos for contributing this image!\n",
    "\n",
    "Example:\n",
    "\n",
    "Input: [0,1,0,2,1,0,1,3,2,1,2,1]\n",
    "Output: 6"
   ]
  },
  {
   "cell_type": "code",
   "execution_count": null,
   "metadata": {
    "ExecuteTime": {
     "end_time": "2020-03-17T04:32:09.293251Z",
     "start_time": "2020-03-17T04:32:09.284273Z"
    }
   },
   "outputs": [],
   "source": [
    "# My solution (20ms, 97.34%, 13.2MB, 6.15%)\n",
    "# 思路：找到最高的和第二高的，以及他们的index，他们之间的水量是第二高度*index之差减一然后再前去他们俩之间的别的高度之和。\n",
    "# 然后把最高的和他们中间的高度从height里全部去掉（保留第二高的）\n",
    "\n",
    "\n",
    "class Solution(object):\n",
    "    def trap(self, height):\n",
    "        \"\"\"\n",
    "        :type height: List[int]\n",
    "        :rtype: int\n",
    "        \"\"\"\n",
    "        while len(height) > 0 and height[0] == 0:\n",
    "            height.pop(0)\n",
    "        while len(height) > 0 and height[-1] == 0:\n",
    "            height.pop()\n",
    "        if len(height) <= 2:\n",
    "            return 0\n",
    "        res = 0\n",
    "        while len(height) > 2:\n",
    "            max1 = max(height)\n",
    "            index1 = height.index(max1)\n",
    "            height[index1] = 0\n",
    "            max2 = max(height)\n",
    "            if max2 == 0:\n",
    "                break \n",
    "            index2 = height.index(max2)\n",
    "            h = max2\n",
    "            i1, i2 = min(index1, index2), max(index1, index2)\n",
    "            res += h*(i2-i1-1) - sum(height[i1+1:i2])\n",
    "            if index1 > index2:\n",
    "                height = height[:index2+1] + height[index1+1:]\n",
    "            else:\n",
    "                height = height[:index1] + height[index2:]\n",
    "        return res"
   ]
  }
 ],
 "metadata": {
  "kernelspec": {
   "display_name": "Python 3",
   "language": "python",
   "name": "python3"
  },
  "language_info": {
   "codemirror_mode": {
    "name": "ipython",
    "version": 3
   },
   "file_extension": ".py",
   "mimetype": "text/x-python",
   "name": "python",
   "nbconvert_exporter": "python",
   "pygments_lexer": "ipython3",
   "version": "3.6.7"
  },
  "varInspector": {
   "cols": {
    "lenName": 16,
    "lenType": 16,
    "lenVar": 40
   },
   "kernels_config": {
    "python": {
     "delete_cmd_postfix": "",
     "delete_cmd_prefix": "del ",
     "library": "var_list.py",
     "varRefreshCmd": "print(var_dic_list())"
    },
    "r": {
     "delete_cmd_postfix": ") ",
     "delete_cmd_prefix": "rm(",
     "library": "var_list.r",
     "varRefreshCmd": "cat(var_dic_list()) "
    }
   },
   "types_to_exclude": [
    "module",
    "function",
    "builtin_function_or_method",
    "instance",
    "_Feature"
   ],
   "window_display": false
  }
 },
 "nbformat": 4,
 "nbformat_minor": 2
}
