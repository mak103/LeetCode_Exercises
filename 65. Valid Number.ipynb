{
 "cells": [
  {
   "cell_type": "markdown",
   "metadata": {},
   "source": [
    "Validate if a given string can be interpreted as a decimal number.\n",
    "\n",
    "Some examples:\n",
    "\"0\" => true\n",
    "\" 0.1 \" => true\n",
    "\"abc\" => false\n",
    "\"1 a\" => false\n",
    "\"2e10\" => true\n",
    "\" -90e3   \" => true\n",
    "\" 1e\" => false\n",
    "\"e3\" => false\n",
    "\" 6e-1\" => true\n",
    "\" 99e2.5 \" => false\n",
    "\"53.5e93\" => true\n",
    "\" --6 \" => false\n",
    "\"-+3\" => false\n",
    "\"95a54e53\" => false\n",
    "\n",
    "Note: It is intended for the problem statement to be ambiguous. You should gather all requirements up front before implementing one. However, here is a list of characters that can be in a valid decimal number:\n",
    "\n",
    "Numbers 0-9\n",
    "Exponent - \"e\"\n",
    "Positive/negative sign - \"+\"/\"-\"\n",
    "Decimal point - \".\"\n",
    "Of course, the context of these characters also matters in the input.\n",
    "\n",
    "Update (2015-02-10):\n",
    "The signature of the C++ function had been updated. If you still see your function signature accepts a const char * argument, please click the reload button to reset your code definition."
   ]
  },
  {
   "cell_type": "code",
   "execution_count": null,
   "metadata": {},
   "outputs": [],
   "source": [
    "# My solution (48ms, 15.00%, 12.8MB, 15.38%)\n",
    "\n",
    "class Solution(object):\n",
    "    def isNumber(self, s):\n",
    "        \"\"\"\n",
    "        :type s: str\n",
    "        :rtype: bool\n",
    "        \"\"\"\n",
    "        try:\n",
    "            a = float(s)\n",
    "            return True\n",
    "        except:\n",
    "            return False"
   ]
  }
 ],
 "metadata": {
  "kernelspec": {
   "display_name": "Python 3",
   "language": "python",
   "name": "python3"
  },
  "language_info": {
   "codemirror_mode": {
    "name": "ipython",
    "version": 3
   },
   "file_extension": ".py",
   "mimetype": "text/x-python",
   "name": "python",
   "nbconvert_exporter": "python",
   "pygments_lexer": "ipython3",
   "version": "3.6.7"
  },
  "varInspector": {
   "cols": {
    "lenName": 16,
    "lenType": 16,
    "lenVar": 40
   },
   "kernels_config": {
    "python": {
     "delete_cmd_postfix": "",
     "delete_cmd_prefix": "del ",
     "library": "var_list.py",
     "varRefreshCmd": "print(var_dic_list())"
    },
    "r": {
     "delete_cmd_postfix": ") ",
     "delete_cmd_prefix": "rm(",
     "library": "var_list.r",
     "varRefreshCmd": "cat(var_dic_list()) "
    }
   },
   "types_to_exclude": [
    "module",
    "function",
    "builtin_function_or_method",
    "instance",
    "_Feature"
   ],
   "window_display": false
  }
 },
 "nbformat": 4,
 "nbformat_minor": 2
}
