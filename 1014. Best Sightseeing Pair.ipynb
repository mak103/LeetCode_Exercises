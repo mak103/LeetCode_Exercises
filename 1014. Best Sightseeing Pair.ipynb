{
 "cells": [
  {
   "cell_type": "markdown",
   "metadata": {},
   "source": [
    "Given an array A of positive integers, A[i] represents the value of the i-th sightseeing spot, and two sightseeing spots i and j have distance j - i between them.\n",
    "\n",
    "The score of a pair (i < j) of sightseeing spots is (A[i] + A[j] + i - j) : the sum of the values of the sightseeing spots, minus the distance between them.\n",
    "\n",
    "Return the maximum score of a pair of sightseeing spots.\n",
    "\n",
    " \n",
    "\n",
    "Example 1:\n",
    "\n",
    "Input: [8,1,5,2,6]\n",
    "Output: 11\n",
    "Explanation: i = 0, j = 2, A[i] + A[j] + i - j = 8 + 5 + 0 - 2 = 11\n",
    " \n",
    "\n",
    "Note:\n",
    "\n",
    "1.2 <= A.length <= 50000\n",
    "2.1 <= A[i] <= 1000"
   ]
  },
  {
   "cell_type": "code",
   "execution_count": null,
   "metadata": {},
   "outputs": [],
   "source": [
    "# My solution (492ms, 52.27%, 16.3MB, 80.95%)\n",
    "# 一开始我的想法是动态规划，dp[j]表示以第j位结尾的最大值，然后再找dp中的最大值。对于每一项的dp[j]，关键是要找到一个对应的i，\n",
    "# 我当时想的是创建一个list，每次循环之中往里边添加A[i]+i，因为相距越远要减的值越多，不如想象成越近的先加个值（i），后边计算的时候再减掉它。\n",
    "# 改进它的时候，我发现不需要创建的牌， 直接设个res，每次取max。然后我也不需要创建list，只要初始化为A[0]，每次比较它自己与A[i]+i就行。\n",
    "class Solution(object):\n",
    "    def maxScoreSightseeingPair(self, A):\n",
    "        \"\"\"\n",
    "        :type A: List[int]\n",
    "        :rtype: int\n",
    "        \"\"\"\n",
    "        res, b = -1, A[0]\n",
    "        for i in range(1, len(A)):\n",
    "            res = max(res, A[i]+b-i)\n",
    "            b = max(b, A[i]+i)\n",
    "        return res"
   ]
  }
 ],
 "metadata": {
  "kernelspec": {
   "display_name": "Python 3",
   "language": "python",
   "name": "python3"
  },
  "language_info": {
   "codemirror_mode": {
    "name": "ipython",
    "version": 3
   },
   "file_extension": ".py",
   "mimetype": "text/x-python",
   "name": "python",
   "nbconvert_exporter": "python",
   "pygments_lexer": "ipython3",
   "version": "3.6.7"
  },
  "varInspector": {
   "cols": {
    "lenName": 16,
    "lenType": 16,
    "lenVar": 40
   },
   "kernels_config": {
    "python": {
     "delete_cmd_postfix": "",
     "delete_cmd_prefix": "del ",
     "library": "var_list.py",
     "varRefreshCmd": "print(var_dic_list())"
    },
    "r": {
     "delete_cmd_postfix": ") ",
     "delete_cmd_prefix": "rm(",
     "library": "var_list.r",
     "varRefreshCmd": "cat(var_dic_list()) "
    }
   },
   "types_to_exclude": [
    "module",
    "function",
    "builtin_function_or_method",
    "instance",
    "_Feature"
   ],
   "window_display": false
  }
 },
 "nbformat": 4,
 "nbformat_minor": 2
}
