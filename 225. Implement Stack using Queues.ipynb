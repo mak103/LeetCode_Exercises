{
 "cells": [
  {
   "cell_type": "markdown",
   "metadata": {},
   "source": [
    "Implement the following operations of a stack using queues.\n",
    "\n",
    "push(x) -- Push element x onto stack.\n",
    "pop() -- Removes the element on top of the stack.\n",
    "top() -- Get the top element.\n",
    "empty() -- Return whether the stack is empty.\n",
    "Example:\n",
    "\n",
    "MyStack stack = new MyStack();\n",
    "\n",
    "stack.push(1);\n",
    "stack.push(2);  \n",
    "stack.top();   // returns 2\n",
    "stack.pop();   // returns 2\n",
    "stack.empty(); // returns false\n",
    "Notes:\n",
    "\n",
    "You must use only standard operations of a queue -- which means only push to back, peek/pop from front, size, and is empty operations are valid.\n",
    "Depending on your language, queue may not be supported natively. You may simulate a queue by using a list or deque (double-ended queue), as long as you use only standard operations of a queue.\n",
    "You may assume that all operations are valid (for example, no pop or top operations will be called on an empty stack)."
   ]
  },
  {
   "cell_type": "code",
   "execution_count": null,
   "metadata": {},
   "outputs": [],
   "source": [
    "# My first solution (20ms, 57.80%, 11.6MB, 97.08%)\n",
    "\n",
    "class MyStack(object):\n",
    "\n",
    "    def __init__(self):\n",
    "        \"\"\"\n",
    "        Initialize your data structure here.\n",
    "        \"\"\"\n",
    "        self.queues = []\n",
    "\n",
    "    def push(self, x):\n",
    "        \"\"\"\n",
    "        Push element x onto stack.\n",
    "        :type x: int\n",
    "        :rtype: None\n",
    "        \"\"\"\n",
    "        self.queues.append(x)\n",
    "        return\n",
    "\n",
    "\n",
    "    def pop(self):\n",
    "        \"\"\"\n",
    "        Removes the element on top of the stack and returns that element.\n",
    "        :rtype: int\n",
    "        \"\"\"\n",
    "        res = self.queues[-1]\n",
    "        self.queues = self.queues[:-1]\n",
    "        return res\n",
    "\n",
    "    def top(self):\n",
    "        \"\"\"\n",
    "        Get the top element.\n",
    "        :rtype: int\n",
    "        \"\"\"\n",
    "        return self.queues[-1]\n",
    "\n",
    "\n",
    "    def empty(self):\n",
    "        \"\"\"\n",
    "        Returns whether the stack is empty.\n",
    "        :rtype: bool\n",
    "        \"\"\"\n",
    "        return len(self.queues) == 0\n",
    "\n",
    "\n",
    "\n",
    "# Your MyStack object will be instantiated and called as such:\n",
    "# obj = MyStack()\n",
    "# obj.push(x)\n",
    "# param_2 = obj.pop()\n",
    "# param_3 = obj.top()\n",
    "# param_4 = obj.empty()"
   ]
  }
 ],
 "metadata": {
  "kernelspec": {
   "display_name": "Python 3",
   "language": "python",
   "name": "python3"
  },
  "language_info": {
   "codemirror_mode": {
    "name": "ipython",
    "version": 3
   },
   "file_extension": ".py",
   "mimetype": "text/x-python",
   "name": "python",
   "nbconvert_exporter": "python",
   "pygments_lexer": "ipython3",
   "version": "3.6.7"
  },
  "varInspector": {
   "cols": {
    "lenName": 16,
    "lenType": 16,
    "lenVar": 40
   },
   "kernels_config": {
    "python": {
     "delete_cmd_postfix": "",
     "delete_cmd_prefix": "del ",
     "library": "var_list.py",
     "varRefreshCmd": "print(var_dic_list())"
    },
    "r": {
     "delete_cmd_postfix": ") ",
     "delete_cmd_prefix": "rm(",
     "library": "var_list.r",
     "varRefreshCmd": "cat(var_dic_list()) "
    }
   },
   "types_to_exclude": [
    "module",
    "function",
    "builtin_function_or_method",
    "instance",
    "_Feature"
   ],
   "window_display": false
  }
 },
 "nbformat": 4,
 "nbformat_minor": 2
}
