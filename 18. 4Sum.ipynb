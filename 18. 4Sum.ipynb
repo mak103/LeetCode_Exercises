{
 "cells": [
  {
   "cell_type": "markdown",
   "metadata": {},
   "source": [
    "Given an array nums of n integers and an integer target, are there elements a, b, c, and d in nums such that a + b + c + d = target? Find all unique quadruplets in the array which gives the sum of target.\n",
    "\n",
    "Note:\n",
    "\n",
    "The solution set must not contain duplicate quadruplets.\n",
    "\n",
    "Example:\n",
    "\n",
    "Given array nums = [1, 0, -1, 0, -2, 2], and target = 0.\n",
    "\n",
    "A solution set is:\n",
    "[\n",
    "  [-1,  0, 0, 1],\n",
    "  [-2, -1, 1, 2],\n",
    "  [-2,  0, 0, 2]\n",
    "]"
   ]
  },
  {
   "cell_type": "code",
   "execution_count": 7,
   "metadata": {
    "ExecuteTime": {
     "end_time": "2019-03-22T16:49:43.924440Z",
     "start_time": "2019-03-22T16:49:43.921415Z"
    }
   },
   "outputs": [],
   "source": [
    "class Solution(object):\n",
    "    def fourSum(self, nums, target):\n",
    "        \"\"\"\n",
    "        :type nums: List[int]\n",
    "        :type target: int\n",
    "        :rtype: List[List[int]]\n",
    "        \"\"\"\n",
    "        if len(nums) < 3:\n",
    "            return []\n",
    "        nums = sorted(nums)\n",
    "        index1, res = 0, []\n",
    "        while index1 < len(nums) - 3:\n",
    "            index2 = index1 + 1\n",
    "            while index2 < len(nums) - 2:\n",
    "                index3, index4 = index2+1, len(nums)-1\n",
    "                while index3 < index4:\n",
    "                    if nums[index1]+nums[index2]+nums[index3]+nums[index4] == target:\n",
    "                        res.append([nums[index1],nums[index2],nums[index3],nums[index4]])\n",
    "                        index4 -= 1\n",
    "                        while nums[index4] == nums[index4+1] and index3 < index4:\n",
    "                            index4 -= 1\n",
    "                        index3 += 1\n",
    "                        while nums[index3] == nums[index3-1] and index3 < index4:\n",
    "                            index3 += 1\n",
    "                    elif nums[index1]+nums[index2]+nums[index3]+nums[index4] > target:\n",
    "                        index4 -= 1\n",
    "                        while nums[index4] == nums[index4+1] and index3 < index4:\n",
    "                            index4 -= 1\n",
    "                            if index4 == index3:\n",
    "                                break\n",
    "                    else:\n",
    "                        index3 += 1\n",
    "                        while nums[index3] == nums[index3-1] and index3 < index4:\n",
    "                            index3 += 1\n",
    "                            if index3 == index4:\n",
    "                                break\n",
    "                index2 += 1\n",
    "                while nums[index2] == nums[index2-1] and index2 < len(nums)-2:\n",
    "                    index2 += 1\n",
    "            index1 += 1\n",
    "            while nums[index1] == nums[index1-1] and index1 < len(nums) - 3:\n",
    "                index1 += 1\n",
    "        return res"
   ]
  }
 ],
 "metadata": {
  "kernelspec": {
   "display_name": "Python 3",
   "language": "python",
   "name": "python3"
  },
  "language_info": {
   "codemirror_mode": {
    "name": "ipython",
    "version": 3
   },
   "file_extension": ".py",
   "mimetype": "text/x-python",
   "name": "python",
   "nbconvert_exporter": "python",
   "pygments_lexer": "ipython3",
   "version": "3.6.7"
  },
  "varInspector": {
   "cols": {
    "lenName": 16,
    "lenType": 16,
    "lenVar": 40
   },
   "kernels_config": {
    "python": {
     "delete_cmd_postfix": "",
     "delete_cmd_prefix": "del ",
     "library": "var_list.py",
     "varRefreshCmd": "print(var_dic_list())"
    },
    "r": {
     "delete_cmd_postfix": ") ",
     "delete_cmd_prefix": "rm(",
     "library": "var_list.r",
     "varRefreshCmd": "cat(var_dic_list()) "
    }
   },
   "types_to_exclude": [
    "module",
    "function",
    "builtin_function_or_method",
    "instance",
    "_Feature"
   ],
   "window_display": false
  }
 },
 "nbformat": 4,
 "nbformat_minor": 2
}
