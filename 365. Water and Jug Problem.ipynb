{
 "cells": [
  {
   "cell_type": "markdown",
   "metadata": {},
   "source": [
    "You are given two jugs with capacities x and y litres. There is an infinite amount of water supply available. You need to determine whether it is possible to measure exactly z litres using these two jugs.\n",
    "\n",
    "If z liters of water is measurable, you must have z liters of water contained within one or both buckets by the end.\n",
    "\n",
    "Operations allowed:\n",
    "\n",
    "Fill any of the jugs completely with water.\n",
    "Empty any of the jugs.\n",
    "Pour water from one jug into another till the other jug is completely full or the first jug itself is empty.\n",
    "Example 1: (From the famous \"Die Hard\" example)\n",
    "\n",
    "Input: x = 3, y = 5, z = 4\n",
    "Output: True\n",
    "Example 2:\n",
    "\n",
    "Input: x = 2, y = 6, z = 5\n",
    "Output: False"
   ]
  },
  {
   "cell_type": "code",
   "execution_count": null,
   "metadata": {},
   "outputs": [],
   "source": [
    "# A great solution found online (20ms, 66.67%, 11.6MB, 100%)\n",
    "# https://www.bilibili.com/video/av46506390?p=4\n",
    "\n",
    "class Solution(object):\n",
    "    def canMeasureWater(self, x, y, z):\n",
    "        \"\"\"\n",
    "        :type x: int\n",
    "        :type y: int\n",
    "        :type z: int\n",
    "        :rtype: bool\n",
    "        \"\"\"\n",
    "        if z == 0:\n",
    "            return True\n",
    "        if z > x+y:\n",
    "            return False\n",
    "        n1, n2 = x, y\n",
    "        while min(n1, n2) > 0:\n",
    "            n_min = min(n1, n2)\n",
    "            n_max = max(n1, n2)\n",
    "            n_max = n_max % n_min\n",
    "            n1, n2 = n_max, n_min\n",
    "        gcd = max(n1, n2)\n",
    "        if z%gcd ==0:\n",
    "            return True\n",
    "        else:\n",
    "            False"
   ]
  }
 ],
 "metadata": {
  "kernelspec": {
   "display_name": "Python 3",
   "language": "python",
   "name": "python3"
  },
  "language_info": {
   "codemirror_mode": {
    "name": "ipython",
    "version": 3
   },
   "file_extension": ".py",
   "mimetype": "text/x-python",
   "name": "python",
   "nbconvert_exporter": "python",
   "pygments_lexer": "ipython3",
   "version": "3.6.7"
  },
  "varInspector": {
   "cols": {
    "lenName": 16,
    "lenType": 16,
    "lenVar": 40
   },
   "kernels_config": {
    "python": {
     "delete_cmd_postfix": "",
     "delete_cmd_prefix": "del ",
     "library": "var_list.py",
     "varRefreshCmd": "print(var_dic_list())"
    },
    "r": {
     "delete_cmd_postfix": ") ",
     "delete_cmd_prefix": "rm(",
     "library": "var_list.r",
     "varRefreshCmd": "cat(var_dic_list()) "
    }
   },
   "types_to_exclude": [
    "module",
    "function",
    "builtin_function_or_method",
    "instance",
    "_Feature"
   ],
   "window_display": false
  }
 },
 "nbformat": 4,
 "nbformat_minor": 2
}
