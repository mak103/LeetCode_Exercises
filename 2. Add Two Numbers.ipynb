{
 "cells": [
  {
   "cell_type": "markdown",
   "metadata": {},
   "source": [
    "You are given two non-empty linked lists representing two non-negative integers. The digits are stored in reverse order and each of their nodes contain a single digit. Add the two numbers and return it as a linked list.\n",
    "\n",
    "You may assume the two numbers do not contain any leading zero, except the number 0 itself.\n",
    "\n",
    "Example:\n",
    "\n",
    "Input: (2 -> 4 -> 3) + (5 -> 6 -> 4)\n",
    "Output: 7 -> 0 -> 8\n",
    "Explanation: 342 + 465 = 807."
   ]
  },
  {
   "cell_type": "code",
   "execution_count": null,
   "metadata": {},
   "outputs": [],
   "source": [
    "# Definition for singly-linked list.\n",
    "# class ListNode(object):\n",
    "#     def __init__(self, x):\n",
    "#         self.val = x\n",
    "#         self.next = None\n",
    "\n",
    "class Solution(object):\n",
    "    def addTwoNumbers(self, l1, l2):\n",
    "        \"\"\"\n",
    "        :type l1: ListNode\n",
    "        :type l2: ListNode\n",
    "        :rtype: ListNode\n",
    "        \"\"\"\n",
    "        out_put = []\n",
    "        carry=0\n",
    "        l1_temp = 0\n",
    "        l2_temp = 0\n",
    "        stop1 = False\n",
    "        stop2 = False\n",
    "        while True:\n",
    "            try:\n",
    "                l1_temp = l1.val\n",
    "                l1 = l1.next\n",
    "            except:\n",
    "                l1_temp = 0\n",
    "                stop1= True\n",
    "\n",
    "            try:\n",
    "                l2_temp = l2.val\n",
    "                l2 = l2.next\n",
    "            except:\n",
    "                l2_temp = 0\n",
    "                stop2 = True\n",
    "            \n",
    "            temp = l1_temp + l2_temp + carry\n",
    "            carry = 0\n",
    "            \n",
    "            if temp >= 10:\n",
    "                carry = 1\n",
    "                temp -= 10\n",
    "            if temp + carry == 0 and stop1 and stop2:\n",
    "                break\n",
    "            out_put.append(temp)\n",
    "\n",
    "        return out_put"
   ]
  }
 ],
 "metadata": {
  "kernelspec": {
   "display_name": "Python 3",
   "language": "python",
   "name": "python3"
  },
  "language_info": {
   "codemirror_mode": {
    "name": "ipython",
    "version": 3
   },
   "file_extension": ".py",
   "mimetype": "text/x-python",
   "name": "python",
   "nbconvert_exporter": "python",
   "pygments_lexer": "ipython3",
   "version": "3.6.7"
  }
 },
 "nbformat": 4,
 "nbformat_minor": 2
}
