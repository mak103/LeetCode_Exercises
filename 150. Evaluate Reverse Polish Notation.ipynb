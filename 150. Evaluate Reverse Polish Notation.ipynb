{
 "cells": [
  {
   "cell_type": "markdown",
   "metadata": {},
   "source": [
    "Evaluate the value of an arithmetic expression in Reverse Polish Notation.\n",
    "\n",
    "Valid operators are +, -, *, /. Each operand may be an integer or another expression.\n",
    "\n",
    "Note:\n",
    "\n",
    "Division between two integers should truncate toward zero.\n",
    "The given RPN expression is always valid. That means the expression would always evaluate to a result and there won't be any divide by zero operation.\n",
    "Example 1:\n",
    "\n",
    "Input: [\"2\", \"1\", \"+\", \"3\", \"*\"]\n",
    "Output: 9\n",
    "Explanation: ((2 + 1) * 3) = 9\n",
    "Example 2:\n",
    "\n",
    "Input: [\"4\", \"13\", \"5\", \"/\", \"+\"]\n",
    "Output: 6\n",
    "Explanation: (4 + (13 / 5)) = 6\n",
    "Example 3:\n",
    "\n",
    "Input: [\"10\", \"6\", \"9\", \"3\", \"+\", \"-11\", \"*\", \"/\", \"*\", \"17\", \"+\", \"5\", \"+\"]\n",
    "Output: 22\n",
    "Explanation: \n",
    "  ((10 * (6 / ((9 + 3) * -11))) + 17) + 5\n",
    "= ((10 * (6 / (12 * -11))) + 17) + 5\n",
    "= ((10 * (6 / -132)) + 17) + 5\n",
    "= ((10 * 0) + 17) + 5\n",
    "= (0 + 17) + 5\n",
    "= 17 + 5\n",
    "= 22"
   ]
  },
  {
   "cell_type": "code",
   "execution_count": null,
   "metadata": {
    "ExecuteTime": {
     "end_time": "2020-02-15T04:52:56.962834Z",
     "start_time": "2020-02-15T04:52:56.955851Z"
    }
   },
   "outputs": [],
   "source": [
    "# My solution\n",
    "\n",
    "class Solution(object):\n",
    "    def evalRPN(self, tokens):\n",
    "        \"\"\"\n",
    "        :type tokens: List[str]\n",
    "        :rtype: int\n",
    "        \"\"\"\n",
    "        if len(tokens) == 0:\n",
    "            return 0\n",
    "        stack = []\n",
    "        while len(tokens) > 0:\n",
    "            token = tokens.pop(0)\n",
    "            try:\n",
    "                token = int(token)\n",
    "                stack.append(token)\n",
    "            except:\n",
    "                if token == '+':\n",
    "                    n1 = stack.pop()\n",
    "                    n2 = stack.pop()\n",
    "                    stack.append(n2+n1)\n",
    "                elif token == '-':\n",
    "                    n1 = stack.pop()\n",
    "                    n2 = stack.pop()\n",
    "                    stack.append(n2-n1)\n",
    "                elif token == '*':\n",
    "                    n1 = stack.pop()\n",
    "                    n2 = stack.pop()\n",
    "                    stack.append(n2*n1)\n",
    "                elif token == '/':\n",
    "                    n1 = stack.pop()\n",
    "                    n2 = stack.pop()\n",
    "                    stack.append(int(n2/float(n1)))  #如果直接int(n2/n1),那么int(6/-132) 会变成-1\n",
    "                else:\n",
    "                    stack.append(self.evalRPN(token))\n",
    "        return stack[0]"
   ]
  }
 ],
 "metadata": {
  "kernelspec": {
   "display_name": "Python 3",
   "language": "python",
   "name": "python3"
  },
  "language_info": {
   "codemirror_mode": {
    "name": "ipython",
    "version": 3
   },
   "file_extension": ".py",
   "mimetype": "text/x-python",
   "name": "python",
   "nbconvert_exporter": "python",
   "pygments_lexer": "ipython3",
   "version": "3.6.7"
  },
  "varInspector": {
   "cols": {
    "lenName": 16,
    "lenType": 16,
    "lenVar": 40
   },
   "kernels_config": {
    "python": {
     "delete_cmd_postfix": "",
     "delete_cmd_prefix": "del ",
     "library": "var_list.py",
     "varRefreshCmd": "print(var_dic_list())"
    },
    "r": {
     "delete_cmd_postfix": ") ",
     "delete_cmd_prefix": "rm(",
     "library": "var_list.r",
     "varRefreshCmd": "cat(var_dic_list()) "
    }
   },
   "types_to_exclude": [
    "module",
    "function",
    "builtin_function_or_method",
    "instance",
    "_Feature"
   ],
   "window_display": false
  }
 },
 "nbformat": 4,
 "nbformat_minor": 2
}
