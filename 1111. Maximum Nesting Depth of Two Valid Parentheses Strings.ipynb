{
 "cells": [
  {
   "cell_type": "markdown",
   "metadata": {},
   "source": [
    "A string is a valid parentheses string (denoted VPS) if and only if it consists of \"(\" and \")\" characters only, and:\n",
    "\n",
    "It is the empty string, or\n",
    "It can be written as AB (A concatenated with B), where A and B are VPS's, or\n",
    "It can be written as (A), where A is a VPS.\n",
    "We can similarly define the nesting depth depth(S) of any VPS S as follows:\n",
    "\n",
    "depth(\"\") = 0\n",
    "depth(A + B) = max(depth(A), depth(B)), where A and B are VPS's\n",
    "depth(\"(\" + A + \")\") = 1 + depth(A), where A is a VPS.\n",
    "For example,  \"\", \"()()\", and \"()(()())\" are VPS's (with nesting depths 0, 1, and 2), and \")(\" and \"(()\" are not VPS's.\n",
    "\n",
    " \n",
    "\n",
    "Given a VPS seq, split it into two disjoint subsequences A and B, such that A and B are VPS's (and A.length + B.length = seq.length).\n",
    "\n",
    "Now choose any such A and B such that max(depth(A), depth(B)) is the minimum possible value.\n",
    "\n",
    "Return an answer array (of length seq.length) that encodes such a choice of A and B:  answer[i] = 0 if seq[i] is part of A, else answer[i] = 1.  Note that even though multiple answers may exist, you may return any of them.\n",
    "\n",
    " \n",
    "\n",
    "Example 1:\n",
    "\n",
    "Input: seq = \"(()())\"\n",
    "Output: [0,1,1,1,1,0]\n",
    "Example 2:\n",
    "\n",
    "Input: seq = \"()(())()\"\n",
    "Output: [0,0,0,1,1,0,1,1]\n",
    " \n",
    "\n",
    "Constraints:\n",
    "\n",
    "1 <= seq.size <= 10000"
   ]
  },
  {
   "cell_type": "code",
   "execution_count": null,
   "metadata": {},
   "outputs": [],
   "source": [
    "# Solution in the discussion area (40ms, 42.11%, 13.1MB, 100%)\n",
    "\n",
    "class Solution(object):\n",
    "    def maxDepthAfterSplit(self, seq):\n",
    "        \"\"\"\n",
    "        :type seq: str\n",
    "        :rtype: List[int]\n",
    "        \"\"\"\n",
    "        if len(seq) == 0:\n",
    "            return []\n",
    "        res = [0]* len(seq)\n",
    "        stack = []\n",
    "        for i,s in enumerate(seq):\n",
    "            if s == '(':\n",
    "                stack.append(i)\n",
    "            else:\n",
    "                depth = len(stack) #栈的深度代表了这个左括号的depth\n",
    "                index = stack.pop()\n",
    "                res[i] = depth%2\n",
    "                res[index] = depth%2\n",
    "        return res"
   ]
  }
 ],
 "metadata": {
  "kernelspec": {
   "display_name": "Python 3",
   "language": "python",
   "name": "python3"
  },
  "language_info": {
   "codemirror_mode": {
    "name": "ipython",
    "version": 3
   },
   "file_extension": ".py",
   "mimetype": "text/x-python",
   "name": "python",
   "nbconvert_exporter": "python",
   "pygments_lexer": "ipython3",
   "version": "3.6.7"
  },
  "varInspector": {
   "cols": {
    "lenName": 16,
    "lenType": 16,
    "lenVar": 40
   },
   "kernels_config": {
    "python": {
     "delete_cmd_postfix": "",
     "delete_cmd_prefix": "del ",
     "library": "var_list.py",
     "varRefreshCmd": "print(var_dic_list())"
    },
    "r": {
     "delete_cmd_postfix": ") ",
     "delete_cmd_prefix": "rm(",
     "library": "var_list.r",
     "varRefreshCmd": "cat(var_dic_list()) "
    }
   },
   "types_to_exclude": [
    "module",
    "function",
    "builtin_function_or_method",
    "instance",
    "_Feature"
   ],
   "window_display": false
  }
 },
 "nbformat": 4,
 "nbformat_minor": 2
}
