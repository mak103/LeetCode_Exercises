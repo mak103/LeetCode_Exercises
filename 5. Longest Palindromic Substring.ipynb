{
 "cells": [
  {
   "cell_type": "markdown",
   "metadata": {},
   "source": [
    "Given a string s, find the longest palindromic substring in s. You may assume that the maximum length of s is 1000.\n",
    "\n",
    "Example 1:\n",
    "\n",
    "Input: \"babad\"\n",
    "Output: \"bab\"\n",
    "Note: \"aba\" is also a valid answer.\n",
    "Example 2:\n",
    "\n",
    "Input: \"cbbd\"\n",
    "Output: \"bb\""
   ]
  },
  {
   "cell_type": "code",
   "execution_count": null,
   "metadata": {},
   "outputs": [],
   "source": [
    "#original solution, running time: 4668ms\n",
    "class Solution(object):\n",
    "    def longestPalindrome(self, s):\n",
    "        \"\"\"\n",
    "        :type s: str\n",
    "        :rtype: str\n",
    "        \"\"\"\n",
    "        for i in range(len(s)+1):\n",
    "            len_list = len(s) - i\n",
    "            for j in range(i):\n",
    "                temp = s[j:j+len_list+1]\n",
    "                if temp == temp[::-1]:\n",
    "                    return temp\n",
    "        return s"
   ]
  },
  {
   "cell_type": "code",
   "execution_count": null,
   "metadata": {},
   "outputs": [],
   "source": [
    "#improved solution  running time: 572ms\n",
    "class Solution(object):\n",
    "    def longestPalindrome(self, s):\n",
    "        \"\"\"\n",
    "        :type s: str\n",
    "        :rtype: str\n",
    "        \"\"\"\n",
    "        if len(s) <= 1:\n",
    "            self.output = s\n",
    "        else:\n",
    "            self.output= s[0]\n",
    "            \n",
    "        for index,item in enumerate(s):\n",
    "            try:\n",
    "                if s[index+2] == item:\n",
    "                    str_1 = s[index+2:]\n",
    "                    str_2 = s[:index+1][::-1]\n",
    "                    odd = 1\n",
    "                    self.fold(str_1, str_2, odd, s[index+1])\n",
    "            except:\n",
    "                pass\n",
    "            try:\n",
    "                if s[index+1] == item:\n",
    "                    str_1 = s[index+1:]\n",
    "                    str_2 = s[:index+1][::-1]\n",
    "                    odd = 0\n",
    "                    self.fold(str_1, str_2, odd)\n",
    "                else:\n",
    "                    pass\n",
    "            except:\n",
    "                pass\n",
    "        \n",
    "        return self.output\n",
    "    \n",
    "    def fold(self, str_1, str_2, odd, middle=''):\n",
    "        if len(str_1) > len(str_2):\n",
    "            str_1 = str_1[:len(str_2)]\n",
    "        elif len(str_1) < len(str_2):\n",
    "            str_2 = str_2[:len(str_1)]\n",
    "\n",
    "        length = 0\n",
    "\n",
    "        for i in range(len(str_1)):\n",
    "            if str_1[i] == str_2[i]:\n",
    "                length += 1\n",
    "            else:\n",
    "                break\n",
    "        if 2*length+odd > len(self.output):\n",
    "            if odd == 1:\n",
    "                self.output = str_2[:length][::-1] + middle + str_1[:length]\n",
    "            else:\n",
    "                self.output = str_2[:length][::-1] + str_1[:length]\n",
    "\n",
    "        return"
   ]
  },
  {
   "cell_type": "code",
   "execution_count": null,
   "metadata": {
    "ExecuteTime": {
     "end_time": "2020-02-05T08:36:42.436902Z",
     "start_time": "2020-02-05T08:36:42.431892Z"
    }
   },
   "outputs": [],
   "source": [
    "#dynamic programming, 2592ms\n",
    "class Solution(object):\n",
    "    def longestPalindrome(self, s):\n",
    "        \"\"\"\n",
    "        :type s: str\n",
    "        :rtype: str\n",
    "        \"\"\"\n",
    "        if len(s) == 0:\n",
    "            return ''\n",
    "        dp,res = [], s[0]\n",
    "        for i in range(len(s)):\n",
    "            dp.append([0]*len(s))\n",
    "        for i in range(len(s)-1, -1, -1):\n",
    "            for j in range(i, len(s)):\n",
    "                if i == j:\n",
    "                    dp[i][j] = 1\n",
    "                elif j-i == 1 and s[i] == s[j]:\n",
    "                    dp[i][j] = 1\n",
    "                    if len(res) < 2:\n",
    "                        res = s[i:j+1]\n",
    "                else:\n",
    "                    if s[i] == s[j] and dp[i+1][j-1] == 1:\n",
    "                        dp[i][j] = 1\n",
    "                        if j-i+1 > len(res):\n",
    "                            res = s[i:j+1]\n",
    "        return res"
   ]
  }
 ],
 "metadata": {
  "kernelspec": {
   "display_name": "Python 3",
   "language": "python",
   "name": "python3"
  },
  "language_info": {
   "codemirror_mode": {
    "name": "ipython",
    "version": 3
   },
   "file_extension": ".py",
   "mimetype": "text/x-python",
   "name": "python",
   "nbconvert_exporter": "python",
   "pygments_lexer": "ipython3",
   "version": "3.6.7"
  },
  "varInspector": {
   "cols": {
    "lenName": 16,
    "lenType": 16,
    "lenVar": 40
   },
   "kernels_config": {
    "python": {
     "delete_cmd_postfix": "",
     "delete_cmd_prefix": "del ",
     "library": "var_list.py",
     "varRefreshCmd": "print(var_dic_list())"
    },
    "r": {
     "delete_cmd_postfix": ") ",
     "delete_cmd_prefix": "rm(",
     "library": "var_list.r",
     "varRefreshCmd": "cat(var_dic_list()) "
    }
   },
   "types_to_exclude": [
    "module",
    "function",
    "builtin_function_or_method",
    "instance",
    "_Feature"
   ],
   "window_display": false
  }
 },
 "nbformat": 4,
 "nbformat_minor": 2
}
