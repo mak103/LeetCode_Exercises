{
 "cells": [
  {
   "cell_type": "markdown",
   "metadata": {},
   "source": [
    "Given a string s, find the longest palindromic substring in s. You may assume that the maximum length of s is 1000.\n",
    "\n",
    "Example 1:\n",
    "\n",
    "Input: \"babad\"\n",
    "Output: \"bab\"\n",
    "Note: \"aba\" is also a valid answer.\n",
    "Example 2:\n",
    "\n",
    "Input: \"cbbd\"\n",
    "Output: \"bb\""
   ]
  },
  {
   "cell_type": "code",
   "execution_count": 33,
   "metadata": {},
   "outputs": [],
   "source": [
    "class Solution(object):\n",
    "    def longestPalindrome(self, s):\n",
    "        \"\"\"\n",
    "        :type s: str\n",
    "        :rtype: str\n",
    "        \"\"\"\n",
    "        for i in range(len(s)+1):\n",
    "            len_list = len(s) - i\n",
    "            for j in range(i):\n",
    "                temp = s[j:j+len_list+1]\n",
    "                if temp == temp[::-1]:\n",
    "                    return temp\n",
    "        return s"
   ]
  },
  {
   "cell_type": "code",
   "execution_count": null,
   "metadata": {},
   "outputs": [],
   "source": [
    "#Wrong solution, can't deal with \"abcdbbfcba\"\n",
    "class Solution(object):\n",
    "    def longestPalindrome(self, s):\n",
    "        \"\"\"\n",
    "        :type s: str\n",
    "        :rtype: str\n",
    "        \"\"\"\n",
    "        input_list= list(s)\n",
    "        output_list = []\n",
    "        \n",
    "        while True:\n",
    "            output_list = self.find(input_list)\n",
    "            if output_list == output_list[::-1]:\n",
    "                break\n",
    "            else:\n",
    "                input_list = output_list\n",
    "        \n",
    "        if len(output_list) == 0:\n",
    "            output_list = input_list\n",
    "        \n",
    "        return(\"\".join(list(output_list)))\n",
    "    \n",
    "    def find(self, input_list):\n",
    "        input_list_inv = input_list[::-1]\n",
    "        conv_list = list(range(3*len(input_list)-2))\n",
    "        conv_list[len(input_list)-1:2*len(input_list)-1] = input_list\n",
    "        output_list = []\n",
    "        \n",
    "        \n",
    "        for i in range(len(conv_list)-len(input_list)+1):\n",
    "            conv_list_inv = list(range(3*len(input_list)-2))[::-1]\n",
    "            conv_list_inv[i:i+len(input_list_inv)] = input_list_inv\n",
    "            #result = [conv_list_inv[j] == conv_list[j] for j in range(len(conv_list_inv))]\n",
    "            temp_list = []\n",
    "            #for j in range(len(input_list)-1,2*len(input_list)):\n",
    "            for j in range(len(conv_list)):\n",
    "                if conv_list_inv[j] == conv_list[j]:\n",
    "                    temp_list.append(conv_list[j])\n",
    "                else:\n",
    "                    if len(temp_list) > len(output_list):\n",
    "                        output_list = temp_list\n",
    "                    temp_list = []\n",
    "                    \n",
    "        return(output_list)"
   ]
  }
 ],
 "metadata": {
  "kernelspec": {
   "display_name": "Python 3",
   "language": "python",
   "name": "python3"
  },
  "language_info": {
   "codemirror_mode": {
    "name": "ipython",
    "version": 3
   },
   "file_extension": ".py",
   "mimetype": "text/x-python",
   "name": "python",
   "nbconvert_exporter": "python",
   "pygments_lexer": "ipython3",
   "version": "3.6.7"
  }
 },
 "nbformat": 4,
 "nbformat_minor": 2
}
