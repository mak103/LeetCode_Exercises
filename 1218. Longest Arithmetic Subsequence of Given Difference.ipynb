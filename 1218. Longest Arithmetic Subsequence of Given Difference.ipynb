{
 "cells": [
  {
   "cell_type": "markdown",
   "metadata": {},
   "source": [
    "Given an integer array arr and an integer difference, return the length of the longest subsequence in arr which is an arithmetic sequence such that the difference between adjacent elements in the subsequence equals difference.\n",
    "\n",
    " \n",
    "\n",
    "Example 1:\n",
    "\n",
    "Input: arr = [1,2,3,4], difference = 1\n",
    "Output: 4\n",
    "Explanation: The longest arithmetic subsequence is [1,2,3,4].\n",
    "Example 2:\n",
    "\n",
    "Input: arr = [1,3,5,7], difference = 1\n",
    "Output: 1\n",
    "Explanation: The longest arithmetic subsequence is any single element.\n",
    "Example 3:\n",
    "\n",
    "Input: arr = [1,5,7,8,5,3,4,2,1], difference = -2\n",
    "Output: 4\n",
    "Explanation: The longest arithmetic subsequence is [7,5,3,1].\n",
    " \n",
    "\n",
    "Constraints:\n",
    "\n",
    "1 <= arr.length <= 10^5\n",
    "-10^4 <= arr[i], difference <= 10^4"
   ]
  },
  {
   "cell_type": "code",
   "execution_count": null,
   "metadata": {},
   "outputs": [],
   "source": [
    "# My solution (552ms, 89.74%, 23MB, 75%)\n",
    "\n",
    "#在一个子数组中，若第i位为n，那么下一位就是n+diff。反过来想，如果要将一个数字n放入一个子数组的最后，那么该子数组的最后一位应该是n-diff。\n",
    "#所以可以构建一个字典，它的键（key）代表着这个子数组的最后一位，值（value）代表着这个子数组的长度。\n",
    "\n",
    "#在对arr中的值遍历的时候，对于数字n，若它能被放进某个等车子数组中，\n",
    "#那它的前一个就应该是n-diff。所以要去找n-diff是为字典里的键。\n",
    "#若字典中存在n-diff的键，那么久将键从n-diff改成n，对应的值+1。若n+diff与n都不是字典的键，那么将n添加到字典里，并赋予值为1。\n",
    "\n",
    "#最后返回字典中最大的值。\n",
    "\n",
    "class Solution(object):\n",
    "    def longestSubsequence(self, arr, difference):\n",
    "        \"\"\"\n",
    "        :type arr: List[int]\n",
    "        :type difference: int\n",
    "        :rtype: int\n",
    "        \"\"\"\n",
    "        dict_ = {}\n",
    "        for n in arr:\n",
    "            if n-difference in dict_:\n",
    "                dict_[n] = dict_[n-difference] + 1 \n",
    "                if n != n-difference:\n",
    "                    del dict_[n-difference]\n",
    "            else:\n",
    "                if n not in dict_:\n",
    "                    dict_[n] = 1\n",
    "        return max(dict_.values())"
   ]
  }
 ],
 "metadata": {
  "kernelspec": {
   "display_name": "Python 3",
   "language": "python",
   "name": "python3"
  },
  "language_info": {
   "codemirror_mode": {
    "name": "ipython",
    "version": 3
   },
   "file_extension": ".py",
   "mimetype": "text/x-python",
   "name": "python",
   "nbconvert_exporter": "python",
   "pygments_lexer": "ipython3",
   "version": "3.6.7"
  },
  "varInspector": {
   "cols": {
    "lenName": 16,
    "lenType": 16,
    "lenVar": 40
   },
   "kernels_config": {
    "python": {
     "delete_cmd_postfix": "",
     "delete_cmd_prefix": "del ",
     "library": "var_list.py",
     "varRefreshCmd": "print(var_dic_list())"
    },
    "r": {
     "delete_cmd_postfix": ") ",
     "delete_cmd_prefix": "rm(",
     "library": "var_list.r",
     "varRefreshCmd": "cat(var_dic_list()) "
    }
   },
   "types_to_exclude": [
    "module",
    "function",
    "builtin_function_or_method",
    "instance",
    "_Feature"
   ],
   "window_display": false
  }
 },
 "nbformat": 4,
 "nbformat_minor": 2
}
