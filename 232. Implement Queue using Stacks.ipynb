{
 "cells": [
  {
   "cell_type": "markdown",
   "metadata": {},
   "source": [
    "Implement the following operations of a queue using stacks.\n",
    "\n",
    "push(x) -- Push element x to the back of queue.\n",
    "pop() -- Removes the element from in front of queue.\n",
    "peek() -- Get the front element.\n",
    "empty() -- Return whether the queue is empty.\n",
    "Example:\n",
    "\n",
    "MyQueue queue = new MyQueue();\n",
    "\n",
    "queue.push(1);\n",
    "queue.push(2);  \n",
    "queue.peek();  // returns 1\n",
    "queue.pop();   // returns 1\n",
    "queue.empty(); // returns false\n",
    "Notes:\n",
    "\n",
    "You must use only standard operations of a stack -- which means only push to top, peek/pop from top, size, and is empty operations are valid.\n",
    "Depending on your language, stack may not be supported natively. You may simulate a stack by using a list or deque (double-ended queue), as long as you use only standard operations of a stack.\n",
    "You may assume that all operations are valid (for example, no pop or peek operations will be called on an empty queue)."
   ]
  },
  {
   "cell_type": "code",
   "execution_count": null,
   "metadata": {},
   "outputs": [],
   "source": [
    "# My solution\n",
    "class MyQueue(object):\n",
    "\n",
    "    def __init__(self):\n",
    "        \"\"\"\n",
    "        Initialize your data structure here.\n",
    "        \"\"\"\n",
    "        self.stack = []\n",
    "        \n",
    "\n",
    "    def push(self, x):\n",
    "        \"\"\"\n",
    "        Push element x to the back of queue.\n",
    "        :type x: int\n",
    "        :rtype: None\n",
    "        \"\"\"\n",
    "        self.stack.append(x)\n",
    "        \n",
    "\n",
    "    def pop(self):\n",
    "        \"\"\"\n",
    "        Removes the element from in front of queue and returns that element.\n",
    "        :rtype: int\n",
    "        \"\"\"\n",
    "        x = self.stack[0]\n",
    "        self.stack = self.stack[1:]\n",
    "        return x\n",
    "        \n",
    "\n",
    "    def peek(self):\n",
    "        \"\"\"\n",
    "        Get the front element.\n",
    "        :rtype: int\n",
    "        \"\"\"\n",
    "        return self.stack[0]\n",
    "        \n",
    "\n",
    "    def empty(self):\n",
    "        \"\"\"\n",
    "        Returns whether the queue is empty.\n",
    "        :rtype: bool\n",
    "        \"\"\"\n",
    "        return len(self.stack) == 0\n",
    "\n",
    "\n",
    "# Your MyQueue object will be instantiated and called as such:\n",
    "# obj = MyQueue()\n",
    "# obj.push(x)\n",
    "# param_2 = obj.pop()\n",
    "# param_3 = obj.peek()\n",
    "# param_4 = obj.empty()"
   ]
  }
 ],
 "metadata": {
  "kernelspec": {
   "display_name": "Python 3",
   "language": "python",
   "name": "python3"
  },
  "language_info": {
   "codemirror_mode": {
    "name": "ipython",
    "version": 3
   },
   "file_extension": ".py",
   "mimetype": "text/x-python",
   "name": "python",
   "nbconvert_exporter": "python",
   "pygments_lexer": "ipython3",
   "version": "3.6.7"
  },
  "varInspector": {
   "cols": {
    "lenName": 16,
    "lenType": 16,
    "lenVar": 40
   },
   "kernels_config": {
    "python": {
     "delete_cmd_postfix": "",
     "delete_cmd_prefix": "del ",
     "library": "var_list.py",
     "varRefreshCmd": "print(var_dic_list())"
    },
    "r": {
     "delete_cmd_postfix": ") ",
     "delete_cmd_prefix": "rm(",
     "library": "var_list.r",
     "varRefreshCmd": "cat(var_dic_list()) "
    }
   },
   "types_to_exclude": [
    "module",
    "function",
    "builtin_function_or_method",
    "instance",
    "_Feature"
   ],
   "window_display": false
  }
 },
 "nbformat": 4,
 "nbformat_minor": 2
}
