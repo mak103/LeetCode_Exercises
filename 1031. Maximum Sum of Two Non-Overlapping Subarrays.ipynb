{
 "cells": [
  {
   "cell_type": "markdown",
   "metadata": {},
   "source": [
    "Given an array A of non-negative integers, return the maximum sum of elements in two non-overlapping (contiguous) subarrays, which have lengths L and M.  (For clarification, the L-length subarray could occur before or after the M-length subarray.)\n",
    "\n",
    "Formally, return the largest V for which V = (A[i] + A[i+1] + ... + A[i+L-1]) + (A[j] + A[j+1] + ... + A[j+M-1]) and either:\n",
    "\n",
    "0 <= i < i + L - 1 < j < j + M - 1 < A.length, or\n",
    "0 <= j < j + M - 1 < i < i + L - 1 < A.length.\n",
    " \n",
    "\n",
    "Example 1:\n",
    "\n",
    "Input: A = [0,6,5,2,2,5,1,9,4], L = 1, M = 2\n",
    "Output: 20\n",
    "Explanation: One choice of subarrays is [9] with length 1, and [6,5] with length 2.\n",
    "Example 2:\n",
    "\n",
    "Input: A = [3,8,1,3,2,1,8,9,0], L = 3, M = 2\n",
    "Output: 29\n",
    "Explanation: One choice of subarrays is [3,8,1] with length 3, and [8,9] with length 2.\n",
    "Example 3:\n",
    "\n",
    "Input: A = [2,1,5,6,0,9,5,0,3,8], L = 4, M = 3\n",
    "Output: 31\n",
    "Explanation: One choice of subarrays is [5,6,0,9] with length 4, and [3,8] with length 3.\n",
    " \n",
    "\n",
    "Note:\n",
    "\n",
    "1. L >= 1\n",
    "2. M >= 1\n",
    "3. L + M <= A.length <= 1000\n",
    "4. 0 <= A[i] <= 1000"
   ]
  },
  {
   "cell_type": "code",
   "execution_count": null,
   "metadata": {},
   "outputs": [],
   "source": [
    "# My solution (272ms, 23.81%, 11.8MB, 72.73%)\n",
    "\n",
    "class Solution(object):\n",
    "    def find_max(self, M, nums):\n",
    "        if len(nums) < M:\n",
    "            return -1\n",
    "        sum_m, res = sum(nums[:M]), sum(nums[:M])\n",
    "        for i in range(len(nums)-M):\n",
    "            sum_m += (nums[i+M] - nums[i])\n",
    "            res = max(sum_m, res)\n",
    "        return res\n",
    "\n",
    "\n",
    "    def maxSumTwoNoOverlap(self, A, L, M):\n",
    "        \"\"\"\n",
    "        :type A: List[int]\n",
    "        :type L: int\n",
    "        :type M: int\n",
    "        :rtype: int\n",
    "        \"\"\"\n",
    "        sum_l, res = sum(A[:L]), 0\n",
    "        for i in range(len(A)-L):\n",
    "            sum_m = max(0, self.find_max(M, A[:i]), self.find_max(M, A[i+L:]))\n",
    "            res = max(res, sum_l+sum_m)\n",
    "            sum_l += (A[i+L]-A[i])\n",
    "        i += 1\n",
    "        sum_m = max(0, self.find_max(M, A[:i]), self.find_max(M, A[i+L:]))\n",
    "        return max(res, sum_l+sum_m)"
   ]
  }
 ],
 "metadata": {
  "kernelspec": {
   "display_name": "Python 3",
   "language": "python",
   "name": "python3"
  },
  "language_info": {
   "codemirror_mode": {
    "name": "ipython",
    "version": 3
   },
   "file_extension": ".py",
   "mimetype": "text/x-python",
   "name": "python",
   "nbconvert_exporter": "python",
   "pygments_lexer": "ipython3",
   "version": "3.6.7"
  },
  "varInspector": {
   "cols": {
    "lenName": 16,
    "lenType": 16,
    "lenVar": 40
   },
   "kernels_config": {
    "python": {
     "delete_cmd_postfix": "",
     "delete_cmd_prefix": "del ",
     "library": "var_list.py",
     "varRefreshCmd": "print(var_dic_list())"
    },
    "r": {
     "delete_cmd_postfix": ") ",
     "delete_cmd_prefix": "rm(",
     "library": "var_list.r",
     "varRefreshCmd": "cat(var_dic_list()) "
    }
   },
   "types_to_exclude": [
    "module",
    "function",
    "builtin_function_or_method",
    "instance",
    "_Feature"
   ],
   "window_display": false
  }
 },
 "nbformat": 4,
 "nbformat_minor": 2
}
