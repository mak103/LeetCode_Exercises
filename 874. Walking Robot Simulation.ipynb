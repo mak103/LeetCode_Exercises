{
 "cells": [
  {
   "cell_type": "markdown",
   "metadata": {},
   "source": [
    "A robot on an infinite grid starts at point (0, 0) and faces north.  The robot can receive one of three possible types of commands:\n",
    "\n",
    "-2: turn left 90 degrees\n",
    "-1: turn right 90 degrees\n",
    "1 <= x <= 9: move forward x units\n",
    "Some of the grid squares are obstacles. \n",
    "\n",
    "The i-th obstacle is at grid point (obstacles[i][0], obstacles[i][1])\n",
    "\n",
    "If the robot would try to move onto them, the robot stays on the previous grid square instead (but still continues following the rest of the route.)\n",
    "\n",
    "Return the square of the maximum Euclidean distance that the robot will be from the origin.\n",
    "\n",
    " \n",
    "\n",
    "Example 1:\n",
    "\n",
    "Input: commands = [4,-1,3], obstacles = []\n",
    "Output: 25\n",
    "Explanation: robot will go to (3, 4)\n",
    "Example 2:\n",
    "\n",
    "Input: commands = [4,-1,4,-2,4], obstacles = [[2,4]]\n",
    "Output: 65\n",
    "Explanation: robot will be stuck at (1, 4) before turning left and going to (1, 8)\n",
    " \n",
    "\n",
    "Note:\n",
    "\n",
    "0 <= commands.length <= 10000\n",
    "0 <= obstacles.length <= 10000\n",
    "-30000 <= obstacle[i][0] <= 30000\n",
    "-30000 <= obstacle[i][1] <= 30000\n",
    "The answer is guaranteed to be less than 2 ^ 31."
   ]
  },
  {
   "cell_type": "code",
   "execution_count": null,
   "metadata": {
    "ExecuteTime": {
     "end_time": "2020-02-03T06:38:41.600268Z",
     "start_time": "2020-02-03T06:38:41.588300Z"
    }
   },
   "outputs": [],
   "source": [
    "# My solution\n",
    "\n",
    "class Solution(object):\n",
    "    def robotSim(self, commands, obstacles):\n",
    "        \"\"\"\n",
    "        :type commands: List[int]\n",
    "        :type obstacles: List[List[int]]\n",
    "        :rtype: int\n",
    "        \"\"\"\n",
    "        cor = [0,0]\n",
    "        direction = [[0, 1], [-1, 0], [0, -1], [1, 0]]\n",
    "        i_dire = 0\n",
    "        dire = direction[i_dire]\n",
    "        obst_h, obst_v = {}, {}\n",
    "        dist_max = 0\n",
    "        for o in obstacles:\n",
    "            if o[1] not in obst_h:\n",
    "                obst_h[o[1]] = [o[0]]\n",
    "            else:\n",
    "                obst_h[o[1]].append(o[0])\n",
    "            if o[0] not in obst_v:\n",
    "                obst_v[o[0]] = [o[1]]\n",
    "            else:\n",
    "                obst_v[o[0]].append(o[1])\n",
    "        for c in commands:\n",
    "            if c == -2:\n",
    "                i_dire = (i_dire+1) % 4\n",
    "                dire = direction[i_dire]\n",
    "            elif c == -1:\n",
    "                i_dire = (i_dire-1) % 4\n",
    "                dire = direction[i_dire]\n",
    "            else:\n",
    "                if dire[0] != 0:\n",
    "                    try:\n",
    "                        obst = obst_h[cor[1]]\n",
    "                        count = 0\n",
    "                        while count < c:\n",
    "                            cor[0] += dire[0]\n",
    "                            if cor[0] in obst:\n",
    "                                cor[0] -= dire[0]\n",
    "                                break\n",
    "                            count += 1\n",
    "                    except:\n",
    "                        cor[0] += c*dire[0]\n",
    "                else:\n",
    "                    try:\n",
    "                        obst = obst_v[cor[0]]\n",
    "                        count = 0\n",
    "                        while count < c:\n",
    "                            cor[1] += dire[1]\n",
    "                            if cor[1] in obst:\n",
    "                                cor[1] -= dire[1]\n",
    "                                break\n",
    "                            count += 1\n",
    "                    except:\n",
    "                        cor[1] += c*dire[1]\n",
    "                dist_max = max(dist_max, (cor[0]**2 + cor[1]**2))\n",
    "        return dist_max"
   ]
  }
 ],
 "metadata": {
  "kernelspec": {
   "display_name": "Python 3",
   "language": "python",
   "name": "python3"
  },
  "language_info": {
   "codemirror_mode": {
    "name": "ipython",
    "version": 3
   },
   "file_extension": ".py",
   "mimetype": "text/x-python",
   "name": "python",
   "nbconvert_exporter": "python",
   "pygments_lexer": "ipython3",
   "version": "3.6.7"
  },
  "varInspector": {
   "cols": {
    "lenName": 16,
    "lenType": 16,
    "lenVar": 40
   },
   "kernels_config": {
    "python": {
     "delete_cmd_postfix": "",
     "delete_cmd_prefix": "del ",
     "library": "var_list.py",
     "varRefreshCmd": "print(var_dic_list())"
    },
    "r": {
     "delete_cmd_postfix": ") ",
     "delete_cmd_prefix": "rm(",
     "library": "var_list.r",
     "varRefreshCmd": "cat(var_dic_list()) "
    }
   },
   "types_to_exclude": [
    "module",
    "function",
    "builtin_function_or_method",
    "instance",
    "_Feature"
   ],
   "window_display": false
  }
 },
 "nbformat": 4,
 "nbformat_minor": 2
}
