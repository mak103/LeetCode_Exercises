{
 "cells": [
  {
   "cell_type": "markdown",
   "metadata": {},
   "source": [
    "The string \"PAYPALISHIRING\" is written in a zigzag pattern on a given number of rows like this: (you may want to display this pattern in a fixed font for better legibility)\n",
    "\n",
    "P   A   H   N\n",
    "A P L S I I G\n",
    "Y   I   R\n",
    "And then read line by line: \"PAHNAPLSIIGYIR\"\n",
    "\n",
    "Write the code that will take a string and make this conversion given a number of rows:\n",
    "\n",
    "string convert(string s, int numRows);\n",
    "Example 1:\n",
    "\n",
    "Input: s = \"PAYPALISHIRING\", numRows = 3\n",
    "Output: \"PAHNAPLSIIGYIR\"\n",
    "Example 2:\n",
    "\n",
    "Input: s = \"PAYPALISHIRING\", numRows = 4\n",
    "Output: \"PINALSIGYAHRPI\"\n",
    "Explanation:\n",
    "\n",
    "P     I    N\n",
    "A   L S  I G\n",
    "Y A   H R\n",
    "P     I"
   ]
  },
  {
   "cell_type": "code",
   "execution_count": 19,
   "metadata": {},
   "outputs": [],
   "source": [
    "class Solution(object):\n",
    "    def convert(self, s, numRows):\n",
    "        \"\"\"\n",
    "        :type s: str\n",
    "        :type numRows: int\n",
    "        :rtype: str\n",
    "        \"\"\"\n",
    "        if numRows == 1:\n",
    "            return s\n",
    "        \n",
    "        loop_length = 2 * numRows - 2\n",
    "        output = []\n",
    "        # first line\n",
    "        index = 0\n",
    "        while index < len(s):\n",
    "            output.append(s[index])\n",
    "            index += loop_length\n",
    "            \n",
    "        # middle lines\n",
    "        for i in range(numRows-2):\n",
    "            index1 = i + 1\n",
    "            index2 = loop_length - (i + 1)\n",
    "            while index1 < len(s):\n",
    "                output.append(s[index1])\n",
    "                index1 += loop_length\n",
    "                try:\n",
    "                    output.append(s[index2])\n",
    "                    index2 += loop_length\n",
    "                except:\n",
    "                    break\n",
    "                    \n",
    "        # bottom line\n",
    "        index = numRows-1\n",
    "        while index < len(s):\n",
    "            output.append(s[index])\n",
    "            index += loop_length\n",
    "            \n",
    "            \n",
    "        return \"\".join(output)"
   ]
  }
 ],
 "metadata": {
  "kernelspec": {
   "display_name": "Python 3",
   "language": "python",
   "name": "python3"
  },
  "language_info": {
   "codemirror_mode": {
    "name": "ipython",
    "version": 3
   },
   "file_extension": ".py",
   "mimetype": "text/x-python",
   "name": "python",
   "nbconvert_exporter": "python",
   "pygments_lexer": "ipython3",
   "version": "3.6.7"
  }
 },
 "nbformat": 4,
 "nbformat_minor": 2
}
