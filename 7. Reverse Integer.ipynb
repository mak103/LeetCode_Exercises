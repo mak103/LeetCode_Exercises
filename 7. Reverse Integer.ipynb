{
 "cells": [
  {
   "cell_type": "markdown",
   "metadata": {},
   "source": [
    "Given a 32-bit signed integer, reverse digits of an integer.\n",
    "\n",
    "Example 1:\n",
    "\n",
    "Input: 123\n",
    "Output: 321\n",
    "Example 2:\n",
    "\n",
    "Input: -123\n",
    "Output: -321\n",
    "Example 3:\n",
    "\n",
    "Input: 120\n",
    "Output: 21"
   ]
  },
  {
   "cell_type": "code",
   "execution_count": null,
   "metadata": {},
   "outputs": [],
   "source": [
    "class Solution(object):\n",
    "    def reverse(self, x):\n",
    "        \"\"\"\n",
    "        :type x: int\n",
    "        :rtype: int\n",
    "        \"\"\"\n",
    "        if x > 0:\n",
    "            x_str = str(x)\n",
    "            negative = False\n",
    "        else:\n",
    "            x_str = str(x)[1:]\n",
    "            negative = True\n",
    "            \n",
    "        carry = 1\n",
    "        num = 0\n",
    "        for i in x_str:\n",
    "            num += carry * int(i)\n",
    "            carry *= 10\n",
    "    \n",
    "        if negative:\n",
    "            num *= -1\n",
    "            \n",
    "        if num < - (2 ** 31) or num > (2 ** 31 - 1):\n",
    "            num = 0\n",
    "            \n",
    "        return num"
   ]
  }
 ],
 "metadata": {
  "kernelspec": {
   "display_name": "Python 3",
   "language": "python",
   "name": "python3"
  },
  "language_info": {
   "codemirror_mode": {
    "name": "ipython",
    "version": 3
   },
   "file_extension": ".py",
   "mimetype": "text/x-python",
   "name": "python",
   "nbconvert_exporter": "python",
   "pygments_lexer": "ipython3",
   "version": "3.6.7"
  }
 },
 "nbformat": 4,
 "nbformat_minor": 2
}
