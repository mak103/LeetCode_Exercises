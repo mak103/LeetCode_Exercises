{
 "cells": [
  {
   "cell_type": "markdown",
   "metadata": {},
   "source": [
    "Given a 2D grid of size m x n and an integer k. You need to shift the grid k times.\n",
    "\n",
    "In one shift operation:\n",
    "\n",
    "Element at grid[i][j] moves to grid[i][j + 1].\n",
    "Element at grid[i][n - 1] moves to grid[i + 1][0].\n",
    "Element at grid[m - 1][n - 1] moves to grid[0][0].\n",
    "Return the 2D grid after applying shift operation k times.\n",
    "\n",
    " \n",
    "\n",
    "Example 1:\n",
    "\n",
    "\n",
    "Input: grid = [[1,2,3],[4,5,6],[7,8,9]], k = 1\n",
    "Output: [[9,1,2],[3,4,5],[6,7,8]]\n",
    "Example 2:\n",
    "\n",
    "\n",
    "Input: grid = [[3,8,1,9],[19,7,2,5],[4,6,11,10],[12,0,21,13]], k = 4\n",
    "Output: [[12,0,21,13],[3,8,1,9],[19,7,2,5],[4,6,11,10]]\n",
    "Example 3:\n",
    "\n",
    "Input: grid = [[1,2,3],[4,5,6],[7,8,9]], k = 9\n",
    "Output: [[1,2,3],[4,5,6],[7,8,9]]\n",
    " \n",
    "\n",
    "Constraints:\n",
    "\n",
    "m == grid.length\n",
    "n == grid[i].length\n",
    "1 <= m <= 50\n",
    "1 <= n <= 50\n",
    "-1000 <= grid[i][j] <= 1000\n",
    "0 <= k <= 100"
   ]
  },
  {
   "cell_type": "code",
   "execution_count": null,
   "metadata": {
    "ExecuteTime": {
     "end_time": "2020-02-03T07:54:42.516736Z",
     "start_time": "2020-02-03T07:54:42.511736Z"
    }
   },
   "outputs": [],
   "source": [
    "# My solution\n",
    "class Solution(object):\n",
    "    def shiftGrid(self, grid, k):\n",
    "        \"\"\"\n",
    "        :type grid: List[List[int]]\n",
    "        :type k: int\n",
    "        :rtype: List[List[int]]\n",
    "        \"\"\"\n",
    "        if len(grid) == 0:\n",
    "            return []\n",
    "        m = len(grid)\n",
    "        n = len(grid[0])\n",
    "        l = []\n",
    "        for g in grid:\n",
    "            l += g\n",
    "        k = len(l) - (k % len(l))\n",
    "        l = l[k:] + l[:k]\n",
    "        grid_, temp = [], []\n",
    "        for i in l:\n",
    "            temp.append(i)\n",
    "            if len(temp) == n:\n",
    "                grid_.append(temp)\n",
    "                temp = []\n",
    "        return grid_"
   ]
  }
 ],
 "metadata": {
  "kernelspec": {
   "display_name": "Python 3",
   "language": "python",
   "name": "python3"
  },
  "language_info": {
   "codemirror_mode": {
    "name": "ipython",
    "version": 3
   },
   "file_extension": ".py",
   "mimetype": "text/x-python",
   "name": "python",
   "nbconvert_exporter": "python",
   "pygments_lexer": "ipython3",
   "version": "3.6.7"
  },
  "varInspector": {
   "cols": {
    "lenName": 16,
    "lenType": 16,
    "lenVar": 40
   },
   "kernels_config": {
    "python": {
     "delete_cmd_postfix": "",
     "delete_cmd_prefix": "del ",
     "library": "var_list.py",
     "varRefreshCmd": "print(var_dic_list())"
    },
    "r": {
     "delete_cmd_postfix": ") ",
     "delete_cmd_prefix": "rm(",
     "library": "var_list.r",
     "varRefreshCmd": "cat(var_dic_list()) "
    }
   },
   "types_to_exclude": [
    "module",
    "function",
    "builtin_function_or_method",
    "instance",
    "_Feature"
   ],
   "window_display": false
  }
 },
 "nbformat": 4,
 "nbformat_minor": 2
}
