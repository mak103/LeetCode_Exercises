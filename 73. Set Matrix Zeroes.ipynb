{
 "cells": [
  {
   "cell_type": "markdown",
   "metadata": {},
   "source": [
    "Given a m x n matrix, if an element is 0, set its entire row and column to 0. Do it in-place.\n",
    "\n",
    "Example 1:\n",
    "\n",
    "Input: \n",
    "[\n",
    "  [1,1,1],\n",
    "  [1,0,1],\n",
    "  [1,1,1]\n",
    "]\n",
    "Output: \n",
    "[\n",
    "  [1,0,1],\n",
    "  [0,0,0],\n",
    "  [1,0,1]\n",
    "]\n",
    "Example 2:\n",
    "\n",
    "Input: \n",
    "[\n",
    "  [0,1,2,0],\n",
    "  [3,4,5,2],\n",
    "  [1,3,1,5]\n",
    "]\n",
    "Output: \n",
    "[\n",
    "  [0,0,0,0],\n",
    "  [0,4,5,0],\n",
    "  [0,3,1,0]\n",
    "]"
   ]
  },
  {
   "cell_type": "code",
   "execution_count": null,
   "metadata": {},
   "outputs": [],
   "source": [
    "# My solution (O(m+n))\n",
    "class Solution(object):\n",
    "    def setZeroes(self, matrix):\n",
    "        \"\"\"\n",
    "        :type matrix: List[List[int]]\n",
    "        :rtype: None Do not return anything, modify matrix in-place instead.\n",
    "        \"\"\"\n",
    "        column, row = [], []\n",
    "        m, n = len(matrix), len(matrix[0])\n",
    "        for i in range(m):\n",
    "            for j in range(n):\n",
    "                if matrix[i][j] == 0:\n",
    "                    column.append(i)\n",
    "                    row.append(j)\n",
    "        column, row = set(column), set(row)\n",
    "        for c in column:\n",
    "            matrix[c][:] = [0]*n\n",
    "        for r in row:\n",
    "            for i in range(m):\n",
    "                matrix[i][r] = 0\n",
    "        return"
   ]
  },
  {
   "cell_type": "code",
   "execution_count": null,
   "metadata": {
    "ExecuteTime": {
     "end_time": "2020-02-08T08:31:16.587344Z",
     "start_time": "2020-02-08T08:31:16.580364Z"
    }
   },
   "outputs": [],
   "source": [
    "# Another solution found online(O(1))\n",
    "class Solution(object):\n",
    "    def setZeroes(self, matrix):\n",
    "        \"\"\"\n",
    "        :type matrix: List[List[int]]\n",
    "        :rtype: None Do not return anything, modify matrix in-place instead.\n",
    "        \"\"\"\n",
    "        column, row = False, False\n",
    "        m, n = len(matrix), len(matrix[0])\n",
    "        if 0 in matrix[0]:\n",
    "            column = True\n",
    "        for i in range(m):\n",
    "            if matrix[i][0] == 0:\n",
    "                row = True\n",
    "                break\n",
    "        for i in range(1,m):\n",
    "            for j in range(1,n):\n",
    "                if matrix[i][j] == 0:\n",
    "                    matrix[i][0] = 0\n",
    "                    matrix[0][j] = 0\n",
    "        for i in range(1,m):\n",
    "            if matrix[i][0] == 0:\n",
    "                matrix[i] = [0]*n\n",
    "        for i in range(1,n):\n",
    "            if matrix[0][i] == 0:\n",
    "                for j in range(1,m):\n",
    "                    matrix[j][i] = 0\n",
    "        if column:\n",
    "            matrix[0] = [0]*n\n",
    "        if row:\n",
    "            for i in range(m):\n",
    "                matrix[i][0] = 0\n",
    "        return"
   ]
  }
 ],
 "metadata": {
  "kernelspec": {
   "display_name": "Python 3",
   "language": "python",
   "name": "python3"
  },
  "language_info": {
   "codemirror_mode": {
    "name": "ipython",
    "version": 3
   },
   "file_extension": ".py",
   "mimetype": "text/x-python",
   "name": "python",
   "nbconvert_exporter": "python",
   "pygments_lexer": "ipython3",
   "version": "3.6.7"
  },
  "varInspector": {
   "cols": {
    "lenName": 16,
    "lenType": 16,
    "lenVar": 40
   },
   "kernels_config": {
    "python": {
     "delete_cmd_postfix": "",
     "delete_cmd_prefix": "del ",
     "library": "var_list.py",
     "varRefreshCmd": "print(var_dic_list())"
    },
    "r": {
     "delete_cmd_postfix": ") ",
     "delete_cmd_prefix": "rm(",
     "library": "var_list.r",
     "varRefreshCmd": "cat(var_dic_list()) "
    }
   },
   "types_to_exclude": [
    "module",
    "function",
    "builtin_function_or_method",
    "instance",
    "_Feature"
   ],
   "window_display": false
  }
 },
 "nbformat": 4,
 "nbformat_minor": 2
}
