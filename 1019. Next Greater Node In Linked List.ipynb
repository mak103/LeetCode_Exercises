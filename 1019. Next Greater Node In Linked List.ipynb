{
 "cells": [
  {
   "cell_type": "markdown",
   "metadata": {},
   "source": [
    "We are given a linked list with head as the first node.  Let's number the nodes in the list: node_1, node_2, node_3, ... etc.\n",
    "\n",
    "Each node may have a next larger value: for node_i, next_larger(node_i) is the node_j.val such that j > i, node_j.val > node_i.val, and j is the smallest possible choice.  If such a j does not exist, the next larger value is 0.\n",
    "\n",
    "Return an array of integers answer, where answer[i] = next_larger(node_{i+1}).\n",
    "\n",
    "Note that in the example inputs (not outputs) below, arrays such as [2,1,5] represent the serialization of a linked list with a head node value of 2, second node value of 1, and third node value of 5.\n",
    "\n",
    " \n",
    "\n",
    "Example 1:\n",
    "\n",
    "Input: [2,1,5]\n",
    "Output: [5,5,0]\n",
    "Example 2:\n",
    "\n",
    "Input: [2,7,4,3,5]\n",
    "Output: [7,0,5,5,0]\n",
    "Example 3:\n",
    "\n",
    "Input: [1,7,5,1,9,2,5,1]\n",
    "Output: [7,9,9,9,0,5,0,0]\n",
    " \n",
    "\n",
    "Note:\n",
    "\n",
    "1 <= node.val <= 10^9 for each node in the linked list.\n",
    "The given list has length in the range [0, 10000]."
   ]
  },
  {
   "cell_type": "code",
   "execution_count": null,
   "metadata": {},
   "outputs": [],
   "source": [
    "# My first solution (432ms, 19.9MB)\n",
    "\n",
    "# Definition for singly-linked list.\n",
    "# class ListNode(object):\n",
    "#     def __init__(self, x):\n",
    "#         self.val = x\n",
    "#         self.next = None\n",
    "\n",
    "class Solution(object):\n",
    "    def nextLargerNodes(self, head):\n",
    "        \"\"\"\n",
    "        :type head: ListNode\n",
    "        :rtype: List[int]\n",
    "        \"\"\"\n",
    "        if head is None:\n",
    "            return []\n",
    "        l = []\n",
    "        while head is not None:\n",
    "            l.append(head.val)\n",
    "            head = head.next\n",
    "        res = [0] * len(l)\n",
    "        decreasing_order = []\n",
    "        for i in range(len(l)):\n",
    "            while len(decreasing_order) > 0:\n",
    "                temp = decreasing_order[-1]\n",
    "                val = temp[1]\n",
    "                if val < l[i]:\n",
    "                    res[temp[0]] = l[i]\n",
    "                    decreasing_order.pop()\n",
    "                else:\n",
    "                    break\n",
    "            if i+1 < len(l) and l[i+1] > l[i]:\n",
    "                res[i] = l[i+1]   \n",
    "            else:\n",
    "                decreasing_order.append([i, l[i]])    \n",
    "        return res"
   ]
  },
  {
   "cell_type": "code",
   "execution_count": null,
   "metadata": {},
   "outputs": [],
   "source": [
    "# My second solution (624ms, 5.43%, 20.8MB, 15.79%)\n",
    "\n",
    "# Definition for singly-linked list.\n",
    "# class ListNode(object):\n",
    "#     def __init__(self, x):\n",
    "#         self.val = x\n",
    "#         self.next = None\n",
    "\n",
    "class Solution(object):\n",
    "    def nextLargerNodes(self, head):\n",
    "        \"\"\"\n",
    "        :type head: ListNode\n",
    "        :rtype: List[int]\n",
    "        \"\"\"\n",
    "        if head is None:\n",
    "            return []\n",
    "        res, i = [], 0\n",
    "        decreasing_order = []\n",
    "        while head is not None:\n",
    "            res.append(0)\n",
    "            val = head.val\n",
    "            while len(decreasing_order) > 0:\n",
    "                temp = decreasing_order[-1]\n",
    "                if temp[1] < val:\n",
    "                    res[temp[0]] = val\n",
    "                    decreasing_order.pop()\n",
    "                else:\n",
    "                    break\n",
    "            decreasing_order.append([i, val]) \n",
    "            i += 1\n",
    "            head = head.next \n",
    "        return res"
   ]
  }
 ],
 "metadata": {
  "kernelspec": {
   "display_name": "Python 3",
   "language": "python",
   "name": "python3"
  },
  "language_info": {
   "codemirror_mode": {
    "name": "ipython",
    "version": 3
   },
   "file_extension": ".py",
   "mimetype": "text/x-python",
   "name": "python",
   "nbconvert_exporter": "python",
   "pygments_lexer": "ipython3",
   "version": "3.6.7"
  },
  "varInspector": {
   "cols": {
    "lenName": 16,
    "lenType": 16,
    "lenVar": 40
   },
   "kernels_config": {
    "python": {
     "delete_cmd_postfix": "",
     "delete_cmd_prefix": "del ",
     "library": "var_list.py",
     "varRefreshCmd": "print(var_dic_list())"
    },
    "r": {
     "delete_cmd_postfix": ") ",
     "delete_cmd_prefix": "rm(",
     "library": "var_list.r",
     "varRefreshCmd": "cat(var_dic_list()) "
    }
   },
   "types_to_exclude": [
    "module",
    "function",
    "builtin_function_or_method",
    "instance",
    "_Feature"
   ],
   "window_display": false
  }
 },
 "nbformat": 4,
 "nbformat_minor": 2
}
