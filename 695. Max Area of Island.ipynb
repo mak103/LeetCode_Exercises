{
 "cells": [
  {
   "cell_type": "markdown",
   "metadata": {},
   "source": [
    "Given a non-empty 2D array grid of 0's and 1's, an island is a group of 1's (representing land) connected 4-directionally (horizontal or vertical.) You may assume all four edges of the grid are surrounded by water.\n",
    "\n",
    "Find the maximum area of an island in the given 2D array. (If there is no island, the maximum area is 0.)\n",
    "\n",
    "Example 1:\n",
    "\n",
    "[[0,0,1,0,0,0,0,1,0,0,0,0,0],\n",
    " [0,0,0,0,0,0,0,1,1,1,0,0,0],\n",
    " [0,1,1,0,1,0,0,0,0,0,0,0,0],\n",
    " [0,1,0,0,1,1,0,0,1,0,1,0,0],\n",
    " [0,1,0,0,1,1,0,0,1,1,1,0,0],\n",
    " [0,0,0,0,0,0,0,0,0,0,1,0,0],\n",
    " [0,0,0,0,0,0,0,1,1,1,0,0,0],\n",
    " [0,0,0,0,0,0,0,1,1,0,0,0,0]]\n",
    "Given the above grid, return 6. Note the answer is not 11, because the island must be connected 4-directionally.\n",
    "Example 2:\n",
    "\n",
    "[[0,0,0,0,0,0,0,0]]\n",
    "Given the above grid, return 0.\n",
    "Note: The length of each dimension in the given grid does not exceed 50."
   ]
  },
  {
   "cell_type": "code",
   "execution_count": null,
   "metadata": {},
   "outputs": [],
   "source": [
    "# My solution (148ms, 37.37%, 14.4MB, 17.14%)\n",
    "\n",
    "class Solution(object):\n",
    "    def search(self, i, j):\n",
    "        self.grid[i][j] = 0\n",
    "        self.island += 1\n",
    "        if i > 0 and self.grid[i-1][j] == 1:\n",
    "            self.search(i-1, j)\n",
    "        if i < self.m-1 and self.grid[i+1][j] == 1:\n",
    "            self.search(i+1, j)\n",
    "        if j > 0 and self.grid[i][j-1] == 1:\n",
    "            self.search(i, j-1)\n",
    "        if j < self.n-1 and self.grid[i][j+1] == 1:\n",
    "            self.search(i, j+1)\n",
    "        return\n",
    "\n",
    "\n",
    "    def maxAreaOfIsland(self, grid):\n",
    "        \"\"\"\n",
    "        :type grid: List[List[int]]\n",
    "        :rtype: int\n",
    "        \"\"\"\n",
    "        if len(grid) == 0:\n",
    "            return 0\n",
    "        self.m, self.n = len(grid), len(grid[0])\n",
    "        self.grid = grid\n",
    "        res = 0\n",
    "        self.island = 0\n",
    "        for i in range(self.m):\n",
    "            for j in range(self.n):\n",
    "                if self.grid[i][j] == 1:\n",
    "                    self.island = 0\n",
    "                    self.search(i, j)\n",
    "                    res = max(res, self.island)\n",
    "        return res"
   ]
  }
 ],
 "metadata": {
  "kernelspec": {
   "display_name": "Python 3",
   "language": "python",
   "name": "python3"
  },
  "language_info": {
   "codemirror_mode": {
    "name": "ipython",
    "version": 3
   },
   "file_extension": ".py",
   "mimetype": "text/x-python",
   "name": "python",
   "nbconvert_exporter": "python",
   "pygments_lexer": "ipython3",
   "version": "3.6.7"
  },
  "varInspector": {
   "cols": {
    "lenName": 16,
    "lenType": 16,
    "lenVar": 40
   },
   "kernels_config": {
    "python": {
     "delete_cmd_postfix": "",
     "delete_cmd_prefix": "del ",
     "library": "var_list.py",
     "varRefreshCmd": "print(var_dic_list())"
    },
    "r": {
     "delete_cmd_postfix": ") ",
     "delete_cmd_prefix": "rm(",
     "library": "var_list.r",
     "varRefreshCmd": "cat(var_dic_list()) "
    }
   },
   "types_to_exclude": [
    "module",
    "function",
    "builtin_function_or_method",
    "instance",
    "_Feature"
   ],
   "window_display": false
  }
 },
 "nbformat": 4,
 "nbformat_minor": 2
}
