{
 "cells": [
  {
   "cell_type": "markdown",
   "metadata": {},
   "source": [
    "Koko loves to eat bananas.  There are N piles of bananas, the i-th pile has piles[i] bananas.  The guards have gone and will come back in H hours.\n",
    "\n",
    "Koko can decide her bananas-per-hour eating speed of K.  Each hour, she chooses some pile of bananas, and eats K bananas from that pile.  If the pile has less than K bananas, she eats all of them instead, and won't eat any more bananas during this hour.\n",
    "\n",
    "Koko likes to eat slowly, but still wants to finish eating all the bananas before the guards come back.\n",
    "\n",
    "Return the minimum integer K such that she can eat all the bananas within H hours.\n",
    "\n",
    " \n",
    "\n",
    "Example 1:\n",
    "\n",
    "Input: piles = [3,6,7,11], H = 8\n",
    "Output: 4\n",
    "Example 2:\n",
    "\n",
    "Input: piles = [30,11,23,4,20], H = 5\n",
    "Output: 30\n",
    "Example 3:\n",
    "\n",
    "Input: piles = [30,11,23,4,20], H = 6\n",
    "Output: 23\n",
    " \n",
    "\n",
    "Note:\n",
    "\n",
    "1 <= piles.length <= 10^4\n",
    "piles.length <= H <= 10^9\n",
    "1 <= piles[i] <= 10^9"
   ]
  },
  {
   "cell_type": "code",
   "execution_count": null,
   "metadata": {},
   "outputs": [],
   "source": [
    "# Solution found online (932ms, 6.25%, 12.8MB, 79.41%)\n",
    "\n",
    "class Solution(object):\n",
    "    def minEatingSpeed(self, piles, H):\n",
    "        \"\"\"\n",
    "        :type piles: List[int]\n",
    "        :type H: int\n",
    "        :rtype: int\n",
    "        \"\"\"\n",
    "        import math\n",
    "        if H >= sum(piles):\n",
    "            return 1\n",
    "        k_min, k_max = 1, max(piles)\n",
    "        l_k = []\n",
    "        while True:  #二分查找\n",
    "            k_temp = int((k_min+k_max)/2)\n",
    "            h = 0\n",
    "            for p in piles:\n",
    "                h += math.ceil(float(p)/float(k_temp))\n",
    "            if h == H:\n",
    "                while True:\n",
    "                    k_temp -= 1\n",
    "                    h = 0\n",
    "                    for p in piles:\n",
    "                        h += int(math.ceil(float(p)/float(k_temp)))\n",
    "                    if h != H:\n",
    "                        return k_temp + 1\n",
    "            elif h > H:\n",
    "                l_k.append(k_temp)\n",
    "                k_min = max(k_temp, k_min+1)\n",
    "            else:\n",
    "                if k_temp-1 in l_k:\n",
    "                    return k_temp\n",
    "                k_max = min(k_temp, k_max-1)"
   ]
  }
 ],
 "metadata": {
  "kernelspec": {
   "display_name": "Python 3",
   "language": "python",
   "name": "python3"
  },
  "language_info": {
   "codemirror_mode": {
    "name": "ipython",
    "version": 3
   },
   "file_extension": ".py",
   "mimetype": "text/x-python",
   "name": "python",
   "nbconvert_exporter": "python",
   "pygments_lexer": "ipython3",
   "version": "3.6.7"
  },
  "varInspector": {
   "cols": {
    "lenName": 16,
    "lenType": 16,
    "lenVar": 40
   },
   "kernels_config": {
    "python": {
     "delete_cmd_postfix": "",
     "delete_cmd_prefix": "del ",
     "library": "var_list.py",
     "varRefreshCmd": "print(var_dic_list())"
    },
    "r": {
     "delete_cmd_postfix": ") ",
     "delete_cmd_prefix": "rm(",
     "library": "var_list.r",
     "varRefreshCmd": "cat(var_dic_list()) "
    }
   },
   "types_to_exclude": [
    "module",
    "function",
    "builtin_function_or_method",
    "instance",
    "_Feature"
   ],
   "window_display": false
  }
 },
 "nbformat": 4,
 "nbformat_minor": 2
}
