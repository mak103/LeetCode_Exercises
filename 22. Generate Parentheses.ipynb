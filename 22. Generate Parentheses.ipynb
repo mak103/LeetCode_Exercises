{
 "cells": [
  {
   "cell_type": "markdown",
   "metadata": {},
   "source": [
    "Given n pairs of parentheses, write a function to generate all combinations of well-formed parentheses.\n",
    "\n",
    "For example, given n = 3, a solution set is:\n",
    "\n",
    "[\n",
    "  \"((()))\",\n",
    "  \"(()())\",\n",
    "  \"(())()\",\n",
    "  \"()(())\",\n",
    "  \"()()()\"\n",
    "]"
   ]
  },
  {
   "cell_type": "code",
   "execution_count": null,
   "metadata": {
    "ExecuteTime": {
     "end_time": "2019-03-27T10:30:19.823625Z",
     "start_time": "2019-03-27T10:30:19.818639Z"
    }
   },
   "outputs": [],
   "source": [
    "class Solution(object):\n",
    "    def generateParenthesis(self, n):\n",
    "        \"\"\"\n",
    "        :type n: int\n",
    "        :rtype: List[str]\n",
    "        \"\"\"\n",
    "        if n == 0:\n",
    "            return\n",
    "        res = [\"()\"]\n",
    "        n -= 1\n",
    "        while n > 0:\n",
    "            temp = []\n",
    "            for item in res:\n",
    "                temp_item = self.iter_gp(item)\n",
    "                for i in temp_item:\n",
    "                    if i not in temp:\n",
    "                        temp.append(i)\n",
    "            res = temp\n",
    "            n -= 1\n",
    "        return res\n",
    "        \n",
    "    def iter_gp(self, item):\n",
    "        \"\"\"\n",
    "        In this function, first turn \"(\" into 1, \")\" into -1. Variable i varies from the \n",
    "        beginning to the end. If the sum before i equals to 0, it means that this place\n",
    "        can add a \"(\". Then start j from i to the end. if the sum between i and j equals\n",
    "        to 0, it means that the place of j can add a \")\".\n",
    "        It has to check repeated elements.\n",
    "        \"\"\"\n",
    "        temp, res = [], []\n",
    "        for i in item:\n",
    "            if i == \"(\":\n",
    "                temp.append(1)\n",
    "            else:\n",
    "                temp.append(-1)\n",
    "                \n",
    "        for i in range(len(temp)):\n",
    "            if sum(temp[:i]) != 0:\n",
    "                continue\n",
    "            else:\n",
    "                for j in range (i, len(temp)+1):\n",
    "                    if sum(temp[i:j]) == 0:\n",
    "                        res.append(item[:i]+'('+item[i:j]+')'+item[j:])\n",
    "        return res"
   ]
  }
 ],
 "metadata": {
  "kernelspec": {
   "display_name": "Python 3",
   "language": "python",
   "name": "python3"
  },
  "language_info": {
   "codemirror_mode": {
    "name": "ipython",
    "version": 3
   },
   "file_extension": ".py",
   "mimetype": "text/x-python",
   "name": "python",
   "nbconvert_exporter": "python",
   "pygments_lexer": "ipython3",
   "version": "3.6.7"
  },
  "varInspector": {
   "cols": {
    "lenName": 16,
    "lenType": 16,
    "lenVar": 40
   },
   "kernels_config": {
    "python": {
     "delete_cmd_postfix": "",
     "delete_cmd_prefix": "del ",
     "library": "var_list.py",
     "varRefreshCmd": "print(var_dic_list())"
    },
    "r": {
     "delete_cmd_postfix": ") ",
     "delete_cmd_prefix": "rm(",
     "library": "var_list.r",
     "varRefreshCmd": "cat(var_dic_list()) "
    }
   },
   "types_to_exclude": [
    "module",
    "function",
    "builtin_function_or_method",
    "instance",
    "_Feature"
   ],
   "window_display": false
  }
 },
 "nbformat": 4,
 "nbformat_minor": 2
}
