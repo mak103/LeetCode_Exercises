{
 "cells": [
  {
   "cell_type": "markdown",
   "metadata": {},
   "source": [
    "On a N * N grid, we place some 1 * 1 * 1 cubes.\n",
    "\n",
    "Each value v = grid[i][j] represents a tower of v cubes placed on top of grid cell (i, j).\n",
    "\n",
    "Return the total surface area of the resulting shapes.\n",
    "\n",
    " \n",
    "\n",
    "Example 1:\n",
    "\n",
    "Input: [[2]]\n",
    "Output: 10\n",
    "Example 2:\n",
    "\n",
    "Input: [[1,2],[3,4]]\n",
    "Output: 34\n",
    "Example 3:\n",
    "\n",
    "Input: [[1,0],[0,2]]\n",
    "Output: 16\n",
    "Example 4:\n",
    "\n",
    "Input: [[1,1,1],[1,0,1],[1,1,1]]\n",
    "Output: 32\n",
    "Example 5:\n",
    "\n",
    "Input: [[2,2,2],[2,1,2],[2,2,2]]\n",
    "Output: 46\n",
    " \n",
    "\n",
    "Note:\n",
    "\n",
    "1 <= N <= 50\n",
    "0 <= grid[i][j] <= 50"
   ]
  },
  {
   "cell_type": "code",
   "execution_count": null,
   "metadata": {},
   "outputs": [],
   "source": [
    "# My solution (76ms, 68.75%, 12.7MB, 9.09%)\n",
    "\n",
    "class Solution(object):\n",
    "    def surfaceArea(self, grid):\n",
    "        \"\"\"\n",
    "        :type grid: List[List[int]]\n",
    "        :rtype: int\n",
    "        \"\"\"\n",
    "        N = len(grid)\n",
    "        res = 2*N*N\n",
    "        for i in range(N):\n",
    "            for j in range(N):\n",
    "                if grid[i][j] == 0:\n",
    "                    res -= 2\n",
    "                    continue\n",
    "                if i == 0:\n",
    "                    res += grid[i][j]\n",
    "                else:\n",
    "                    res += max(0, grid[i][j]-grid[i-1][j])\n",
    "                if i == N-1:\n",
    "                    res += grid[i][j]\n",
    "                else:\n",
    "                    res += max(0, grid[i][j]-grid[i+1][j])\n",
    "                if j == 0:\n",
    "                    res += grid[i][j]\n",
    "                else:\n",
    "                    res += max(0, grid[i][j]-grid[i][j-1])\n",
    "                if j == N-1:\n",
    "                    res += grid[i][j]\n",
    "                else:\n",
    "                    res += max(0, grid[i][j]-grid[i][j+1])\n",
    "        return res"
   ]
  }
 ],
 "metadata": {
  "kernelspec": {
   "display_name": "Python 3",
   "language": "python",
   "name": "python3"
  },
  "language_info": {
   "codemirror_mode": {
    "name": "ipython",
    "version": 3
   },
   "file_extension": ".py",
   "mimetype": "text/x-python",
   "name": "python",
   "nbconvert_exporter": "python",
   "pygments_lexer": "ipython3",
   "version": "3.6.7"
  },
  "varInspector": {
   "cols": {
    "lenName": 16,
    "lenType": 16,
    "lenVar": 40
   },
   "kernels_config": {
    "python": {
     "delete_cmd_postfix": "",
     "delete_cmd_prefix": "del ",
     "library": "var_list.py",
     "varRefreshCmd": "print(var_dic_list())"
    },
    "r": {
     "delete_cmd_postfix": ") ",
     "delete_cmd_prefix": "rm(",
     "library": "var_list.r",
     "varRefreshCmd": "cat(var_dic_list()) "
    }
   },
   "types_to_exclude": [
    "module",
    "function",
    "builtin_function_or_method",
    "instance",
    "_Feature"
   ],
   "window_display": false
  }
 },
 "nbformat": 4,
 "nbformat_minor": 2
}
