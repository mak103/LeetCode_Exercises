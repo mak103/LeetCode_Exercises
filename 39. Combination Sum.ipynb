{
 "cells": [
  {
   "cell_type": "markdown",
   "metadata": {},
   "source": [
    "Given a set of candidate numbers (candidates) (without duplicates) and a target number (target), find all unique combinations in candidates where the candidate numbers sums to target.\n",
    "\n",
    "The same repeated number may be chosen from candidates unlimited number of times.\n",
    "\n",
    "Note:\n",
    "\n",
    "All numbers (including target) will be positive integers.\n",
    "The solution set must not contain duplicate combinations.\n",
    "Example 1:\n",
    "\n",
    "Input: candidates = [2,3,6,7], target = 7,\n",
    "A solution set is:\n",
    "[\n",
    "  [7],\n",
    "  [2,2,3]\n",
    "]\n",
    "Example 2:\n",
    "\n",
    "Input: candidates = [2,3,5], target = 8,\n",
    "A solution set is:\n",
    "[\n",
    "  [2,2,2,2],\n",
    "  [2,3,3],\n",
    "  [3,5]\n",
    "]"
   ]
  },
  {
   "cell_type": "code",
   "execution_count": null,
   "metadata": {},
   "outputs": [],
   "source": [
    "# My solution (recursion)\n",
    "class Solution(object):\n",
    "    def combinationSum(self, candidates, target):\n",
    "        \"\"\"\n",
    "        :type candidates: List[int]\n",
    "        :type target: int\n",
    "        :rtype: List[List[int]]\n",
    "        \"\"\"\n",
    "        res = []\n",
    "        candidates = sorted(candidates)\n",
    "        for i in range(len(candidates)):\n",
    "            if target > candidates[i]:\n",
    "                res_ = self.combinationSum(candidates[i:], target-candidates[i])\n",
    "                for r in res_:\n",
    "                    res.append([candidates[i]]+r)\n",
    "            elif target == candidates[i]:\n",
    "                res.append([target])\n",
    "                break\n",
    "            else:\n",
    "                break\n",
    "        return res"
   ]
  }
 ],
 "metadata": {
  "kernelspec": {
   "display_name": "Python 3",
   "language": "python",
   "name": "python3"
  },
  "language_info": {
   "codemirror_mode": {
    "name": "ipython",
    "version": 3
   },
   "file_extension": ".py",
   "mimetype": "text/x-python",
   "name": "python",
   "nbconvert_exporter": "python",
   "pygments_lexer": "ipython3",
   "version": "3.6.7"
  },
  "varInspector": {
   "cols": {
    "lenName": 16,
    "lenType": 16,
    "lenVar": 40
   },
   "kernels_config": {
    "python": {
     "delete_cmd_postfix": "",
     "delete_cmd_prefix": "del ",
     "library": "var_list.py",
     "varRefreshCmd": "print(var_dic_list())"
    },
    "r": {
     "delete_cmd_postfix": ") ",
     "delete_cmd_prefix": "rm(",
     "library": "var_list.r",
     "varRefreshCmd": "cat(var_dic_list()) "
    }
   },
   "types_to_exclude": [
    "module",
    "function",
    "builtin_function_or_method",
    "instance",
    "_Feature"
   ],
   "window_display": false
  }
 },
 "nbformat": 4,
 "nbformat_minor": 2
}
