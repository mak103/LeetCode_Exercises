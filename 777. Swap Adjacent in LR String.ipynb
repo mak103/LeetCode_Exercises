{
 "cells": [
  {
   "cell_type": "markdown",
   "metadata": {
    "ExecuteTime": {
     "end_time": "2020-03-05T09:40:54.935441Z",
     "start_time": "2020-03-05T09:40:54.926465Z"
    }
   },
   "source": [
    "In a string composed of 'L', 'R', and 'X' characters, like \"RXXLRXRXL\", a move consists of either replacing one occurrence of \"XL\" with \"LX\", or replacing one occurrence of \"RX\" with \"XR\". Given the starting string start and the ending string end, return True if and only if there exists a sequence of moves to transform one string to the other.\n",
    "\n",
    "Example:\n",
    "\n",
    "Input: start = \"RXXLRXRXL\", end = \"XRLXXRRLX\"\n",
    "Output: True\n",
    "Explanation:\n",
    "We can transform start to end following these steps:\n",
    "RXXLRXRXL ->\n",
    "XRXLRXRXL ->\n",
    "XRLXRXRXL ->\n",
    "XRLXXRRXL ->\n",
    "XRLXXRRLX\n",
    "Note:\n",
    "\n",
    "1 <= len(start) = len(end) <= 10000.\n",
    "Both start and end will only consist of characters in {'L', 'R', 'X'}."
   ]
  },
  {
   "cell_type": "code",
   "execution_count": null,
   "metadata": {},
   "outputs": [],
   "source": [
    "# My solution (112ms, 8.00%, 12MB, 71.43%)\n",
    "\n",
    "class Solution(object):\n",
    "    def canTransform(self, start, end):\n",
    "        \"\"\"\n",
    "        :type start: str\n",
    "        :type end: str\n",
    "        :rtype: bool\n",
    "        \"\"\"\n",
    "        s, e = '', ''\n",
    "        i_r_s, i_l_s, i_r_e, i_l_e = [], [], [], []\n",
    "        for i, n in enumerate(start):\n",
    "            if n != 'X':\n",
    "                s += n\n",
    "                if n == 'R':\n",
    "                    i_r_s.append(i)\n",
    "                else:\n",
    "                    i_l_s.append(i)\n",
    "        for i, n in enumerate(end):\n",
    "            if n != 'X':\n",
    "                e += n\n",
    "                if n == 'R':\n",
    "                    i_r_e.append(i)\n",
    "                else:\n",
    "                    i_l_e.append(i)\n",
    "        if s != e:\n",
    "            return False\n",
    "        else:\n",
    "            i_r, i_l = 0, 0\n",
    "            for i, n in enumerate(s):\n",
    "                if n == 'R': \n",
    "                    if i_r_s[i_r] > i_r_e[i_r]:\n",
    "                        return False\n",
    "                    else:\n",
    "                        i_r += 1\n",
    "                else: \n",
    "                    if i_l_s[i_l] < i_l_e[i_l]:\n",
    "                        return False\n",
    "                    else:\n",
    "                        i_l += 1\n",
    "            return True"
   ]
  }
 ],
 "metadata": {
  "kernelspec": {
   "display_name": "Python 3",
   "language": "python",
   "name": "python3"
  },
  "language_info": {
   "codemirror_mode": {
    "name": "ipython",
    "version": 3
   },
   "file_extension": ".py",
   "mimetype": "text/x-python",
   "name": "python",
   "nbconvert_exporter": "python",
   "pygments_lexer": "ipython3",
   "version": "3.6.7"
  },
  "varInspector": {
   "cols": {
    "lenName": 16,
    "lenType": 16,
    "lenVar": 40
   },
   "kernels_config": {
    "python": {
     "delete_cmd_postfix": "",
     "delete_cmd_prefix": "del ",
     "library": "var_list.py",
     "varRefreshCmd": "print(var_dic_list())"
    },
    "r": {
     "delete_cmd_postfix": ") ",
     "delete_cmd_prefix": "rm(",
     "library": "var_list.r",
     "varRefreshCmd": "cat(var_dic_list()) "
    }
   },
   "types_to_exclude": [
    "module",
    "function",
    "builtin_function_or_method",
    "instance",
    "_Feature"
   ],
   "window_display": false
  }
 },
 "nbformat": 4,
 "nbformat_minor": 2
}
