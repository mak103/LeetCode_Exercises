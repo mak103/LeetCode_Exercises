{
 "cells": [
  {
   "cell_type": "markdown",
   "metadata": {},
   "source": [
    "According to the Wikipedia's article: \"The Game of Life, also known simply as Life, is a cellular automaton devised by the British mathematician John Horton Conway in 1970.\"\n",
    "\n",
    "Given a board with m by n cells, each cell has an initial state live (1) or dead (0). Each cell interacts with its eight neighbors (horizontal, vertical, diagonal) using the following four rules (taken from the above Wikipedia article):\n",
    "\n",
    "Any live cell with fewer than two live neighbors dies, as if caused by under-population.\n",
    "Any live cell with two or three live neighbors lives on to the next generation.\n",
    "Any live cell with more than three live neighbors dies, as if by over-population..\n",
    "Any dead cell with exactly three live neighbors becomes a live cell, as if by reproduction.\n",
    "Write a function to compute the next state (after one update) of the board given its current state. The next state is created by applying the above rules simultaneously to every cell in the current state, where births and deaths occur simultaneously.\n",
    "\n",
    "Example:\n",
    "\n",
    "Input: \n",
    "[\n",
    "  [0,1,0],\n",
    "  [0,0,1],\n",
    "  [1,1,1],\n",
    "  [0,0,0]\n",
    "]\n",
    "Output: \n",
    "[\n",
    "  [0,0,0],\n",
    "  [1,0,1],\n",
    "  [0,1,1],\n",
    "  [0,1,0]\n",
    "]\n",
    "Follow up:\n",
    "\n",
    "Could you solve it in-place? Remember that the board needs to be updated at the same time: You cannot update some cells first and then use their updated values to update other cells.\n",
    "In this question, we represent the board using a 2D array. In principle, the board is infinite, which would cause problems when the active area encroaches the border of the array. How would you address these problems?"
   ]
  },
  {
   "cell_type": "code",
   "execution_count": null,
   "metadata": {},
   "outputs": [],
   "source": [
    "# My solution (36ms, 10.26%, 12.7MB, 11.11%)\n",
    "\n",
    "class Solution(object):\n",
    "    def gameOfLife(self, board):\n",
    "        \"\"\"\n",
    "        :type board: List[List[int]]\n",
    "        :rtype: None Do not return anything, modify board in-place instead.\n",
    "        \"\"\"\n",
    "        m, n = len(board), len(board[0])\n",
    "        changed = [[0 for i in range(n)] for j in range(m)]\n",
    "        for i in range(m):\n",
    "            for j in range(n):\n",
    "                temp = 0\n",
    "                if i > 0 and j > 0:\n",
    "                    temp += (board[i-1][j-1] + changed[i-1][j-1])%2\n",
    "                if i > 0:\n",
    "                    temp += (board[i-1][j] + changed[i-1][j])%2\n",
    "                if i > 0 and j < n-1:\n",
    "                    temp += (board[i-1][j+1] + changed[i-1][j+1])%2\n",
    "                if j > 0:\n",
    "                    temp += (board[i][j-1] + changed[i][j-1])%2\n",
    "                if j < n-1:\n",
    "                    temp += (board[i][j+1] + changed[i][j+1])%2\n",
    "                if i < m-1 and j > 0:\n",
    "                    temp += (board[i+1][j-1] + changed[i+1][j-1])%2\n",
    "                if i < m-1:\n",
    "                    temp += (board[i+1][j] + changed[i+1][j])%2\n",
    "                if i < m-1 and j < n-1:\n",
    "                    temp += (board[i+1][j+1] + changed[i+1][j+1])%2\n",
    "                if board[i][j] == 0:\n",
    "                    if temp == 3:\n",
    "                        board[i][j] = 1\n",
    "                        changed[i][j] = 1\n",
    "                    else:\n",
    "                        board[i][j] = 0\n",
    "                else:\n",
    "                    if temp < 2 or temp > 3:\n",
    "                        board[i][j] = 0\n",
    "                        changed[i][j] = 1\n",
    "                    else:\n",
    "                        board[i][j] = 1\n",
    "        return"
   ]
  }
 ],
 "metadata": {
  "kernelspec": {
   "display_name": "Python 3",
   "language": "python",
   "name": "python3"
  },
  "language_info": {
   "codemirror_mode": {
    "name": "ipython",
    "version": 3
   },
   "file_extension": ".py",
   "mimetype": "text/x-python",
   "name": "python",
   "nbconvert_exporter": "python",
   "pygments_lexer": "ipython3",
   "version": "3.6.7"
  },
  "varInspector": {
   "cols": {
    "lenName": 16,
    "lenType": 16,
    "lenVar": 40
   },
   "kernels_config": {
    "python": {
     "delete_cmd_postfix": "",
     "delete_cmd_prefix": "del ",
     "library": "var_list.py",
     "varRefreshCmd": "print(var_dic_list())"
    },
    "r": {
     "delete_cmd_postfix": ") ",
     "delete_cmd_prefix": "rm(",
     "library": "var_list.r",
     "varRefreshCmd": "cat(var_dic_list()) "
    }
   },
   "types_to_exclude": [
    "module",
    "function",
    "builtin_function_or_method",
    "instance",
    "_Feature"
   ],
   "window_display": false
  }
 },
 "nbformat": 4,
 "nbformat_minor": 2
}
