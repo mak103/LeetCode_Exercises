{
 "cells": [
  {
   "cell_type": "markdown",
   "metadata": {},
   "source": [
    "You are given a string, s, and a list of words, words, that are all of the same length. Find all starting indices of substring(s) in s that is a concatenation of each word in words exactly once and without any intervening characters.\n",
    "\n",
    " \n",
    "\n",
    "Example 1:\n",
    "\n",
    "Input:\n",
    "  s = \"barfoothefoobarman\",\n",
    "  words = [\"foo\",\"bar\"]\n",
    "Output: [0,9]\n",
    "Explanation: Substrings starting at index 0 and 9 are \"barfoo\" and \"foobar\" respectively.\n",
    "The output order does not matter, returning [9,0] is fine too.\n",
    "Example 2:\n",
    "\n",
    "Input:\n",
    "  s = \"wordgoodgoodgoodbestword\",\n",
    "  words = [\"word\",\"good\",\"best\",\"word\"]\n",
    "Output: []"
   ]
  },
  {
   "cell_type": "code",
   "execution_count": null,
   "metadata": {},
   "outputs": [],
   "source": [
    "# My solution (532ms, 62.53%, 12.2MB, 100%)\n",
    "\n",
    "class Solution(object):\n",
    "    def check(self, word, s, dict_words):\n",
    "        l_words = len(word)\n",
    "        dict_words[word] -= 1\n",
    "        if dict_words[word] == 0:\n",
    "            del dict_words[word]\n",
    "        while len(s) > 0:\n",
    "            temp = s[:l_words]\n",
    "            if temp in dict_words:\n",
    "                dict_words[temp] -= 1\n",
    "                if dict_words[temp] == 0:\n",
    "                    del dict_words[temp]\n",
    "            else:\n",
    "                return False\n",
    "            s = s[l_words:]\n",
    "        return True\n",
    "\n",
    "    def findSubstring(self, s, words):\n",
    "        \"\"\"\n",
    "        :type s: str\n",
    "        :type words: List[str]\n",
    "        :rtype: List[int]\n",
    "        \"\"\"\n",
    "        n_words = len(words)\n",
    "        if n_words == 0:\n",
    "            return []\n",
    "        l_words = len(words[0])\n",
    "        res = []\n",
    "        i = 0\n",
    "        dict_words = {}\n",
    "        for w in words:\n",
    "            if w in dict_words:\n",
    "                dict_words[w] += 1\n",
    "            else:\n",
    "                dict_words[w] = 1\n",
    "        while i+n_words*l_words <= len(s):\n",
    "            if s[i:i+l_words] in dict_words and i not in res:\n",
    "                word = s[i:i+l_words]\n",
    "                if self.check(word, s[i+l_words:i+n_words*l_words], dict_words.copy()):\n",
    "                    res.append(i)\n",
    "                    j = i+n_words*l_words\n",
    "                    index = i + l_words\n",
    "                    while j+l_words <= len(s):\n",
    "                        if s[j:j+l_words] == word:\n",
    "                            res.append(index)\n",
    "                            word = s[index:index+l_words]\n",
    "                            index += l_words\n",
    "                            j += l_words\n",
    "                        else:\n",
    "                            break\n",
    "            i += 1\n",
    "        return res"
   ]
  }
 ],
 "metadata": {
  "kernelspec": {
   "display_name": "Python 3",
   "language": "python",
   "name": "python3"
  },
  "language_info": {
   "codemirror_mode": {
    "name": "ipython",
    "version": 3
   },
   "file_extension": ".py",
   "mimetype": "text/x-python",
   "name": "python",
   "nbconvert_exporter": "python",
   "pygments_lexer": "ipython3",
   "version": "3.6.7"
  },
  "varInspector": {
   "cols": {
    "lenName": 16,
    "lenType": 16,
    "lenVar": 40
   },
   "kernels_config": {
    "python": {
     "delete_cmd_postfix": "",
     "delete_cmd_prefix": "del ",
     "library": "var_list.py",
     "varRefreshCmd": "print(var_dic_list())"
    },
    "r": {
     "delete_cmd_postfix": ") ",
     "delete_cmd_prefix": "rm(",
     "library": "var_list.r",
     "varRefreshCmd": "cat(var_dic_list()) "
    }
   },
   "types_to_exclude": [
    "module",
    "function",
    "builtin_function_or_method",
    "instance",
    "_Feature"
   ],
   "window_display": false
  }
 },
 "nbformat": 4,
 "nbformat_minor": 2
}
