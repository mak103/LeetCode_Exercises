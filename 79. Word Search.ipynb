{
 "cells": [
  {
   "cell_type": "markdown",
   "metadata": {},
   "source": [
    "Given a 2D board and a word, find if the word exists in the grid.\n",
    "\n",
    "The word can be constructed from letters of sequentially adjacent cell, where \"adjacent\" cells are those horizontally or vertically neighboring. The same letter cell may not be used more than once.\n",
    "\n",
    "Example:\n",
    "\n",
    "board =\n",
    "[\n",
    "  ['A','B','C','E'],\n",
    "  ['S','F','C','S'],\n",
    "  ['A','D','E','E']\n",
    "]\n",
    "\n",
    "Given word = \"ABCCED\", return true.\n",
    "Given word = \"SEE\", return true.\n",
    "Given word = \"ABCB\", return false."
   ]
  },
  {
   "cell_type": "code",
   "execution_count": null,
   "metadata": {},
   "outputs": [],
   "source": [
    "# My solution\n",
    "class Solution(object):\n",
    "    def search(self, list_coor, word):\n",
    "        if len(word) == 0:\n",
    "            return True\n",
    "        coor = list_coor[-1]\n",
    "        i, j = coor[0], coor[1]\n",
    "        if i > 0:\n",
    "            if self.board[i-1][j] == word[0] and [i-1,j] not in list_coor:\n",
    "                if self.search(list_coor+[[i-1,j]],word[1:]):\n",
    "                    return True\n",
    "        if i < self.m-1:\n",
    "            if self.board[i+1][j] == word[0] and [i+1,j] not in list_coor:\n",
    "                if self.search(list_coor+[[i+1,j]],word[1:]):\n",
    "                    return True\n",
    "        if j > 0:\n",
    "            if self.board[i][j-1] == word[0] and [i,j-1] not in list_coor:\n",
    "                if self.search(list_coor+[[i,j-1]],word[1:]):\n",
    "                    return True\n",
    "        if j < self.n-1:\n",
    "            if self.board[i][j+1] == word[0] and [i,j+1] not in list_coor:\n",
    "                if self.search(list_coor+[[i,j+1]],word[1:]):\n",
    "                    return True\n",
    "        return False\n",
    "\n",
    "    def exist(self, board, word):\n",
    "        \"\"\"\n",
    "        :type board: List[List[str]]\n",
    "        :type word: str\n",
    "        :rtype: bool\n",
    "        \"\"\"\n",
    "        if len(word) == 0:\n",
    "            return True\n",
    "        self.board = board\n",
    "        self.m, self.n = len(board), len(board[0])\n",
    "        for i in range(self.m):\n",
    "            for j in range(self.n):\n",
    "                if board[i][j] == word[0]:\n",
    "                    if self.search([[i,j]], word[1:]):\n",
    "                        return True\n",
    "        return False"
   ]
  }
 ],
 "metadata": {
  "kernelspec": {
   "display_name": "Python 3",
   "language": "python",
   "name": "python3"
  },
  "language_info": {
   "codemirror_mode": {
    "name": "ipython",
    "version": 3
   },
   "file_extension": ".py",
   "mimetype": "text/x-python",
   "name": "python",
   "nbconvert_exporter": "python",
   "pygments_lexer": "ipython3",
   "version": "3.6.7"
  },
  "varInspector": {
   "cols": {
    "lenName": 16,
    "lenType": 16,
    "lenVar": 40
   },
   "kernels_config": {
    "python": {
     "delete_cmd_postfix": "",
     "delete_cmd_prefix": "del ",
     "library": "var_list.py",
     "varRefreshCmd": "print(var_dic_list())"
    },
    "r": {
     "delete_cmd_postfix": ") ",
     "delete_cmd_prefix": "rm(",
     "library": "var_list.r",
     "varRefreshCmd": "cat(var_dic_list()) "
    }
   },
   "types_to_exclude": [
    "module",
    "function",
    "builtin_function_or_method",
    "instance",
    "_Feature"
   ],
   "window_display": false
  }
 },
 "nbformat": 4,
 "nbformat_minor": 2
}
