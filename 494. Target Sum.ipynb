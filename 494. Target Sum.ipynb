{
 "cells": [
  {
   "cell_type": "markdown",
   "metadata": {},
   "source": [
    "You are given a list of non-negative integers, a1, a2, ..., an, and a target, S. Now you have 2 symbols + and -. For each integer, you should choose one from + and - as its new symbol.\n",
    "\n",
    "Find out how many ways to assign symbols to make sum of integers equal to target S.\n",
    "\n",
    "Example 1:\n",
    "Input: nums is [1, 1, 1, 1, 1], S is 3. \n",
    "Output: 5\n",
    "Explanation: \n",
    "\n",
    "-1+1+1+1+1 = 3\n",
    "+1-1+1+1+1 = 3\n",
    "+1+1-1+1+1 = 3\n",
    "+1+1+1-1+1 = 3\n",
    "+1+1+1+1-1 = 3\n",
    "\n",
    "There are 5 ways to assign symbols to make the sum of nums be target 3.\n",
    "Note:\n",
    "The length of the given array is positive and will not exceed 20.\n",
    "The sum of elements in the given array will not exceed 1000.\n",
    "Your output answer is guaranteed to be fitted in a 32-bit integer."
   ]
  },
  {
   "cell_type": "code",
   "execution_count": null,
   "metadata": {},
   "outputs": [],
   "source": [
    "# My solution (2744ms)\n",
    "class Solution(object):\n",
    "    def findTargetSumWaysNoZero(self, nums, S):\n",
    "        if sum(nums) < abs(S):\n",
    "            return 0\n",
    "        if len(nums) == 1:\n",
    "            if nums[0] == abs(S):\n",
    "                return 1\n",
    "            else:\n",
    "                return 0\n",
    "        else:\n",
    "            return self.findTargetSumWaysNoZero(nums[1:], S+nums[0])+self.findTargetSumWaysNoZero(nums[1:], S-nums[0])\n",
    "\n",
    "    def findTargetSumWays(self, nums, S):\n",
    "        \"\"\"\n",
    "        :type nums: List[int]\n",
    "        :type S: int\n",
    "        :rtype: int\n",
    "        \"\"\"\n",
    "        nums = sorted(nums)[::-1]\n",
    "        n_0 = 0\n",
    "        while len(nums)>0 and nums[-1] == 0:\n",
    "            n_0 += 1\n",
    "            nums.pop()\n",
    "        if len(nums) == 0 and S == 0:\n",
    "            return 2**n_0\n",
    "        elif len(nums) == 0 and S != 0:\n",
    "            return 0\n",
    "        else:\n",
    "            res = self.findTargetSumWaysNoZero(nums, S)\n",
    "            if res > 0:\n",
    "                return res * (2**n_0)\n",
    "            else:\n",
    "                return res"
   ]
  }
 ],
 "metadata": {
  "kernelspec": {
   "display_name": "Python 3",
   "language": "python",
   "name": "python3"
  },
  "language_info": {
   "codemirror_mode": {
    "name": "ipython",
    "version": 3
   },
   "file_extension": ".py",
   "mimetype": "text/x-python",
   "name": "python",
   "nbconvert_exporter": "python",
   "pygments_lexer": "ipython3",
   "version": "3.6.7"
  },
  "varInspector": {
   "cols": {
    "lenName": 16,
    "lenType": 16,
    "lenVar": 40
   },
   "kernels_config": {
    "python": {
     "delete_cmd_postfix": "",
     "delete_cmd_prefix": "del ",
     "library": "var_list.py",
     "varRefreshCmd": "print(var_dic_list())"
    },
    "r": {
     "delete_cmd_postfix": ") ",
     "delete_cmd_prefix": "rm(",
     "library": "var_list.r",
     "varRefreshCmd": "cat(var_dic_list()) "
    }
   },
   "types_to_exclude": [
    "module",
    "function",
    "builtin_function_or_method",
    "instance",
    "_Feature"
   ],
   "window_display": false
  }
 },
 "nbformat": 4,
 "nbformat_minor": 2
}
